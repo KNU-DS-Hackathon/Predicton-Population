{
 "cells": [
  {
   "cell_type": "code",
   "execution_count": 2,
   "metadata": {
    "collapsed": false,
    "pycharm": {
     "name": "#%%\n"
    }
   },
   "outputs": [],
   "source": [
    "import numpy as np\n",
    "import pandas as pd\n",
    "from sklearn.model_selection import train_test_split\n",
    "from sklearn.metrics import mean_squared_error\n",
    "import matplotlib.pyplot as plt\n",
    "from sklearn.preprocessing import MinMaxScaler\n",
    "from tensorflow.keras.models import Sequential\n",
    "from tensorflow.keras.layers import LSTM, Dense\n",
    "import tensorflow as tf\n",
    "import warnings\n",
    "\n",
    "warnings.filterwarnings('ignore')\n",
    "plt.rc('font', family='AppleGothic')"
   ]
  },
  {
   "cell_type": "code",
   "execution_count": 4,
   "metadata": {
    "collapsed": false,
    "pycharm": {
     "name": "#%%\n"
    }
   },
   "outputs": [],
   "source": [
    "df = pd.read_csv('./data/25_0.99.csv', encoding='utf-8')\n",
    "use_cols = ['총인구수(명)', '유치원 수', '초등학교 수', '출생건수', '사망건수', '혼인건수', '이혼건수', '학령인구(명)']"
   ]
  },
  {
   "cell_type": "code",
   "execution_count": 5,
   "metadata": {
    "collapsed": false,
    "pycharm": {
     "name": "#%%\n"
    }
   },
   "outputs": [
    {
     "data": {
      "text/html": [
       "<div>\n",
       "<style scoped>\n",
       "    .dataframe tbody tr th:only-of-type {\n",
       "        vertical-align: middle;\n",
       "    }\n",
       "\n",
       "    .dataframe tbody tr th {\n",
       "        vertical-align: top;\n",
       "    }\n",
       "\n",
       "    .dataframe thead th {\n",
       "        text-align: right;\n",
       "    }\n",
       "</style>\n",
       "<table border=\"1\" class=\"dataframe\">\n",
       "  <thead>\n",
       "    <tr style=\"text-align: right;\">\n",
       "      <th></th>\n",
       "      <th>행정구역(시도)</th>\n",
       "      <th>행정구역(시군구)</th>\n",
       "      <th>연도</th>\n",
       "      <th>총인구수(명)</th>\n",
       "      <th>유치원 수</th>\n",
       "      <th>초등학교 수</th>\n",
       "      <th>출생건수</th>\n",
       "      <th>사망건수</th>\n",
       "      <th>혼인건수</th>\n",
       "      <th>이혼건수</th>\n",
       "      <th>학령인구(명)</th>\n",
       "      <th>총인구수-학령인구(명)</th>\n",
       "      <th>행정구역</th>\n",
       "    </tr>\n",
       "  </thead>\n",
       "  <tbody>\n",
       "    <tr>\n",
       "      <th>0</th>\n",
       "      <td>서울특별시</td>\n",
       "      <td>종로구</td>\n",
       "      <td>2010</td>\n",
       "      <td>172726.339307</td>\n",
       "      <td>17.207303</td>\n",
       "      <td>14.099772</td>\n",
       "      <td>1131.225264</td>\n",
       "      <td>858.836789</td>\n",
       "      <td>1027.057757</td>\n",
       "      <td>400.418411</td>\n",
       "      <td>29164</td>\n",
       "      <td>143148.034810</td>\n",
       "      <td>서울특별시 종로구</td>\n",
       "    </tr>\n",
       "    <tr>\n",
       "      <th>1</th>\n",
       "      <td>서울특별시</td>\n",
       "      <td>중구</td>\n",
       "      <td>2010</td>\n",
       "      <td>135371.879218</td>\n",
       "      <td>13.246087</td>\n",
       "      <td>12.118332</td>\n",
       "      <td>1193.321585</td>\n",
       "      <td>679.681237</td>\n",
       "      <td>1064.583520</td>\n",
       "      <td>382.528583</td>\n",
       "      <td>19628</td>\n",
       "      <td>115229.132986</td>\n",
       "      <td>서울특별시 중구</td>\n",
       "    </tr>\n",
       "    <tr>\n",
       "      <th>2</th>\n",
       "      <td>서울특별시</td>\n",
       "      <td>용산구</td>\n",
       "      <td>2010</td>\n",
       "      <td>246401.718734</td>\n",
       "      <td>19.199748</td>\n",
       "      <td>15.095855</td>\n",
       "      <td>2325.774097</td>\n",
       "      <td>1090.664931</td>\n",
       "      <td>1793.561191</td>\n",
       "      <td>531.297854</td>\n",
       "      <td>37318</td>\n",
       "      <td>208715.862336</td>\n",
       "      <td>서울특별시 용산구</td>\n",
       "    </tr>\n",
       "    <tr>\n",
       "      <th>3</th>\n",
       "      <td>서울특별시</td>\n",
       "      <td>성동구</td>\n",
       "      <td>2010</td>\n",
       "      <td>309936.996480</td>\n",
       "      <td>31.065775</td>\n",
       "      <td>20.036777</td>\n",
       "      <td>2892.327396</td>\n",
       "      <td>1229.538600</td>\n",
       "      <td>2309.245108</td>\n",
       "      <td>673.877745</td>\n",
       "      <td>51562</td>\n",
       "      <td>258176.195522</td>\n",
       "      <td>서울특별시 성동구</td>\n",
       "    </tr>\n",
       "    <tr>\n",
       "      <th>4</th>\n",
       "      <td>서울특별시</td>\n",
       "      <td>광진구</td>\n",
       "      <td>2010</td>\n",
       "      <td>375938.296324</td>\n",
       "      <td>41.959246</td>\n",
       "      <td>22.030707</td>\n",
       "      <td>3371.468618</td>\n",
       "      <td>1293.039174</td>\n",
       "      <td>2674.059212</td>\n",
       "      <td>811.703659</td>\n",
       "      <td>67422</td>\n",
       "      <td>308398.915752</td>\n",
       "      <td>서울특별시 광진구</td>\n",
       "    </tr>\n",
       "    <tr>\n",
       "      <th>...</th>\n",
       "      <td>...</td>\n",
       "      <td>...</td>\n",
       "      <td>...</td>\n",
       "      <td>...</td>\n",
       "      <td>...</td>\n",
       "      <td>...</td>\n",
       "      <td>...</td>\n",
       "      <td>...</td>\n",
       "      <td>...</td>\n",
       "      <td>...</td>\n",
       "      <td>...</td>\n",
       "      <td>...</td>\n",
       "      <td>...</td>\n",
       "    </tr>\n",
       "    <tr>\n",
       "      <th>2894</th>\n",
       "      <td>경상남도</td>\n",
       "      <td>함양군</td>\n",
       "      <td>2022</td>\n",
       "      <td>37708.001579</td>\n",
       "      <td>11.995152</td>\n",
       "      <td>12.996096</td>\n",
       "      <td>76.182877</td>\n",
       "      <td>667.297593</td>\n",
       "      <td>90.021510</td>\n",
       "      <td>60.017565</td>\n",
       "      <td>4135</td>\n",
       "      <td>33570.604395</td>\n",
       "      <td>경상남도 함양군</td>\n",
       "    </tr>\n",
       "    <tr>\n",
       "      <th>2895</th>\n",
       "      <td>경상남도</td>\n",
       "      <td>거창군</td>\n",
       "      <td>2022</td>\n",
       "      <td>60160.210000</td>\n",
       "      <td>15.960000</td>\n",
       "      <td>16.960000</td>\n",
       "      <td>174.010000</td>\n",
       "      <td>802.640000</td>\n",
       "      <td>162.270000</td>\n",
       "      <td>93.660000</td>\n",
       "      <td>8548</td>\n",
       "      <td>51656.340000</td>\n",
       "      <td>경상남도 거창군</td>\n",
       "    </tr>\n",
       "    <tr>\n",
       "      <th>2896</th>\n",
       "      <td>경상남도</td>\n",
       "      <td>합천군</td>\n",
       "      <td>2022</td>\n",
       "      <td>42024.110000</td>\n",
       "      <td>14.930000</td>\n",
       "      <td>16.920000</td>\n",
       "      <td>96.910000</td>\n",
       "      <td>894.950000</td>\n",
       "      <td>88.670000</td>\n",
       "      <td>70.920000</td>\n",
       "      <td>3385</td>\n",
       "      <td>38644.640000</td>\n",
       "      <td>경상남도 합천군</td>\n",
       "    </tr>\n",
       "    <tr>\n",
       "      <th>2897</th>\n",
       "      <td>제주특별자치도</td>\n",
       "      <td>제주시</td>\n",
       "      <td>2022</td>\n",
       "      <td>493389.000000</td>\n",
       "      <td>74.000000</td>\n",
       "      <td>69.000000</td>\n",
       "      <td>2766.000000</td>\n",
       "      <td>3281.000000</td>\n",
       "      <td>2034.000000</td>\n",
       "      <td>1102.000000</td>\n",
       "      <td>84346</td>\n",
       "      <td>409043.000000</td>\n",
       "      <td>제주특별자치도 제주시</td>\n",
       "    </tr>\n",
       "    <tr>\n",
       "      <th>2898</th>\n",
       "      <td>제주특별자치도</td>\n",
       "      <td>서귀포시</td>\n",
       "      <td>2022</td>\n",
       "      <td>184770.000000</td>\n",
       "      <td>45.000000</td>\n",
       "      <td>45.000000</td>\n",
       "      <td>833.000000</td>\n",
       "      <td>1525.000000</td>\n",
       "      <td>684.000000</td>\n",
       "      <td>462.000000</td>\n",
       "      <td>28174</td>\n",
       "      <td>156596.000000</td>\n",
       "      <td>제주특별자치도 서귀포시</td>\n",
       "    </tr>\n",
       "  </tbody>\n",
       "</table>\n",
       "<p>2899 rows × 13 columns</p>\n",
       "</div>"
      ],
      "text/plain": [
       "     행정구역(시도) 행정구역(시군구)    연도  ...  학령인구(명)   총인구수-학령인구(명)          행정구역\n",
       "0       서울특별시       종로구  2010  ...    29164  143148.034810     서울특별시 종로구\n",
       "1       서울특별시        중구  2010  ...    19628  115229.132986      서울특별시 중구\n",
       "2       서울특별시       용산구  2010  ...    37318  208715.862336     서울특별시 용산구\n",
       "3       서울특별시       성동구  2010  ...    51562  258176.195522     서울특별시 성동구\n",
       "4       서울특별시       광진구  2010  ...    67422  308398.915752     서울특별시 광진구\n",
       "...       ...       ...   ...  ...      ...            ...           ...\n",
       "2894     경상남도       함양군  2022  ...     4135   33570.604395      경상남도 함양군\n",
       "2895     경상남도       거창군  2022  ...     8548   51656.340000      경상남도 거창군\n",
       "2896     경상남도       합천군  2022  ...     3385   38644.640000      경상남도 합천군\n",
       "2897  제주특별자치도       제주시  2022  ...    84346  409043.000000   제주특별자치도 제주시\n",
       "2898  제주특별자치도      서귀포시  2022  ...    28174  156596.000000  제주특별자치도 서귀포시\n",
       "\n",
       "[2899 rows x 13 columns]"
      ]
     },
     "execution_count": 5,
     "metadata": {},
     "output_type": "execute_result"
    }
   ],
   "source": [
    "df"
   ]
  },
  {
   "cell_type": "code",
   "execution_count": 6,
   "metadata": {
    "collapsed": false,
    "pycharm": {
     "name": "#%%\n"
    }
   },
   "outputs": [
    {
     "data": {
      "text/plain": [
       "행정구역\n",
       "서울특별시 종로구       13\n",
       "전라북도 장수군        13\n",
       "충청남도 예산군        13\n",
       "충청남도 태안군        13\n",
       "전라북도 전주시        13\n",
       "                ..\n",
       "경기도 동두천시        13\n",
       "경기도 안산시         13\n",
       "경기도 고양시         13\n",
       "경기도 과천시         13\n",
       "제주특별자치도 서귀포시    13\n",
       "Name: count, Length: 223, dtype: int64"
      ]
     },
     "execution_count": 6,
     "metadata": {},
     "output_type": "execute_result"
    }
   ],
   "source": [
    "df['행정구역'].value_counts()"
   ]
  },
  {
   "cell_type": "code",
   "execution_count": 7,
   "metadata": {
    "collapsed": false,
    "pycharm": {
     "name": "#%%\n"
    }
   },
   "outputs": [],
   "source": [
    "# 데이터 전처리\n",
    "scaler = MinMaxScaler()\n",
    "df[use_cols] = scaler.fit_transform(df[use_cols])"
   ]
  },
  {
   "cell_type": "code",
   "execution_count": 8,
   "metadata": {
    "collapsed": false,
    "pycharm": {
     "name": "#%%\n"
    }
   },
   "outputs": [
    {
     "name": "stdout",
     "output_type": "stream",
     "text": [
      "     행정구역(시도) 행정구역(시군구)    연도  ...   학령인구(명)   총인구수-학령인구(명)          행정구역\n",
      "0       서울특별시       종로구  2010  ...  0.116964  143148.034810     서울특별시 종로구\n",
      "1       서울특별시        중구  2010  ...  0.077754  115229.132986      서울특별시 중구\n",
      "2       서울특별시       용산구  2010  ...  0.150492  208715.862336     서울특별시 용산구\n",
      "3       서울특별시       성동구  2010  ...  0.209060  258176.195522     서울특별시 성동구\n",
      "4       서울특별시       광진구  2010  ...  0.274273  308398.915752     서울특별시 광진구\n",
      "...       ...       ...   ...  ...       ...            ...           ...\n",
      "2671     경상남도       함양군  2021  ...  0.015144   33905.401043      경상남도 함양군\n",
      "2672     경상남도       거창군  2021  ...  0.034021   51899.280000      경상남도 거창군\n",
      "2673     경상남도       합천군  2021  ...  0.011908   39203.730000      경상남도 합천군\n",
      "2674  제주특별자치도       제주시  2021  ...  0.352866  406560.000000   제주특별자치도 제주시\n",
      "2675  제주특별자치도      서귀포시  2021  ...  0.114423  155117.000000  제주특별자치도 서귀포시\n",
      "\n",
      "[2676 rows x 13 columns]\n"
     ]
    }
   ],
   "source": [
    "# 연도가 2013부터 2020까지인 데이터 추출\n",
    "filtered_df = df[(df['연도'] >= 2010) & (df['연도'] <= 2021)]\n",
    "\n",
    "# 결과 출력\n",
    "print(filtered_df)"
   ]
  },
  {
   "cell_type": "code",
   "execution_count": 9,
   "metadata": {
    "collapsed": false,
    "pycharm": {
     "name": "#%%\n"
    }
   },
   "outputs": [
    {
     "data": {
      "text/html": [
       "<div>\n",
       "<style scoped>\n",
       "    .dataframe tbody tr th:only-of-type {\n",
       "        vertical-align: middle;\n",
       "    }\n",
       "\n",
       "    .dataframe tbody tr th {\n",
       "        vertical-align: top;\n",
       "    }\n",
       "\n",
       "    .dataframe thead th {\n",
       "        text-align: right;\n",
       "    }\n",
       "</style>\n",
       "<table border=\"1\" class=\"dataframe\">\n",
       "  <thead>\n",
       "    <tr style=\"text-align: right;\">\n",
       "      <th></th>\n",
       "      <th>행정구역(시도)</th>\n",
       "      <th>행정구역(시군구)</th>\n",
       "      <th>연도</th>\n",
       "      <th>총인구수(명)</th>\n",
       "      <th>유치원 수</th>\n",
       "      <th>초등학교 수</th>\n",
       "      <th>출생건수</th>\n",
       "      <th>사망건수</th>\n",
       "      <th>혼인건수</th>\n",
       "      <th>이혼건수</th>\n",
       "      <th>학령인구(명)</th>\n",
       "      <th>총인구수-학령인구(명)</th>\n",
       "      <th>행정구역</th>\n",
       "    </tr>\n",
       "  </thead>\n",
       "  <tbody>\n",
       "    <tr>\n",
       "      <th>0</th>\n",
       "      <td>서울특별시</td>\n",
       "      <td>종로구</td>\n",
       "      <td>2010</td>\n",
       "      <td>0.138155</td>\n",
       "      <td>0.077236</td>\n",
       "      <td>0.094170</td>\n",
       "      <td>0.092588</td>\n",
       "      <td>0.120553</td>\n",
       "      <td>0.121569</td>\n",
       "      <td>0.154371</td>\n",
       "      <td>0.116964</td>\n",
       "      <td>143148.034810</td>\n",
       "      <td>서울특별시 종로구</td>\n",
       "    </tr>\n",
       "    <tr>\n",
       "      <th>1</th>\n",
       "      <td>서울특별시</td>\n",
       "      <td>중구</td>\n",
       "      <td>2010</td>\n",
       "      <td>0.106660</td>\n",
       "      <td>0.056856</td>\n",
       "      <td>0.075695</td>\n",
       "      <td>0.097762</td>\n",
       "      <td>0.093584</td>\n",
       "      <td>0.126149</td>\n",
       "      <td>0.147131</td>\n",
       "      <td>0.077754</td>\n",
       "      <td>115229.132986</td>\n",
       "      <td>서울특별시 중구</td>\n",
       "    </tr>\n",
       "    <tr>\n",
       "      <th>2</th>\n",
       "      <td>서울특별시</td>\n",
       "      <td>용산구</td>\n",
       "      <td>2010</td>\n",
       "      <td>0.200273</td>\n",
       "      <td>0.087487</td>\n",
       "      <td>0.103458</td>\n",
       "      <td>0.192119</td>\n",
       "      <td>0.155451</td>\n",
       "      <td>0.215121</td>\n",
       "      <td>0.207342</td>\n",
       "      <td>0.150492</td>\n",
       "      <td>208715.862336</td>\n",
       "      <td>서울특별시 용산구</td>\n",
       "    </tr>\n",
       "    <tr>\n",
       "      <th>3</th>\n",
       "      <td>서울특별시</td>\n",
       "      <td>성동구</td>\n",
       "      <td>2010</td>\n",
       "      <td>0.253842</td>\n",
       "      <td>0.148536</td>\n",
       "      <td>0.149527</td>\n",
       "      <td>0.239324</td>\n",
       "      <td>0.176357</td>\n",
       "      <td>0.278060</td>\n",
       "      <td>0.265049</td>\n",
       "      <td>0.209060</td>\n",
       "      <td>258176.195522</td>\n",
       "      <td>서울특별시 성동구</td>\n",
       "    </tr>\n",
       "    <tr>\n",
       "      <th>4</th>\n",
       "      <td>서울특별시</td>\n",
       "      <td>광진구</td>\n",
       "      <td>2010</td>\n",
       "      <td>0.309489</td>\n",
       "      <td>0.204581</td>\n",
       "      <td>0.168118</td>\n",
       "      <td>0.279247</td>\n",
       "      <td>0.185916</td>\n",
       "      <td>0.322586</td>\n",
       "      <td>0.320831</td>\n",
       "      <td>0.274273</td>\n",
       "      <td>308398.915752</td>\n",
       "      <td>서울특별시 광진구</td>\n",
       "    </tr>\n",
       "    <tr>\n",
       "      <th>...</th>\n",
       "      <td>...</td>\n",
       "      <td>...</td>\n",
       "      <td>...</td>\n",
       "      <td>...</td>\n",
       "      <td>...</td>\n",
       "      <td>...</td>\n",
       "      <td>...</td>\n",
       "      <td>...</td>\n",
       "      <td>...</td>\n",
       "      <td>...</td>\n",
       "      <td>...</td>\n",
       "      <td>...</td>\n",
       "      <td>...</td>\n",
       "    </tr>\n",
       "    <tr>\n",
       "      <th>2671</th>\n",
       "      <td>경상남도</td>\n",
       "      <td>함양군</td>\n",
       "      <td>2021</td>\n",
       "      <td>0.024823</td>\n",
       "      <td>0.050420</td>\n",
       "      <td>0.083880</td>\n",
       "      <td>0.006597</td>\n",
       "      <td>0.080260</td>\n",
       "      <td>0.004776</td>\n",
       "      <td>0.021889</td>\n",
       "      <td>0.015144</td>\n",
       "      <td>33905.401043</td>\n",
       "      <td>경상남도 함양군</td>\n",
       "    </tr>\n",
       "    <tr>\n",
       "      <th>2672</th>\n",
       "      <td>경상남도</td>\n",
       "      <td>거창군</td>\n",
       "      <td>2021</td>\n",
       "      <td>0.043825</td>\n",
       "      <td>0.070819</td>\n",
       "      <td>0.120839</td>\n",
       "      <td>0.015161</td>\n",
       "      <td>0.097375</td>\n",
       "      <td>0.013097</td>\n",
       "      <td>0.042290</td>\n",
       "      <td>0.034021</td>\n",
       "      <td>51899.280000</td>\n",
       "      <td>경상남도 거창군</td>\n",
       "    </tr>\n",
       "    <tr>\n",
       "      <th>2673</th>\n",
       "      <td>경상남도</td>\n",
       "      <td>합천군</td>\n",
       "      <td>2021</td>\n",
       "      <td>0.028620</td>\n",
       "      <td>0.065571</td>\n",
       "      <td>0.120466</td>\n",
       "      <td>0.005511</td>\n",
       "      <td>0.105023</td>\n",
       "      <td>0.005232</td>\n",
       "      <td>0.024579</td>\n",
       "      <td>0.011908</td>\n",
       "      <td>39203.730000</td>\n",
       "      <td>경상남도 합천군</td>\n",
       "    </tr>\n",
       "    <tr>\n",
       "      <th>2674</th>\n",
       "      <td>제주특별자치도</td>\n",
       "      <td>제주시</td>\n",
       "      <td>2021</td>\n",
       "      <td>0.408269</td>\n",
       "      <td>0.390005</td>\n",
       "      <td>0.596736</td>\n",
       "      <td>0.239130</td>\n",
       "      <td>0.425861</td>\n",
       "      <td>0.232139</td>\n",
       "      <td>0.424157</td>\n",
       "      <td>0.352866</td>\n",
       "      <td>406560.000000</td>\n",
       "      <td>제주특별자치도 제주시</td>\n",
       "    </tr>\n",
       "    <tr>\n",
       "      <th>2675</th>\n",
       "      <td>제주특별자치도</td>\n",
       "      <td>서귀포시</td>\n",
       "      <td>2021</td>\n",
       "      <td>0.147376</td>\n",
       "      <td>0.220225</td>\n",
       "      <td>0.382284</td>\n",
       "      <td>0.068156</td>\n",
       "      <td>0.193286</td>\n",
       "      <td>0.085069</td>\n",
       "      <td>0.163511</td>\n",
       "      <td>0.114423</td>\n",
       "      <td>155117.000000</td>\n",
       "      <td>제주특별자치도 서귀포시</td>\n",
       "    </tr>\n",
       "  </tbody>\n",
       "</table>\n",
       "<p>2676 rows × 13 columns</p>\n",
       "</div>"
      ],
      "text/plain": [
       "     행정구역(시도) 행정구역(시군구)    연도  ...   학령인구(명)   총인구수-학령인구(명)          행정구역\n",
       "0       서울특별시       종로구  2010  ...  0.116964  143148.034810     서울특별시 종로구\n",
       "1       서울특별시        중구  2010  ...  0.077754  115229.132986      서울특별시 중구\n",
       "2       서울특별시       용산구  2010  ...  0.150492  208715.862336     서울특별시 용산구\n",
       "3       서울특별시       성동구  2010  ...  0.209060  258176.195522     서울특별시 성동구\n",
       "4       서울특별시       광진구  2010  ...  0.274273  308398.915752     서울특별시 광진구\n",
       "...       ...       ...   ...  ...       ...            ...           ...\n",
       "2671     경상남도       함양군  2021  ...  0.015144   33905.401043      경상남도 함양군\n",
       "2672     경상남도       거창군  2021  ...  0.034021   51899.280000      경상남도 거창군\n",
       "2673     경상남도       합천군  2021  ...  0.011908   39203.730000      경상남도 합천군\n",
       "2674  제주특별자치도       제주시  2021  ...  0.352866  406560.000000   제주특별자치도 제주시\n",
       "2675  제주특별자치도      서귀포시  2021  ...  0.114423  155117.000000  제주특별자치도 서귀포시\n",
       "\n",
       "[2676 rows x 13 columns]"
      ]
     },
     "execution_count": 9,
     "metadata": {},
     "output_type": "execute_result"
    }
   ],
   "source": [
    "filtered_df"
   ]
  },
  {
   "cell_type": "code",
   "execution_count": 10,
   "metadata": {
    "collapsed": false,
    "pycharm": {
     "name": "#%%\n"
    }
   },
   "outputs": [],
   "source": [
    "# 시퀀스 데이터 생성\n",
    "def create_sequence_data(data, sequence_length):\n",
    "    sequences = []\n",
    "    for region in data['행정구역'].unique().tolist():\n",
    "        temp_df = data[data['행정구역'] == region]\n",
    "        if len(temp_df) < sequence_length:\n",
    "            continue\n",
    "\n",
    "        temp_df = temp_df[use_cols]\n",
    "        for i in range(len(temp_df) - sequence_length):\n",
    "            seq = temp_df[i:i+sequence_length+1]\n",
    "            sequences.append(seq)\n",
    "    return np.array(sequences)"
   ]
  },
  {
   "cell_type": "code",
   "execution_count": 11,
   "metadata": {
    "collapsed": false,
    "pycharm": {
     "name": "#%%\n"
    }
   },
   "outputs": [],
   "source": [
    "sequence_length = 3  # 시퀀스 길이\n",
    "sequences = create_sequence_data(filtered_df, sequence_length)"
   ]
  },
  {
   "cell_type": "code",
   "execution_count": 12,
   "metadata": {
    "collapsed": false,
    "pycharm": {
     "name": "#%%\n"
    }
   },
   "outputs": [
    {
     "data": {
      "text/plain": [
       "(2007, 4, 8)"
      ]
     },
     "execution_count": 12,
     "metadata": {},
     "output_type": "execute_result"
    }
   ],
   "source": [
    "sequences.shape"
   ]
  },
  {
   "cell_type": "code",
   "execution_count": 13,
   "metadata": {
    "collapsed": false,
    "pycharm": {
     "name": "#%%\n"
    }
   },
   "outputs": [],
   "source": [
    "# 데이터셋 분리\n",
    "X = sequences[:, :-1]\n",
    "y = sequences[:, -1][:, -1]"
   ]
  },
  {
   "cell_type": "code",
   "execution_count": 14,
   "metadata": {
    "collapsed": false,
    "pycharm": {
     "name": "#%%\n"
    }
   },
   "outputs": [],
   "source": [
    "# Split the data into training and test sets\n",
    "X_train, X_test, y_train, y_test = train_test_split(X, y, test_size=0.2, shuffle=False)\n",
    "\n",
    "# Further split the training data into training and validation sets\n",
    "X_train, X_val, y_train, y_val = train_test_split(X_train, y_train, test_size=0.2, shuffle=False)\n"
   ]
  },
  {
   "cell_type": "code",
   "execution_count": 15,
   "metadata": {
    "collapsed": false,
    "pycharm": {
     "name": "#%%\n"
    }
   },
   "outputs": [],
   "source": [
    "def invTransform(scaler, data, colName, colNames):\n",
    "    dummy = pd.DataFrame(np.zeros((len(data), len(colNames))), columns=colNames)\n",
    "    dummy[colName] = data\n",
    "    dummy = pd.DataFrame(scaler.inverse_transform(dummy), columns=colNames)\n",
    "    return dummy[colName].values"
   ]
  },
  {
   "cell_type": "code",
   "execution_count": 16,
   "metadata": {
    "collapsed": false,
    "pycharm": {
     "name": "#%%\n"
    }
   },
   "outputs": [],
   "source": [
    "# MAPE 계산 함수\n",
    "def calculate_mape(y_true, y_pred):\n",
    "    return np.mean(np.abs((y_true - y_pred) / y_true)) * 100"
   ]
  },
  {
   "cell_type": "code",
   "execution_count": 17,
   "metadata": {
    "collapsed": false,
    "pycharm": {
     "name": "#%%\n"
    }
   },
   "outputs": [
    {
     "name": "stdout",
     "output_type": "stream",
     "text": [
      "13/13 [==============================] - 0s 1ms/step\n",
      "0th: Mean Absolute Percentage Error (MAPE): 6.09%\n",
      "13/13 [==============================] - 0s 2ms/step\n",
      "1th: Mean Absolute Percentage Error (MAPE): 6.37%\n",
      "13/13 [==============================] - 0s 1ms/step\n",
      "2th: Mean Absolute Percentage Error (MAPE): 3.21%\n",
      "13/13 [==============================] - 0s 1ms/step\n",
      "3th: Mean Absolute Percentage Error (MAPE): 3.14%\n",
      "13/13 [==============================] - 0s 2ms/step\n",
      "4th: Mean Absolute Percentage Error (MAPE): 6.47%\n",
      "13/13 [==============================] - 0s 2ms/step\n",
      "5th: Mean Absolute Percentage Error (MAPE): 6.44%\n",
      "13/13 [==============================] - 0s 2ms/step\n",
      "6th: Mean Absolute Percentage Error (MAPE): 5.90%\n",
      "13/13 [==============================] - 0s 2ms/step\n",
      "7th: Mean Absolute Percentage Error (MAPE): 3.18%\n",
      "13/13 [==============================] - 0s 1ms/step\n",
      "8th: Mean Absolute Percentage Error (MAPE): 3.30%\n",
      "13/13 [==============================] - 0s 2ms/step\n",
      "9th: Mean Absolute Percentage Error (MAPE): 6.85%\n",
      "Average Mean Absolute Percentage Error (MAPE) over 10 iterations: 5.10%\n",
      "Minimum Mean Absolute Percentage Error (MAPE) over 10 iterations: 3.14%\n"
     ]
    }
   ],
   "source": [
    "from keras.models import Sequential\n",
    "from keras.layers import LSTM, Dense\n",
    "from keras.callbacks import EarlyStopping\n",
    "\n",
    "# Specify the number of iterations\n",
    "num_iterations = 10\n",
    "mape_list = []\n",
    "min_mape = float('inf')  # Initialize with positive infinity\n",
    "\n",
    "for iteration in range(num_iterations):\n",
    "    # Create the model\n",
    "    model = Sequential()\n",
    "    model.add(LSTM(128, activation='tanh', input_shape=(X.shape[1], X.shape[2])))\n",
    "    model.add(Dense(1))\n",
    "    model.compile(optimizer='adam', loss='mse')\n",
    "\n",
    "    # Define early stopping\n",
    "    early_stopping = EarlyStopping(monitor='val_loss', patience=50, restore_best_weights=True)\n",
    "\n",
    "    # Fit the model with early stopping\n",
    "    model.fit(X_train, y_train, epochs=1000, verbose=0, validation_data=(X_val, y_val), callbacks=[early_stopping])\n",
    "\n",
    "    # Predict\n",
    "    predicted_data = model.predict(X_test)\n",
    "    predicted_data = invTransform(scaler, predicted_data, '학령인구(명)', use_cols).reshape(-1, 1)\n",
    "    predicted_data = predicted_data.round()\n",
    "    y_true = invTransform(scaler, y_test, '학령인구(명)', use_cols).reshape(-1, 1)\n",
    "\n",
    "    # Evaluate MAPE\n",
    "    mape = calculate_mape(y_true, predicted_data)\n",
    "    print(f'{iteration}th: Mean Absolute Percentage Error (MAPE): {mape:.2f}%')\n",
    "    mape_list.append(mape)\n",
    "\n",
    "    # Check if the current MAPE is the new minimum\n",
    "    if mape < min_mape:\n",
    "        min_mape = mape\n",
    "        # Save the model when a new minimum is reached\n",
    "        model.save('best_model25_0.99.h5')\n",
    "\n",
    "# Calculate and print the average and minimum MAPE\n",
    "average_mape = np.mean(mape_list)\n",
    "print(f'Average Mean Absolute Percentage Error (MAPE) over {num_iterations} iterations: {average_mape:.2f}%')\n",
    "print(f'Minimum Mean Absolute Percentage Error (MAPE) over {num_iterations} iterations: {min_mape:.2f}%')\n"
   ]
  },
  {
   "cell_type": "code",
   "execution_count": 18,
   "metadata": {
    "collapsed": false,
    "pycharm": {
     "name": "#%%\n"
    }
   },
   "outputs": [],
   "source": [
    "prediction_df = df[df['연도'].isin([i for i in range(2019, 2023)])]"
   ]
  },
  {
   "cell_type": "code",
   "execution_count": 19,
   "metadata": {
    "collapsed": false,
    "pycharm": {
     "name": "#%%\n"
    }
   },
   "outputs": [
    {
     "data": {
      "text/html": [
       "<div>\n",
       "<style scoped>\n",
       "    .dataframe tbody tr th:only-of-type {\n",
       "        vertical-align: middle;\n",
       "    }\n",
       "\n",
       "    .dataframe tbody tr th {\n",
       "        vertical-align: top;\n",
       "    }\n",
       "\n",
       "    .dataframe thead th {\n",
       "        text-align: right;\n",
       "    }\n",
       "</style>\n",
       "<table border=\"1\" class=\"dataframe\">\n",
       "  <thead>\n",
       "    <tr style=\"text-align: right;\">\n",
       "      <th></th>\n",
       "      <th>행정구역(시도)</th>\n",
       "      <th>행정구역(시군구)</th>\n",
       "      <th>연도</th>\n",
       "      <th>총인구수(명)</th>\n",
       "      <th>유치원 수</th>\n",
       "      <th>초등학교 수</th>\n",
       "      <th>출생건수</th>\n",
       "      <th>사망건수</th>\n",
       "      <th>혼인건수</th>\n",
       "      <th>이혼건수</th>\n",
       "      <th>학령인구(명)</th>\n",
       "      <th>총인구수-학령인구(명)</th>\n",
       "      <th>행정구역</th>\n",
       "    </tr>\n",
       "  </thead>\n",
       "  <tbody>\n",
       "    <tr>\n",
       "      <th>2007</th>\n",
       "      <td>서울특별시</td>\n",
       "      <td>종로구</td>\n",
       "      <td>2019</td>\n",
       "      <td>0.121940</td>\n",
       "      <td>0.077224</td>\n",
       "      <td>0.085050</td>\n",
       "      <td>0.055586</td>\n",
       "      <td>0.121122</td>\n",
       "      <td>0.069703</td>\n",
       "      <td>0.099178</td>\n",
       "      <td>0.076697</td>\n",
       "      <td>133793.827816</td>\n",
       "      <td>서울특별시 종로구</td>\n",
       "    </tr>\n",
       "    <tr>\n",
       "      <th>2008</th>\n",
       "      <td>서울특별시</td>\n",
       "      <td>중구</td>\n",
       "      <td>2019</td>\n",
       "      <td>0.100965</td>\n",
       "      <td>0.061912</td>\n",
       "      <td>0.075787</td>\n",
       "      <td>0.064635</td>\n",
       "      <td>0.092946</td>\n",
       "      <td>0.085618</td>\n",
       "      <td>0.087126</td>\n",
       "      <td>0.049806</td>\n",
       "      <td>115390.259900</td>\n",
       "      <td>서울특별시 중구</td>\n",
       "    </tr>\n",
       "    <tr>\n",
       "      <th>2009</th>\n",
       "      <td>서울특별시</td>\n",
       "      <td>용산구</td>\n",
       "      <td>2019</td>\n",
       "      <td>0.186662</td>\n",
       "      <td>0.056963</td>\n",
       "      <td>0.103586</td>\n",
       "      <td>0.108550</td>\n",
       "      <td>0.158873</td>\n",
       "      <td>0.155953</td>\n",
       "      <td>0.144174</td>\n",
       "      <td>0.108666</td>\n",
       "      <td>202832.789124</td>\n",
       "      <td>서울특별시 용산구</td>\n",
       "    </tr>\n",
       "    <tr>\n",
       "      <th>2010</th>\n",
       "      <td>서울특별시</td>\n",
       "      <td>성동구</td>\n",
       "      <td>2019</td>\n",
       "      <td>0.246837</td>\n",
       "      <td>0.143373</td>\n",
       "      <td>0.158847</td>\n",
       "      <td>0.180784</td>\n",
       "      <td>0.197906</td>\n",
       "      <td>0.210809</td>\n",
       "      <td>0.206606</td>\n",
       "      <td>0.149069</td>\n",
       "      <td>264499.965618</td>\n",
       "      <td>서울특별시 성동구</td>\n",
       "    </tr>\n",
       "    <tr>\n",
       "      <th>2011</th>\n",
       "      <td>서울특별시</td>\n",
       "      <td>광진구</td>\n",
       "      <td>2019</td>\n",
       "      <td>0.289246</td>\n",
       "      <td>0.158760</td>\n",
       "      <td>0.168272</td>\n",
       "      <td>0.161725</td>\n",
       "      <td>0.200341</td>\n",
       "      <td>0.227368</td>\n",
       "      <td>0.232033</td>\n",
       "      <td>0.185660</td>\n",
       "      <td>305920.488267</td>\n",
       "      <td>서울특별시 광진구</td>\n",
       "    </tr>\n",
       "    <tr>\n",
       "      <th>...</th>\n",
       "      <td>...</td>\n",
       "      <td>...</td>\n",
       "      <td>...</td>\n",
       "      <td>...</td>\n",
       "      <td>...</td>\n",
       "      <td>...</td>\n",
       "      <td>...</td>\n",
       "      <td>...</td>\n",
       "      <td>...</td>\n",
       "      <td>...</td>\n",
       "      <td>...</td>\n",
       "      <td>...</td>\n",
       "      <td>...</td>\n",
       "    </tr>\n",
       "    <tr>\n",
       "      <th>2894</th>\n",
       "      <td>경상남도</td>\n",
       "      <td>함양군</td>\n",
       "      <td>2022</td>\n",
       "      <td>0.024317</td>\n",
       "      <td>0.050420</td>\n",
       "      <td>0.083880</td>\n",
       "      <td>0.004681</td>\n",
       "      <td>0.091720</td>\n",
       "      <td>0.007204</td>\n",
       "      <td>0.016601</td>\n",
       "      <td>0.014050</td>\n",
       "      <td>33570.604395</td>\n",
       "      <td>경상남도 함양군</td>\n",
       "    </tr>\n",
       "    <tr>\n",
       "      <th>2895</th>\n",
       "      <td>경상남도</td>\n",
       "      <td>거창군</td>\n",
       "      <td>2022</td>\n",
       "      <td>0.043247</td>\n",
       "      <td>0.070819</td>\n",
       "      <td>0.120839</td>\n",
       "      <td>0.012832</td>\n",
       "      <td>0.112094</td>\n",
       "      <td>0.016022</td>\n",
       "      <td>0.030217</td>\n",
       "      <td>0.032195</td>\n",
       "      <td>51656.340000</td>\n",
       "      <td>경상남도 거창군</td>\n",
       "    </tr>\n",
       "    <tr>\n",
       "      <th>2896</th>\n",
       "      <td>경상남도</td>\n",
       "      <td>합천군</td>\n",
       "      <td>2022</td>\n",
       "      <td>0.027956</td>\n",
       "      <td>0.065520</td>\n",
       "      <td>0.120466</td>\n",
       "      <td>0.006408</td>\n",
       "      <td>0.125990</td>\n",
       "      <td>0.007039</td>\n",
       "      <td>0.021014</td>\n",
       "      <td>0.010966</td>\n",
       "      <td>38644.640000</td>\n",
       "      <td>경상남도 합천군</td>\n",
       "    </tr>\n",
       "    <tr>\n",
       "      <th>2897</th>\n",
       "      <td>제주특별자치도</td>\n",
       "      <td>제주시</td>\n",
       "      <td>2022</td>\n",
       "      <td>0.408516</td>\n",
       "      <td>0.369426</td>\n",
       "      <td>0.606060</td>\n",
       "      <td>0.228799</td>\n",
       "      <td>0.485172</td>\n",
       "      <td>0.244466</td>\n",
       "      <td>0.438323</td>\n",
       "      <td>0.343861</td>\n",
       "      <td>409043.000000</td>\n",
       "      <td>제주특별자치도 제주시</td>\n",
       "    </tr>\n",
       "    <tr>\n",
       "      <th>2898</th>\n",
       "      <td>제주특별자치도</td>\n",
       "      <td>서귀포시</td>\n",
       "      <td>2022</td>\n",
       "      <td>0.148309</td>\n",
       "      <td>0.220225</td>\n",
       "      <td>0.382284</td>\n",
       "      <td>0.067740</td>\n",
       "      <td>0.220834</td>\n",
       "      <td>0.079699</td>\n",
       "      <td>0.179295</td>\n",
       "      <td>0.112893</td>\n",
       "      <td>156596.000000</td>\n",
       "      <td>제주특별자치도 서귀포시</td>\n",
       "    </tr>\n",
       "  </tbody>\n",
       "</table>\n",
       "<p>892 rows × 13 columns</p>\n",
       "</div>"
      ],
      "text/plain": [
       "     행정구역(시도) 행정구역(시군구)    연도  ...   학령인구(명)   총인구수-학령인구(명)          행정구역\n",
       "2007    서울특별시       종로구  2019  ...  0.076697  133793.827816     서울특별시 종로구\n",
       "2008    서울특별시        중구  2019  ...  0.049806  115390.259900      서울특별시 중구\n",
       "2009    서울특별시       용산구  2019  ...  0.108666  202832.789124     서울특별시 용산구\n",
       "2010    서울특별시       성동구  2019  ...  0.149069  264499.965618     서울특별시 성동구\n",
       "2011    서울특별시       광진구  2019  ...  0.185660  305920.488267     서울특별시 광진구\n",
       "...       ...       ...   ...  ...       ...            ...           ...\n",
       "2894     경상남도       함양군  2022  ...  0.014050   33570.604395      경상남도 함양군\n",
       "2895     경상남도       거창군  2022  ...  0.032195   51656.340000      경상남도 거창군\n",
       "2896     경상남도       합천군  2022  ...  0.010966   38644.640000      경상남도 합천군\n",
       "2897  제주특별자치도       제주시  2022  ...  0.343861  409043.000000   제주특별자치도 제주시\n",
       "2898  제주특별자치도      서귀포시  2022  ...  0.112893  156596.000000  제주특별자치도 서귀포시\n",
       "\n",
       "[892 rows x 13 columns]"
      ]
     },
     "execution_count": 19,
     "metadata": {},
     "output_type": "execute_result"
    }
   ],
   "source": [
    "prediction_df"
   ]
  },
  {
   "cell_type": "code",
   "execution_count": 20,
   "metadata": {
    "collapsed": false,
    "pycharm": {
     "name": "#%%\n"
    }
   },
   "outputs": [],
   "source": [
    "predict_sequences = create_sequence_data(prediction_df, sequence_length)"
   ]
  },
  {
   "cell_type": "code",
   "execution_count": 21,
   "metadata": {
    "collapsed": false,
    "pycharm": {
     "name": "#%%\n"
    }
   },
   "outputs": [
    {
     "data": {
      "text/plain": [
       "array([[[0.12193956, 0.07722382, 0.08504976, ..., 0.06970278,\n",
       "         0.09917833, 0.07669724],\n",
       "        [0.12033527, 0.07716247, 0.08505862, ..., 0.06650579,\n",
       "         0.10270258, 0.07237575],\n",
       "        [0.11637157, 0.07205389, 0.08506505, ..., 0.05570312,\n",
       "         0.07648958, 0.06836676],\n",
       "        [0.11359124, 0.07205066, 0.08507191, ..., 0.0566194 ,\n",
       "         0.07738685, 0.0646867 ]],\n",
       "\n",
       "       [[0.10096523, 0.06191192, 0.07578655, ..., 0.08561789,\n",
       "         0.08712586, 0.04980613],\n",
       "        [0.10016993, 0.06184718, 0.07579461, ..., 0.07711052,\n",
       "         0.0990445 , 0.04750353],\n",
       "        [0.09783918, 0.06182574, 0.07579963, ..., 0.0692017 ,\n",
       "         0.08804341, 0.0447733 ],\n",
       "        [0.09609374, 0.06181988, 0.07580709, ..., 0.05961665,\n",
       "         0.07613417, 0.04228977]],\n",
       "\n",
       "       [[0.18666188, 0.0569633 , 0.10358579, ..., 0.15595261,\n",
       "         0.14417448, 0.10866642],\n",
       "        [0.1877913 , 0.05690061, 0.10359447, ..., 0.1403162 ,\n",
       "         0.13888254, 0.1055538 ],\n",
       "        [0.18183787, 0.05687808, 0.10360308, ..., 0.11825993,\n",
       "         0.13587852, 0.09938611],\n",
       "        [0.17822159, 0.05687418, 0.10360976, ..., 0.11253218,\n",
       "         0.11474969, 0.0943615 ]],\n",
       "\n",
       "       ...,\n",
       "\n",
       "       [[0.03052869, 0.06557096, 0.12046604, ..., 0.01130672,\n",
       "         0.03031832, 0.01470377],\n",
       "        [0.02952019, 0.06557096, 0.12046604, ..., 0.00620136,\n",
       "         0.02704405, 0.01340444],\n",
       "        [0.02862003, 0.06557096, 0.12046604, ..., 0.00523229,\n",
       "         0.02457925, 0.01190775],\n",
       "        [0.02795581, 0.06551951, 0.12046604, ..., 0.00703863,\n",
       "         0.02101358, 0.01096615]],\n",
       "\n",
       "       [[0.40515676, 0.39514975, 0.59673578, ..., 0.2960935 ,\n",
       "         0.49417526, 0.36162794],\n",
       "        [0.40773759, 0.3900049 , 0.59673578, ..., 0.26643533,\n",
       "         0.50469824, 0.35797256],\n",
       "        [0.40826876, 0.3900049 , 0.59673578, ..., 0.23213926,\n",
       "         0.42415698, 0.35286571],\n",
       "        [0.4085158 , 0.36942552, 0.60605978, ..., 0.24446632,\n",
       "         0.43832253, 0.34386089]],\n",
       "\n",
       "       [[0.14562316, 0.21508016, 0.38228386, ..., 0.10618357,\n",
       "         0.18496158, 0.11412277],\n",
       "        [0.14611639, 0.22022501, 0.38228386, ..., 0.08982886,\n",
       "         0.18577104, 0.11389662],\n",
       "        [0.14737603, 0.22022501, 0.38228386, ..., 0.08506891,\n",
       "         0.1635109 , 0.11442293],\n",
       "        [0.14830937, 0.22022501, 0.38228386, ..., 0.0796987 ,\n",
       "         0.17929537, 0.11289334]]])"
      ]
     },
     "execution_count": 21,
     "metadata": {},
     "output_type": "execute_result"
    }
   ],
   "source": [
    "predict_sequences"
   ]
  },
  {
   "cell_type": "code",
   "execution_count": 22,
   "metadata": {
    "collapsed": false,
    "pycharm": {
     "name": "#%%\n"
    }
   },
   "outputs": [],
   "source": [
    "# 데이터셋 분리\n",
    "predict_X = predict_sequences[:, :-1]\n",
    "predict_y = predict_sequences[:, -1][:, -1]"
   ]
  },
  {
   "cell_type": "code",
   "execution_count": 23,
   "metadata": {
    "collapsed": false,
    "pycharm": {
     "name": "#%%\n"
    }
   },
   "outputs": [
    {
     "data": {
      "text/plain": [
       "array([[[0.12193956, 0.07722382, 0.08504976, ..., 0.06970278,\n",
       "         0.09917833, 0.07669724],\n",
       "        [0.12033527, 0.07716247, 0.08505862, ..., 0.06650579,\n",
       "         0.10270258, 0.07237575],\n",
       "        [0.11637157, 0.07205389, 0.08506505, ..., 0.05570312,\n",
       "         0.07648958, 0.06836676]],\n",
       "\n",
       "       [[0.10096523, 0.06191192, 0.07578655, ..., 0.08561789,\n",
       "         0.08712586, 0.04980613],\n",
       "        [0.10016993, 0.06184718, 0.07579461, ..., 0.07711052,\n",
       "         0.0990445 , 0.04750353],\n",
       "        [0.09783918, 0.06182574, 0.07579963, ..., 0.0692017 ,\n",
       "         0.08804341, 0.0447733 ]],\n",
       "\n",
       "       [[0.18666188, 0.0569633 , 0.10358579, ..., 0.15595261,\n",
       "         0.14417448, 0.10866642],\n",
       "        [0.1877913 , 0.05690061, 0.10359447, ..., 0.1403162 ,\n",
       "         0.13888254, 0.1055538 ],\n",
       "        [0.18183787, 0.05687808, 0.10360308, ..., 0.11825993,\n",
       "         0.13587852, 0.09938611]],\n",
       "\n",
       "       ...,\n",
       "\n",
       "       [[0.03052869, 0.06557096, 0.12046604, ..., 0.01130672,\n",
       "         0.03031832, 0.01470377],\n",
       "        [0.02952019, 0.06557096, 0.12046604, ..., 0.00620136,\n",
       "         0.02704405, 0.01340444],\n",
       "        [0.02862003, 0.06557096, 0.12046604, ..., 0.00523229,\n",
       "         0.02457925, 0.01190775]],\n",
       "\n",
       "       [[0.40515676, 0.39514975, 0.59673578, ..., 0.2960935 ,\n",
       "         0.49417526, 0.36162794],\n",
       "        [0.40773759, 0.3900049 , 0.59673578, ..., 0.26643533,\n",
       "         0.50469824, 0.35797256],\n",
       "        [0.40826876, 0.3900049 , 0.59673578, ..., 0.23213926,\n",
       "         0.42415698, 0.35286571]],\n",
       "\n",
       "       [[0.14562316, 0.21508016, 0.38228386, ..., 0.10618357,\n",
       "         0.18496158, 0.11412277],\n",
       "        [0.14611639, 0.22022501, 0.38228386, ..., 0.08982886,\n",
       "         0.18577104, 0.11389662],\n",
       "        [0.14737603, 0.22022501, 0.38228386, ..., 0.08506891,\n",
       "         0.1635109 , 0.11442293]]])"
      ]
     },
     "execution_count": 23,
     "metadata": {},
     "output_type": "execute_result"
    }
   ],
   "source": [
    "predict_X"
   ]
  },
  {
   "cell_type": "code",
   "execution_count": 24,
   "metadata": {
    "collapsed": false,
    "pycharm": {
     "name": "#%%\n"
    }
   },
   "outputs": [
    {
     "data": {
      "text/plain": [
       "array([0.0646867 , 0.04228977, 0.0943615 , 0.12830434, 0.15947583,\n",
       "       0.15883439, 0.16461557, 0.24233665, 0.12972702, 0.15108777,\n",
       "       0.30837202, 0.23509578, 0.15474316, 0.18207835, 0.29678088,\n",
       "       0.28152613, 0.18906017, 0.08767162, 0.16144538, 0.18147802,\n",
       "       0.18175351, 0.27697027, 0.3614059 , 0.38045172, 0.25540803,\n",
       "       0.009416  , 0.04527905, 0.028873  , 0.04217464, 0.16244865,\n",
       "       0.1642414 , 0.14601382, 0.14327948, 0.23125537, 0.15606715,\n",
       "       0.10859652, 0.09932032, 0.10466976, 0.07429596, 0.09146269,\n",
       "       0.12256839, 0.03697734, 0.06128214, 0.2704243 , 0.29997574,\n",
       "       0.3362623 , 0.1716344 , 0.08852687, 0.02713782, 0.28344634,\n",
       "       0.30803074, 0.2613249 , 0.15410583, 0.39705514, 0.0252135 ,\n",
       "       0.00473267, 0.05073539, 0.18616547, 0.14384691, 0.26654688,\n",
       "       0.32210129, 0.12451738, 0.12817687, 0.3070398 , 0.24994757,\n",
       "       0.09525787, 0.12212843, 0.18612435, 0.10066076, 0.16010904,\n",
       "       0.13690209, 0.75345699, 0.54618158, 0.2699021 , 0.32085953,\n",
       "       0.43146672, 0.18372717, 0.36621259, 0.04946896, 0.38226091,\n",
       "       0.6552633 , 0.04884808, 0.10927497, 0.51244845, 0.16300786,\n",
       "       0.33941604, 0.15727191, 0.09089115, 0.2082869 , 0.78011373,\n",
       "       0.33542349, 0.14093165, 0.11126507, 0.34596202, 0.69734337,\n",
       "       0.23134172, 0.16022417, 0.07005259, 0.01661986, 0.02522584,\n",
       "       0.0595963 , 0.17186877, 0.22430233, 0.1136787 , 0.0513645 ,\n",
       "       0.01901292, 0.04362611, 0.0304067 , 0.02767236, 0.01776705,\n",
       "       0.01400476, 0.01409933, 0.01190775, 0.01962558, 0.00857309,\n",
       "       0.00912407, 0.01277122, 0.00794809, 0.00838394, 0.55555647,\n",
       "       0.11440648, 0.07161096, 0.00959281, 0.0202259 , 0.01654585,\n",
       "       0.05191548, 0.00909939, 0.04409896, 0.00791931, 0.0192843 ,\n",
       "       0.44702162, 0.04953064, 0.04682508, 0.23993947, 0.10871988,\n",
       "       0.05567777, 0.03535729, 0.02137309, 0.0243048 , 0.01733531,\n",
       "       0.00968738, 0.05696065, 0.03116738, 0.02332208, 0.44891305,\n",
       "       0.16478415, 0.1666509 , 0.05365065, 0.0399625 , 0.03463773,\n",
       "       0.05078062, 0.00667344, 0.00791931, 0.0067639 , 0.00681735,\n",
       "       0.00976139, 0.0211305 , 0.01918562, 0.14899898, 0.1620128 ,\n",
       "       0.1859681 , 0.06323113, 0.0986501 , 0.01614289, 0.00802622,\n",
       "       0.00779596, 0.01910749, 0.01186252, 0.03059173, 0.01320707,\n",
       "       0.01157058, 0.02773403, 0.02403342, 0.06175911, 0.00896371,\n",
       "       0.02209677, 0.01715028, 0.01923496, 0.01031648, 0.00932965,\n",
       "       0.29806787, 0.12721883, 0.07614626, 0.08251954, 0.29030892,\n",
       "       0.05120414, 0.03914014, 0.04296   , 0.03137297, 0.15399892,\n",
       "       0.00266033, 0.01064543, 0.0042187 , 0.00268089, 0.00937488,\n",
       "       0.0104275 , 0.00869233, 0.0104604 , 0.06987578, 0.0274791 ,\n",
       "       0.00788642, 0.01904171, 0.        , 0.63488526, 0.22215598,\n",
       "       0.0754966 , 0.06170565, 0.38457174, 0.04409896, 0.18216469,\n",
       "       0.23272739, 0.0059292 , 0.03179648, 0.0213402 , 0.0213772 ,\n",
       "       0.01393075, 0.01284112, 0.00909939, 0.01404999, 0.03219533,\n",
       "       0.01096615, 0.34386089, 0.11289334])"
      ]
     },
     "execution_count": 24,
     "metadata": {},
     "output_type": "execute_result"
    }
   ],
   "source": [
    "predict_y"
   ]
  },
  {
   "cell_type": "code",
   "execution_count": 25,
   "metadata": {
    "collapsed": false,
    "pycharm": {
     "name": "#%%\n"
    }
   },
   "outputs": [],
   "source": [
    "from tensorflow.keras.models import load_model\n",
    "\n",
    "# Load the best model\n",
    "best_model = load_model('best_model25_0.99.h5')"
   ]
  },
  {
   "cell_type": "code",
   "execution_count": 26,
   "metadata": {
    "collapsed": false,
    "pycharm": {
     "name": "#%%\n"
    }
   },
   "outputs": [
    {
     "name": "stdout",
     "output_type": "stream",
     "text": [
      "7/7 [==============================] - 0s 2ms/step\n"
     ]
    },
    {
     "data": {
      "image/png": "[encoded data removed]",
      "text/plain": [
       "<Figure size 640x480 with 1 Axes>"
      ]
     },
     "metadata": {},
     "output_type": "display_data"
    },
    {
     "name": "stdout",
     "output_type": "stream",
     "text": [
      "Mean Squared Error: 495815.78\n",
      "Mean Absolute Percentage Error (MAPE): 2.54%\n"
     ]
    }
   ],
   "source": [
    "# 예측\n",
    "predicted_data = best_model.predict(predict_X)\n",
    "\n",
    "# 예측 결과 역전환\n",
    "#predicted_data = scaler.inverse_transform(predicted_data)\n",
    "predicted_data = invTransform(scaler, predicted_data, '학령인구(명)', use_cols).reshape(-1, 1)\n",
    "predicted_data = predicted_data.round()\n",
    "#y_true = scaler.inverse_transform(y_test.reshape(-1, 1))\n",
    "y_true = invTransform(scaler, predict_y, '학령인구(명)', use_cols).reshape(-1, 1)\n",
    "\n",
    "# 결과 시각화\n",
    "plt.plot(range(len(y_true)), y_true, label='True')\n",
    "plt.plot(range(len(predicted_data)), predicted_data, label='Predicted', linestyle='--')\n",
    "plt.xlabel('Test Case')\n",
    "plt.ylabel('School_Age_Population')\n",
    "plt.legend()\n",
    "plt.show()\n",
    "\n",
    "# 모델 평가\n",
    "mse = mean_squared_error(y_true, predicted_data)\n",
    "print(f'Mean Squared Error: {mse:.2f}')\n",
    "\n",
    "# MAPE 계산 함수\n",
    "def calculate_mape(y_true, y_pred):\n",
    "    return np.mean(np.abs((y_true - y_pred) / y_true)) * 100\n",
    "\n",
    "# MAPE 계산\n",
    "mape = calculate_mape(y_true, predicted_data)\n",
    "print(f'Mean Absolute Percentage Error (MAPE): {mape:.2f}%')"
   ]
  },
  {
   "cell_type": "code",
   "execution_count": null,
   "metadata": {},
   "outputs": [],
   "source": []
  }
 ],
 "metadata": {
  "kernelspec": {
   "display_name": "Python 3",
   "language": "python",
   "name": "python3"
  },
  "language_info": {
   "codemirror_mode": {
    "name": "ipython",
    "version": 3
   },
   "file_extension": ".py",
   "mimetype": "text/x-python",
   "name": "python",
   "nbconvert_exporter": "python",
   "pygments_lexer": "ipython3",
   "version": "3.9.6"
  }
 },
 "nbformat": 4,
 "nbformat_minor": 0
}
