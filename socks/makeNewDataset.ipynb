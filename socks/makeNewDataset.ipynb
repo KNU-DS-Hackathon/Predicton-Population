{
 "cells": [
  {
   "cell_type": "code",
   "execution_count": 4,
   "metadata": {},
   "outputs": [],
   "source": [
    "import pandas as pd\n",
    "\n",
    "df = pd.read_csv('../makeDataset/dataset/knu-ds-dataset.csv', encoding='cp949')"
   ]
  },
  {
   "cell_type": "code",
   "execution_count": 5,
   "metadata": {},
   "outputs": [
    {
     "name": "stdout",
     "output_type": "stream",
     "text": [
      "<class 'pandas.core.frame.DataFrame'>\n",
      "RangeIndex: 8901 entries, 0 to 8900\n",
      "Data columns (total 23 columns):\n",
      " #   Column                Non-Null Count  Dtype  \n",
      "---  ------                --------------  -----  \n",
      " 0   행정구역(시도)              8901 non-null   object \n",
      " 1   행정구역(시군구)             8901 non-null   object \n",
      " 2   연도                    8901 non-null   int64  \n",
      " 3   총인구수(명)               6375 non-null   float64\n",
      " 4   총인구수증감                8648 non-null   float64\n",
      " 5   총인구수증감률               8648 non-null   float64\n",
      " 6   유치원 수                 5688 non-null   object \n",
      " 7   초등학교 수                5688 non-null   object \n",
      " 8   실업률                   1920 non-null   float64\n",
      " 9   거주지내 통근 취업자 (천명)      1920 non-null   float64\n",
      " 10  거주지외 타지역 통근 취업자 (천명)  1920 non-null   float64\n",
      " 11  GRDP(단위:백만원)          2696 non-null   object \n",
      " 12  지가 변동률                3157 non-null   object \n",
      " 13  여성 취업자(단위:천명)         1659 non-null   object \n",
      " 14  출생건수                  3425 non-null   object \n",
      " 15  사망건수                  3456 non-null   object \n",
      " 16  혼인건수                  3425 non-null   object \n",
      " 17  이혼건수                  3425 non-null   object \n",
      " 18  총전입                   2530 non-null   float64\n",
      " 19  총전출                   2530 non-null   float64\n",
      " 20  순이동                   2530 non-null   float64\n",
      " 21  학령인구(명)               3482 non-null   float64\n",
      " 22  학령인구증감률               3482 non-null   float64\n",
      "dtypes: float64(11), int64(1), object(11)\n",
      "memory usage: 1.6+ MB\n"
     ]
    }
   ],
   "source": [
    "df.info()"
   ]
  },
  {
   "cell_type": "code",
   "execution_count": null,
   "metadata": {},
   "outputs": [],
   "source": []
  }
 ],
 "metadata": {
  "kernelspec": {
   "display_name": "dataScience",
   "language": "python",
   "name": "python3"
  },
  "language_info": {
   "codemirror_mode": {
    "name": "ipython",
    "version": 3
   },
   "file_extension": ".py",
   "mimetype": "text/x-python",
   "name": "python",
   "nbconvert_exporter": "python",
   "pygments_lexer": "ipython3",
   "version": "3.11.6"
  }
 },
 "nbformat": 4,
 "nbformat_minor": 2
}
