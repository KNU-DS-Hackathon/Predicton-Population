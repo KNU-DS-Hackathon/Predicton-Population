{
 "cells": [
  {
   "cell_type": "code",
   "execution_count": 2,
   "metadata": {},
   "outputs": [
    {
     "name": "stdout",
     "output_type": "stream",
     "text": [
      "WARNING:tensorflow:Layer lstm_34 will not use cuDNN kernels since it doesn't meet the criteria. It will use a generic GPU kernel as fallback when running on GPU.\n"
     ]
    },
    {
     "name": "stderr",
     "output_type": "stream",
     "text": [
      "WARNING:absl:At this time, the v2.11+ optimizer `tf.keras.optimizers.Adam` runs slowly on M1/M2 Macs, please use the legacy Keras optimizer instead, located at `tf.keras.optimizers.legacy.Adam`.\n"
     ]
    }
   ],
   "source": [
    "from tensorflow.keras.models import load_model\n",
    "\n",
    "# Load the best model\n",
    "best_model = load_model('best_model_colab.h5')"
   ]
  },
  {
   "cell_type": "code",
   "execution_count": null,
   "metadata": {},
   "outputs": [],
   "source": [
    "# 예측\n",
    "predicted_data = best_model.predict(predict_X)\n",
    "\n",
    "# 예측 결과 역전환\n",
    "#predicted_data = scaler.inverse_transform(predicted_data)\n",
    "predicted_data = invTransform(scaler, predicted_data, '학령인구(명)', use_cols).reshape(-1, 1)\n",
    "predicted_data = predicted_data.round()\n",
    "#y_true = scaler.inverse_transform(y_test.reshape(-1, 1))\n",
    "y_true = invTransform(scaler, predict_y, '학령인구(명)', use_cols).reshape(-1, 1)\n",
    "\n",
    "# 결과 시각화\n",
    "plt.plot(range(len(y_true)), y_true, label='True')\n",
    "plt.plot(range(len(predicted_data)), predicted_data, label='Predicted', linestyle='--')\n",
    "plt.xlabel('Test Case')\n",
    "plt.ylabel('School_Age_Population')\n",
    "plt.legend()\n",
    "plt.show()\n",
    "\n",
    "# 모델 평가\n",
    "mse = mean_squared_error(y_true, predicted_data)\n",
    "print(f'Mean Squared Error: {mse:.2f}')\n",
    "\n",
    "# MAPE 계산 함수\n",
    "def calculate_mape(y_true, y_pred):\n",
    "    return np.mean(np.abs((y_true - y_pred) / y_true)) * 100\n",
    "\n",
    "# MAPE 계산\n",
    "mape = calculate_mape(y_true, predicted_data)\n",
    "print(f'Mean Absolute Percentage Error (MAPE): {mape:.2f}%')"
   ]
  }
 ],
 "metadata": {
  "kernelspec": {
   "display_name": "dataScience",
   "language": "python",
   "name": "python3"
  },
  "language_info": {
   "codemirror_mode": {
    "name": "ipython",
    "version": 3
   },
   "file_extension": ".py",
   "mimetype": "text/x-python",
   "name": "python",
   "nbconvert_exporter": "python",
   "pygments_lexer": "ipython3",
   "version": "3.11.6"
  }
 },
 "nbformat": 4,
 "nbformat_minor": 2
}
