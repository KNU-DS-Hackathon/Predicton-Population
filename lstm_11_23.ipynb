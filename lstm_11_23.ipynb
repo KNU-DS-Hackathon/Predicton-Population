{
 "cells": [
  {
   "cell_type": "code",
   "execution_count": null,
   "outputs": [],
   "source": [
    "import pandas as pd\n",
    "import matplotlib.pyplot as plt\n",
    "plt.rc('font', family='AppleGothic')"
   ],
   "metadata": {
    "collapsed": false,
    "pycharm": {
     "name": "#%%\n"
    }
   }
  },
  {
   "cell_type": "code",
   "execution_count": null,
   "outputs": [],
   "source": [
    "import numpy as np\n",
    "import pandas as pd\n",
    "from sklearn.model_selection import train_test_split\n",
    "import lightgbm as lgb\n",
    "from sklearn.metrics import mean_squared_error\n",
    "import matplotlib.pyplot as plt"
   ],
   "metadata": {
    "collapsed": false,
    "pycharm": {
     "name": "#%%\n"
    }
   }
  },
  {
   "cell_type": "markdown",
   "source": [],
   "metadata": {
    "collapsed": false,
    "pycharm": {
     "name": "#%% md\n"
    }
   }
  },
  {
   "cell_type": "code",
   "execution_count": 3,
   "outputs": [],
   "source": [
    "df = pd.read_csv('./data/forecasting_dataset(2010-2032).csv', encoding='utf-8')"
   ],
   "metadata": {
    "collapsed": false,
    "pycharm": {
     "name": "#%%\n"
    }
   }
  },
  {
   "cell_type": "code",
   "execution_count": 4,
   "outputs": [
    {
     "data": {
      "text/plain": "     행정구역(시도) 행정구역(시군구)    연도   총인구수(명)  유치원 수  초등학교 수    출생건수    사망건수  \\\n0     강원특별자치도       강릉시  2010  218503.0   40.0    35.0  1641.0  1413.0   \n1     강원특별자치도       강릉시  2011  217571.0   40.0    35.0  1671.0  1434.0   \n2     강원특별자치도       강릉시  2012  217741.0   40.0    35.0  1636.0  1490.0   \n3     강원특별자치도       강릉시  2013  216806.0   40.0    35.0  1460.0  1471.0   \n4     강원특별자치도       강릉시  2014  215807.0   41.0    35.0  1298.0  1539.0   \n...       ...       ...   ...       ...    ...     ...     ...     ...   \n5124     충청북도       충주시  2028  200258.0   40.0    29.0   443.0  3965.0   \n5125     충청북도       충주시  2029  198739.0   40.0    28.0   372.0  4281.0   \n5126     충청북도       충주시  2030  197725.0   39.0    27.0   301.0  4596.0   \n5127     충청북도       충주시  2031  196193.0   39.0    26.0   230.0  4911.0   \n5128     충청북도       충주시  2032  195201.0   38.0    25.0   159.0  5226.0   \n\n        혼인건수   이혼건수  학령인구(명)         행정구역  \n0     1071.0  487.0  43102.0  강원특별자치도 강릉시  \n1     1140.0  496.0  41960.0  강원특별자치도 강릉시  \n2     1107.0  475.0  41589.0  강원특별자치도 강릉시  \n3     1026.0  528.0  40758.0  강원특별자치도 강릉시  \n4      983.0  473.0  39345.0  강원특별자치도 강릉시  \n...      ...    ...      ...          ...  \n5124   589.0  392.0  22297.0     충청북도 충주시  \n5125   560.0  385.0  21256.0     충청북도 충주시  \n5126   531.0  378.0  20215.0     충청북도 충주시  \n5127   502.0  371.0  19174.0     충청북도 충주시  \n5128   473.0  364.0  18133.0     충청북도 충주시  \n\n[5129 rows x 12 columns]",
      "text/html": "<div>\n<style scoped>\n    .dataframe tbody tr th:only-of-type {\n        vertical-align: middle;\n    }\n\n    .dataframe tbody tr th {\n        vertical-align: top;\n    }\n\n    .dataframe thead th {\n        text-align: right;\n    }\n</style>\n<table border=\"1\" class=\"dataframe\">\n  <thead>\n    <tr style=\"text-align: right;\">\n      <th></th>\n      <th>행정구역(시도)</th>\n      <th>행정구역(시군구)</th>\n      <th>연도</th>\n      <th>총인구수(명)</th>\n      <th>유치원 수</th>\n      <th>초등학교 수</th>\n      <th>출생건수</th>\n      <th>사망건수</th>\n      <th>혼인건수</th>\n      <th>이혼건수</th>\n      <th>학령인구(명)</th>\n      <th>행정구역</th>\n    </tr>\n  </thead>\n  <tbody>\n    <tr>\n      <th>0</th>\n      <td>강원특별자치도</td>\n      <td>강릉시</td>\n      <td>2010</td>\n      <td>218503.0</td>\n      <td>40.0</td>\n      <td>35.0</td>\n      <td>1641.0</td>\n      <td>1413.0</td>\n      <td>1071.0</td>\n      <td>487.0</td>\n      <td>43102.0</td>\n      <td>강원특별자치도 강릉시</td>\n    </tr>\n    <tr>\n      <th>1</th>\n      <td>강원특별자치도</td>\n      <td>강릉시</td>\n      <td>2011</td>\n      <td>217571.0</td>\n      <td>40.0</td>\n      <td>35.0</td>\n      <td>1671.0</td>\n      <td>1434.0</td>\n      <td>1140.0</td>\n      <td>496.0</td>\n      <td>41960.0</td>\n      <td>강원특별자치도 강릉시</td>\n    </tr>\n    <tr>\n      <th>2</th>\n      <td>강원특별자치도</td>\n      <td>강릉시</td>\n      <td>2012</td>\n      <td>217741.0</td>\n      <td>40.0</td>\n      <td>35.0</td>\n      <td>1636.0</td>\n      <td>1490.0</td>\n      <td>1107.0</td>\n      <td>475.0</td>\n      <td>41589.0</td>\n      <td>강원특별자치도 강릉시</td>\n    </tr>\n    <tr>\n      <th>3</th>\n      <td>강원특별자치도</td>\n      <td>강릉시</td>\n      <td>2013</td>\n      <td>216806.0</td>\n      <td>40.0</td>\n      <td>35.0</td>\n      <td>1460.0</td>\n      <td>1471.0</td>\n      <td>1026.0</td>\n      <td>528.0</td>\n      <td>40758.0</td>\n      <td>강원특별자치도 강릉시</td>\n    </tr>\n    <tr>\n      <th>4</th>\n      <td>강원특별자치도</td>\n      <td>강릉시</td>\n      <td>2014</td>\n      <td>215807.0</td>\n      <td>41.0</td>\n      <td>35.0</td>\n      <td>1298.0</td>\n      <td>1539.0</td>\n      <td>983.0</td>\n      <td>473.0</td>\n      <td>39345.0</td>\n      <td>강원특별자치도 강릉시</td>\n    </tr>\n    <tr>\n      <th>...</th>\n      <td>...</td>\n      <td>...</td>\n      <td>...</td>\n      <td>...</td>\n      <td>...</td>\n      <td>...</td>\n      <td>...</td>\n      <td>...</td>\n      <td>...</td>\n      <td>...</td>\n      <td>...</td>\n      <td>...</td>\n    </tr>\n    <tr>\n      <th>5124</th>\n      <td>충청북도</td>\n      <td>충주시</td>\n      <td>2028</td>\n      <td>200258.0</td>\n      <td>40.0</td>\n      <td>29.0</td>\n      <td>443.0</td>\n      <td>3965.0</td>\n      <td>589.0</td>\n      <td>392.0</td>\n      <td>22297.0</td>\n      <td>충청북도 충주시</td>\n    </tr>\n    <tr>\n      <th>5125</th>\n      <td>충청북도</td>\n      <td>충주시</td>\n      <td>2029</td>\n      <td>198739.0</td>\n      <td>40.0</td>\n      <td>28.0</td>\n      <td>372.0</td>\n      <td>4281.0</td>\n      <td>560.0</td>\n      <td>385.0</td>\n      <td>21256.0</td>\n      <td>충청북도 충주시</td>\n    </tr>\n    <tr>\n      <th>5126</th>\n      <td>충청북도</td>\n      <td>충주시</td>\n      <td>2030</td>\n      <td>197725.0</td>\n      <td>39.0</td>\n      <td>27.0</td>\n      <td>301.0</td>\n      <td>4596.0</td>\n      <td>531.0</td>\n      <td>378.0</td>\n      <td>20215.0</td>\n      <td>충청북도 충주시</td>\n    </tr>\n    <tr>\n      <th>5127</th>\n      <td>충청북도</td>\n      <td>충주시</td>\n      <td>2031</td>\n      <td>196193.0</td>\n      <td>39.0</td>\n      <td>26.0</td>\n      <td>230.0</td>\n      <td>4911.0</td>\n      <td>502.0</td>\n      <td>371.0</td>\n      <td>19174.0</td>\n      <td>충청북도 충주시</td>\n    </tr>\n    <tr>\n      <th>5128</th>\n      <td>충청북도</td>\n      <td>충주시</td>\n      <td>2032</td>\n      <td>195201.0</td>\n      <td>38.0</td>\n      <td>25.0</td>\n      <td>159.0</td>\n      <td>5226.0</td>\n      <td>473.0</td>\n      <td>364.0</td>\n      <td>18133.0</td>\n      <td>충청북도 충주시</td>\n    </tr>\n  </tbody>\n</table>\n<p>5129 rows × 12 columns</p>\n</div>"
     },
     "execution_count": 4,
     "metadata": {},
     "output_type": "execute_result"
    }
   ],
   "source": [
    "df"
   ],
   "metadata": {
    "collapsed": false,
    "pycharm": {
     "name": "#%%\n"
    }
   }
  },
  {
   "cell_type": "code",
   "execution_count": 5,
   "outputs": [],
   "source": [
    "data = df"
   ],
   "metadata": {
    "collapsed": false,
    "pycharm": {
     "name": "#%%\n"
    }
   }
  },
  {
   "cell_type": "code",
   "execution_count": 10,
   "outputs": [],
   "source": [
    "use_cols = ['총인구수(명)', '유치원 수', '초등학교 수', '출생건수', '사망건수', '혼인건수', '이혼건수', '학령인구(명)']"
   ],
   "metadata": {
    "collapsed": false,
    "pycharm": {
     "name": "#%%\n"
    }
   }
  },
  {
   "cell_type": "code",
   "execution_count": 11,
   "outputs": [
    {
     "data": {
      "text/plain": "행정구역\n강원특별자치도 강릉시    23\n인천광역시 남동구      23\n서울특별시 은평구      23\n서울특별시 종로구      23\n서울특별시 중구       23\n               ..\n경상북도 영양군       23\n경상북도 영주시       23\n경상북도 영천시       23\n경상북도 예천군       23\n충청북도 충주시       23\nName: count, Length: 223, dtype: int64"
     },
     "execution_count": 11,
     "metadata": {},
     "output_type": "execute_result"
    }
   ],
   "source": [
    "df['행정구역'].value_counts()"
   ],
   "metadata": {
    "collapsed": false,
    "pycharm": {
     "name": "#%%\n"
    }
   }
  },
  {
   "cell_type": "code",
   "execution_count": 12,
   "outputs": [],
   "source": [
    "from sklearn.preprocessing import MinMaxScaler\n",
    "from sklearn.metrics import mean_squared_error\n",
    "\n",
    "# 데이터 전처리\n",
    "scaler = MinMaxScaler()\n",
    "df[use_cols] = scaler.fit_transform(df[use_cols])"
   ],
   "metadata": {
    "collapsed": false,
    "pycharm": {
     "name": "#%%\n"
    }
   }
  },
  {
   "cell_type": "code",
   "execution_count": 14,
   "outputs": [
    {
     "name": "stdout",
     "output_type": "stream",
     "text": [
      "     행정구역(시도) 행정구역(시군구)    연도   총인구수(명)     유치원 수    초등학교 수      출생건수  \\\n",
      "0     강원특별자치도       강릉시  2010  0.167264  0.179916  0.267176  0.214527   \n",
      "1     강원특별자치도       강릉시  2011  0.166520  0.179916  0.267176  0.216781   \n",
      "2     강원특별자치도       강릉시  2012  0.166656  0.179916  0.267176  0.214152   \n",
      "3     강원특별자치도       강릉시  2013  0.165910  0.179916  0.267176  0.200931   \n",
      "4     강원특별자치도       강릉시  2014  0.165113  0.184100  0.267176  0.188763   \n",
      "...       ...       ...   ...       ...       ...       ...       ...   \n",
      "5114     충청북도       충주시  2018  0.160882  0.205021  0.290076  0.178021   \n",
      "5115     충청북도       충주시  2019  0.161068  0.196653  0.282443  0.173890   \n",
      "5116     충청북도       충주시  2020  0.160628  0.196653  0.274809  0.169534   \n",
      "5117     충청북도       충주시  2021  0.159967  0.196653  0.274809  0.162923   \n",
      "5118     충청북도       충주시  2022  0.159105  0.192469  0.267176  0.156539   \n",
      "\n",
      "          사망건수      혼인건수      이혼건수   학령인구(명)         행정구역  \n",
      "0     0.063235  0.221310  0.309744  0.176924  강원특별자치도 강릉시  \n",
      "1     0.064215  0.228766  0.312821  0.172243  강원특별자치도 강릉시  \n",
      "2     0.066828  0.225200  0.305641  0.170723  강원특별자치도 강릉시  \n",
      "3     0.065942  0.216447  0.323761  0.167317  강원특별자치도 강릉시  \n",
      "4     0.069115  0.211800  0.304957  0.161526  강원특별자치도 강릉시  \n",
      "...        ...       ...       ...       ...          ...  \n",
      "5114  0.075462  0.213962  0.313162  0.134905     충청북도 충주시  \n",
      "5115  0.075415  0.199589  0.310769  0.130290     충청북도 충주시  \n",
      "5116  0.075789  0.193214  0.309060  0.125556     충청북도 충주시  \n",
      "5117  0.079895  0.186298  0.292308  0.121548     충청북도 충주시  \n",
      "5118  0.093709  0.190188  0.292991  0.117249     충청북도 충주시  \n",
      "\n",
      "[2899 rows x 12 columns]\n"
     ]
    }
   ],
   "source": [
    "# 연도가 2013부터 2020까지인 데이터 추출\n",
    "filtered_df = df[(df['연도'] >= 2010) & (df['연도'] <= 2022)]\n",
    "\n",
    "# 결과 출력\n",
    "print(filtered_df)"
   ],
   "metadata": {
    "collapsed": false,
    "pycharm": {
     "name": "#%%\n"
    }
   }
  },
  {
   "cell_type": "code",
   "execution_count": 15,
   "outputs": [
    {
     "data": {
      "text/plain": "     행정구역(시도) 행정구역(시군구)    연도   총인구수(명)     유치원 수    초등학교 수      출생건수  \\\n0     강원특별자치도       강릉시  2010  0.167264  0.179916  0.267176  0.214527   \n1     강원특별자치도       강릉시  2011  0.166520  0.179916  0.267176  0.216781   \n2     강원특별자치도       강릉시  2012  0.166656  0.179916  0.267176  0.214152   \n3     강원특별자치도       강릉시  2013  0.165910  0.179916  0.267176  0.200931   \n4     강원특별자치도       강릉시  2014  0.165113  0.184100  0.267176  0.188763   \n...       ...       ...   ...       ...       ...       ...       ...   \n5114     충청북도       충주시  2018  0.160882  0.205021  0.290076  0.178021   \n5115     충청북도       충주시  2019  0.161068  0.196653  0.282443  0.173890   \n5116     충청북도       충주시  2020  0.160628  0.196653  0.274809  0.169534   \n5117     충청북도       충주시  2021  0.159967  0.196653  0.274809  0.162923   \n5118     충청북도       충주시  2022  0.159105  0.192469  0.267176  0.156539   \n\n          사망건수      혼인건수      이혼건수   학령인구(명)         행정구역  \n0     0.063235  0.221310  0.309744  0.176924  강원특별자치도 강릉시  \n1     0.064215  0.228766  0.312821  0.172243  강원특별자치도 강릉시  \n2     0.066828  0.225200  0.305641  0.170723  강원특별자치도 강릉시  \n3     0.065942  0.216447  0.323761  0.167317  강원특별자치도 강릉시  \n4     0.069115  0.211800  0.304957  0.161526  강원특별자치도 강릉시  \n...        ...       ...       ...       ...          ...  \n5114  0.075462  0.213962  0.313162  0.134905     충청북도 충주시  \n5115  0.075415  0.199589  0.310769  0.130290     충청북도 충주시  \n5116  0.075789  0.193214  0.309060  0.125556     충청북도 충주시  \n5117  0.079895  0.186298  0.292308  0.121548     충청북도 충주시  \n5118  0.093709  0.190188  0.292991  0.117249     충청북도 충주시  \n\n[2899 rows x 12 columns]",
      "text/html": "<div>\n<style scoped>\n    .dataframe tbody tr th:only-of-type {\n        vertical-align: middle;\n    }\n\n    .dataframe tbody tr th {\n        vertical-align: top;\n    }\n\n    .dataframe thead th {\n        text-align: right;\n    }\n</style>\n<table border=\"1\" class=\"dataframe\">\n  <thead>\n    <tr style=\"text-align: right;\">\n      <th></th>\n      <th>행정구역(시도)</th>\n      <th>행정구역(시군구)</th>\n      <th>연도</th>\n      <th>총인구수(명)</th>\n      <th>유치원 수</th>\n      <th>초등학교 수</th>\n      <th>출생건수</th>\n      <th>사망건수</th>\n      <th>혼인건수</th>\n      <th>이혼건수</th>\n      <th>학령인구(명)</th>\n      <th>행정구역</th>\n    </tr>\n  </thead>\n  <tbody>\n    <tr>\n      <th>0</th>\n      <td>강원특별자치도</td>\n      <td>강릉시</td>\n      <td>2010</td>\n      <td>0.167264</td>\n      <td>0.179916</td>\n      <td>0.267176</td>\n      <td>0.214527</td>\n      <td>0.063235</td>\n      <td>0.221310</td>\n      <td>0.309744</td>\n      <td>0.176924</td>\n      <td>강원특별자치도 강릉시</td>\n    </tr>\n    <tr>\n      <th>1</th>\n      <td>강원특별자치도</td>\n      <td>강릉시</td>\n      <td>2011</td>\n      <td>0.166520</td>\n      <td>0.179916</td>\n      <td>0.267176</td>\n      <td>0.216781</td>\n      <td>0.064215</td>\n      <td>0.228766</td>\n      <td>0.312821</td>\n      <td>0.172243</td>\n      <td>강원특별자치도 강릉시</td>\n    </tr>\n    <tr>\n      <th>2</th>\n      <td>강원특별자치도</td>\n      <td>강릉시</td>\n      <td>2012</td>\n      <td>0.166656</td>\n      <td>0.179916</td>\n      <td>0.267176</td>\n      <td>0.214152</td>\n      <td>0.066828</td>\n      <td>0.225200</td>\n      <td>0.305641</td>\n      <td>0.170723</td>\n      <td>강원특별자치도 강릉시</td>\n    </tr>\n    <tr>\n      <th>3</th>\n      <td>강원특별자치도</td>\n      <td>강릉시</td>\n      <td>2013</td>\n      <td>0.165910</td>\n      <td>0.179916</td>\n      <td>0.267176</td>\n      <td>0.200931</td>\n      <td>0.065942</td>\n      <td>0.216447</td>\n      <td>0.323761</td>\n      <td>0.167317</td>\n      <td>강원특별자치도 강릉시</td>\n    </tr>\n    <tr>\n      <th>4</th>\n      <td>강원특별자치도</td>\n      <td>강릉시</td>\n      <td>2014</td>\n      <td>0.165113</td>\n      <td>0.184100</td>\n      <td>0.267176</td>\n      <td>0.188763</td>\n      <td>0.069115</td>\n      <td>0.211800</td>\n      <td>0.304957</td>\n      <td>0.161526</td>\n      <td>강원특별자치도 강릉시</td>\n    </tr>\n    <tr>\n      <th>...</th>\n      <td>...</td>\n      <td>...</td>\n      <td>...</td>\n      <td>...</td>\n      <td>...</td>\n      <td>...</td>\n      <td>...</td>\n      <td>...</td>\n      <td>...</td>\n      <td>...</td>\n      <td>...</td>\n      <td>...</td>\n    </tr>\n    <tr>\n      <th>5114</th>\n      <td>충청북도</td>\n      <td>충주시</td>\n      <td>2018</td>\n      <td>0.160882</td>\n      <td>0.205021</td>\n      <td>0.290076</td>\n      <td>0.178021</td>\n      <td>0.075462</td>\n      <td>0.213962</td>\n      <td>0.313162</td>\n      <td>0.134905</td>\n      <td>충청북도 충주시</td>\n    </tr>\n    <tr>\n      <th>5115</th>\n      <td>충청북도</td>\n      <td>충주시</td>\n      <td>2019</td>\n      <td>0.161068</td>\n      <td>0.196653</td>\n      <td>0.282443</td>\n      <td>0.173890</td>\n      <td>0.075415</td>\n      <td>0.199589</td>\n      <td>0.310769</td>\n      <td>0.130290</td>\n      <td>충청북도 충주시</td>\n    </tr>\n    <tr>\n      <th>5116</th>\n      <td>충청북도</td>\n      <td>충주시</td>\n      <td>2020</td>\n      <td>0.160628</td>\n      <td>0.196653</td>\n      <td>0.274809</td>\n      <td>0.169534</td>\n      <td>0.075789</td>\n      <td>0.193214</td>\n      <td>0.309060</td>\n      <td>0.125556</td>\n      <td>충청북도 충주시</td>\n    </tr>\n    <tr>\n      <th>5117</th>\n      <td>충청북도</td>\n      <td>충주시</td>\n      <td>2021</td>\n      <td>0.159967</td>\n      <td>0.196653</td>\n      <td>0.274809</td>\n      <td>0.162923</td>\n      <td>0.079895</td>\n      <td>0.186298</td>\n      <td>0.292308</td>\n      <td>0.121548</td>\n      <td>충청북도 충주시</td>\n    </tr>\n    <tr>\n      <th>5118</th>\n      <td>충청북도</td>\n      <td>충주시</td>\n      <td>2022</td>\n      <td>0.159105</td>\n      <td>0.192469</td>\n      <td>0.267176</td>\n      <td>0.156539</td>\n      <td>0.093709</td>\n      <td>0.190188</td>\n      <td>0.292991</td>\n      <td>0.117249</td>\n      <td>충청북도 충주시</td>\n    </tr>\n  </tbody>\n</table>\n<p>2899 rows × 12 columns</p>\n</div>"
     },
     "execution_count": 15,
     "metadata": {},
     "output_type": "execute_result"
    }
   ],
   "source": [
    "filtered_df"
   ],
   "metadata": {
    "collapsed": false,
    "pycharm": {
     "name": "#%%\n"
    }
   }
  },
  {
   "cell_type": "code",
   "execution_count": 16,
   "outputs": [],
   "source": [
    "# 시퀀스 데이터 생성\n",
    "def create_sequence_data(data, sequence_length):\n",
    "    sequences = []\n",
    "    for region in data['행정구역'].unique().tolist():\n",
    "        temp_df = data[data['행정구역'] == region]\n",
    "        if len(temp_df) < sequence_length:\n",
    "            continue\n",
    "\n",
    "        temp_df = temp_df[use_cols]\n",
    "        for i in range(len(temp_df) - sequence_length):\n",
    "            seq = temp_df[i:i+sequence_length+1]\n",
    "            sequences.append(seq)\n",
    "    return np.array(sequences)"
   ],
   "metadata": {
    "collapsed": false,
    "pycharm": {
     "name": "#%%\n"
    }
   }
  },
  {
   "cell_type": "code",
   "execution_count": 17,
   "outputs": [],
   "source": [
    "sequence_length = 3  # 시퀀스 길이\n",
    "sequences = create_sequence_data(filtered_df, sequence_length)"
   ],
   "metadata": {
    "collapsed": false,
    "pycharm": {
     "name": "#%%\n"
    }
   }
  },
  {
   "cell_type": "code",
   "execution_count": 18,
   "outputs": [
    {
     "data": {
      "text/plain": "(2230, 4, 8)"
     },
     "execution_count": 18,
     "metadata": {},
     "output_type": "execute_result"
    }
   ],
   "source": [
    "sequences.shape"
   ],
   "metadata": {
    "collapsed": false,
    "pycharm": {
     "name": "#%%\n"
    }
   }
  },
  {
   "cell_type": "code",
   "execution_count": 19,
   "outputs": [],
   "source": [
    "# 데이터셋 분리\n",
    "X = sequences[:, :-1]\n",
    "y = sequences[:, -1][:, -1]"
   ],
   "metadata": {
    "collapsed": false,
    "pycharm": {
     "name": "#%%\n"
    }
   }
  },
  {
   "cell_type": "code",
   "execution_count": 20,
   "outputs": [],
   "source": [
    "# 훈련/검증 데이터셋 분리\n",
    "X_train, X_test, y_train, y_test = train_test_split(X, y, test_size=0.2, shuffle=False)"
   ],
   "metadata": {
    "collapsed": false,
    "pycharm": {
     "name": "#%%\n"
    }
   }
  },
  {
   "cell_type": "code",
   "execution_count": 21,
   "outputs": [
    {
     "name": "stderr",
     "output_type": "stream",
     "text": [
      "/Users/leebeomsu/Desktop/DShackathon/venv/lib/python3.9/site-packages/urllib3/__init__.py:34: NotOpenSSLWarning: urllib3 v2.0 only supports OpenSSL 1.1.1+, currently the 'ssl' module is compiled with 'LibreSSL 2.8.3'. See: https://github.com/urllib3/urllib3/issues/3020\n",
      "  warnings.warn(\n"
     ]
    }
   ],
   "source": [
    "from tensorflow.keras.models import Sequential\n",
    "from tensorflow.keras.layers import LSTM, Dense"
   ],
   "metadata": {
    "collapsed": false,
    "pycharm": {
     "name": "#%%\n"
    }
   }
  },
  {
   "cell_type": "code",
   "execution_count": 22,
   "outputs": [],
   "source": [
    "model = Sequential()\n",
    "model.add(LSTM(50, activation='relu', input_shape=(X.shape[1], X.shape[2])))\n",
    "model.add(Dense(1))\n",
    "model.compile(optimizer='adam', loss='mse')"
   ],
   "metadata": {
    "collapsed": false,
    "pycharm": {
     "name": "#%%# 모델 구성\n"
    }
   }
  },
  {
   "cell_type": "code",
   "execution_count": 23,
   "outputs": [
    {
     "name": "stdout",
     "output_type": "stream",
     "text": [
      "Epoch 1/100\n",
      "56/56 [==============================] - 1s 1ms/step - loss: 0.0121\n",
      "Epoch 2/100\n",
      "56/56 [==============================] - 0s 1ms/step - loss: 0.0011\n",
      "Epoch 3/100\n",
      "56/56 [==============================] - 0s 1ms/step - loss: 8.5736e-04\n",
      "Epoch 4/100\n",
      "56/56 [==============================] - 0s 1ms/step - loss: 6.9477e-04\n",
      "Epoch 5/100\n",
      "56/56 [==============================] - 0s 1ms/step - loss: 5.9156e-04\n",
      "Epoch 6/100\n",
      "56/56 [==============================] - 0s 1ms/step - loss: 5.0312e-04\n",
      "Epoch 7/100\n",
      "56/56 [==============================] - 0s 1ms/step - loss: 4.0689e-04\n",
      "Epoch 8/100\n",
      "56/56 [==============================] - 0s 1ms/step - loss: 3.3323e-04\n",
      "Epoch 9/100\n",
      "56/56 [==============================] - 0s 1ms/step - loss: 2.6017e-04\n",
      "Epoch 10/100\n",
      "56/56 [==============================] - 0s 1ms/step - loss: 1.8872e-04\n",
      "Epoch 11/100\n",
      "56/56 [==============================] - 0s 1ms/step - loss: 1.3176e-04\n",
      "Epoch 12/100\n",
      "56/56 [==============================] - 0s 1ms/step - loss: 1.0002e-04\n",
      "Epoch 13/100\n",
      "56/56 [==============================] - 0s 1ms/step - loss: 7.9242e-05\n",
      "Epoch 14/100\n",
      "56/56 [==============================] - 0s 1ms/step - loss: 8.2257e-05\n",
      "Epoch 15/100\n",
      "56/56 [==============================] - 0s 1ms/step - loss: 7.3240e-05\n",
      "Epoch 16/100\n",
      "56/56 [==============================] - 0s 1ms/step - loss: 6.6595e-05\n",
      "Epoch 17/100\n",
      "56/56 [==============================] - 0s 1ms/step - loss: 8.4751e-05\n",
      "Epoch 18/100\n",
      "56/56 [==============================] - 0s 1ms/step - loss: 9.4387e-05\n",
      "Epoch 19/100\n",
      "56/56 [==============================] - 0s 1ms/step - loss: 7.3275e-05\n",
      "Epoch 20/100\n",
      "56/56 [==============================] - 0s 1ms/step - loss: 6.2941e-05\n",
      "Epoch 21/100\n",
      "56/56 [==============================] - 0s 1ms/step - loss: 6.6083e-05\n",
      "Epoch 22/100\n",
      "56/56 [==============================] - 0s 1ms/step - loss: 6.0751e-05\n",
      "Epoch 23/100\n",
      "56/56 [==============================] - 0s 1ms/step - loss: 6.4681e-05\n",
      "Epoch 24/100\n",
      "56/56 [==============================] - 0s 1ms/step - loss: 6.5569e-05\n",
      "Epoch 25/100\n",
      "56/56 [==============================] - 0s 1ms/step - loss: 7.2980e-05\n",
      "Epoch 26/100\n",
      "56/56 [==============================] - 0s 1ms/step - loss: 5.8456e-05\n",
      "Epoch 27/100\n",
      "56/56 [==============================] - 0s 1ms/step - loss: 6.3406e-05\n",
      "Epoch 28/100\n",
      "56/56 [==============================] - 0s 1ms/step - loss: 6.8821e-05\n",
      "Epoch 29/100\n",
      "56/56 [==============================] - 0s 1ms/step - loss: 6.0886e-05\n",
      "Epoch 30/100\n",
      "56/56 [==============================] - 0s 1ms/step - loss: 7.5941e-05\n",
      "Epoch 31/100\n",
      "56/56 [==============================] - 0s 1ms/step - loss: 6.1484e-05\n",
      "Epoch 32/100\n",
      "56/56 [==============================] - 0s 1ms/step - loss: 6.4991e-05\n",
      "Epoch 33/100\n",
      "56/56 [==============================] - 0s 1ms/step - loss: 7.4099e-05\n",
      "Epoch 34/100\n",
      "56/56 [==============================] - 0s 1ms/step - loss: 6.3217e-05\n",
      "Epoch 35/100\n",
      "56/56 [==============================] - 0s 1ms/step - loss: 6.5020e-05\n",
      "Epoch 36/100\n",
      "56/56 [==============================] - 0s 1ms/step - loss: 6.0438e-05\n",
      "Epoch 37/100\n",
      "56/56 [==============================] - 0s 1ms/step - loss: 5.7810e-05\n",
      "Epoch 38/100\n",
      "56/56 [==============================] - 0s 1ms/step - loss: 5.8801e-05\n",
      "Epoch 39/100\n",
      "56/56 [==============================] - 0s 1ms/step - loss: 5.8068e-05\n",
      "Epoch 40/100\n",
      "56/56 [==============================] - 0s 1ms/step - loss: 5.5868e-05\n",
      "Epoch 41/100\n",
      "56/56 [==============================] - 0s 1ms/step - loss: 6.1185e-05\n",
      "Epoch 42/100\n",
      "56/56 [==============================] - 0s 1ms/step - loss: 5.9563e-05\n",
      "Epoch 43/100\n",
      "56/56 [==============================] - 0s 1ms/step - loss: 5.5043e-05\n",
      "Epoch 44/100\n",
      "56/56 [==============================] - 0s 1ms/step - loss: 5.5256e-05\n",
      "Epoch 45/100\n",
      "56/56 [==============================] - 0s 1ms/step - loss: 5.8604e-05\n",
      "Epoch 46/100\n",
      "56/56 [==============================] - 0s 1ms/step - loss: 5.4964e-05\n",
      "Epoch 47/100\n",
      "56/56 [==============================] - 0s 1ms/step - loss: 5.7363e-05\n",
      "Epoch 48/100\n",
      "56/56 [==============================] - 0s 1ms/step - loss: 6.3849e-05\n",
      "Epoch 49/100\n",
      "56/56 [==============================] - 0s 1ms/step - loss: 8.8726e-05\n",
      "Epoch 50/100\n",
      "56/56 [==============================] - 0s 1ms/step - loss: 5.8552e-05\n",
      "Epoch 51/100\n",
      "56/56 [==============================] - 0s 1ms/step - loss: 6.2795e-05\n",
      "Epoch 52/100\n",
      "56/56 [==============================] - 0s 1ms/step - loss: 5.8975e-05\n",
      "Epoch 53/100\n",
      "56/56 [==============================] - 0s 1ms/step - loss: 5.1196e-05\n",
      "Epoch 54/100\n",
      "56/56 [==============================] - 0s 1ms/step - loss: 4.9089e-05\n",
      "Epoch 55/100\n",
      "56/56 [==============================] - 0s 1ms/step - loss: 5.0548e-05\n",
      "Epoch 56/100\n",
      "56/56 [==============================] - 0s 1ms/step - loss: 6.0175e-05\n",
      "Epoch 57/100\n",
      "56/56 [==============================] - 0s 1ms/step - loss: 4.8670e-05\n",
      "Epoch 58/100\n",
      "56/56 [==============================] - 0s 1ms/step - loss: 5.4430e-05\n",
      "Epoch 59/100\n",
      "56/56 [==============================] - 0s 1ms/step - loss: 5.1926e-05\n",
      "Epoch 60/100\n",
      "56/56 [==============================] - 0s 1ms/step - loss: 4.7551e-05\n",
      "Epoch 61/100\n",
      "56/56 [==============================] - 0s 1ms/step - loss: 5.9358e-05\n",
      "Epoch 62/100\n",
      "56/56 [==============================] - 0s 1ms/step - loss: 4.9364e-05\n",
      "Epoch 63/100\n",
      "56/56 [==============================] - 0s 1ms/step - loss: 4.8139e-05\n",
      "Epoch 64/100\n",
      "56/56 [==============================] - 0s 1ms/step - loss: 5.3643e-05\n",
      "Epoch 65/100\n",
      "56/56 [==============================] - 0s 1ms/step - loss: 5.2001e-05\n",
      "Epoch 66/100\n",
      "56/56 [==============================] - 0s 1ms/step - loss: 5.2693e-05\n",
      "Epoch 67/100\n",
      "56/56 [==============================] - 0s 1ms/step - loss: 5.6113e-05\n",
      "Epoch 68/100\n",
      "56/56 [==============================] - 0s 1ms/step - loss: 5.4094e-05\n",
      "Epoch 69/100\n",
      "56/56 [==============================] - 0s 1ms/step - loss: 5.0561e-05\n",
      "Epoch 70/100\n",
      "56/56 [==============================] - 0s 1ms/step - loss: 4.5424e-05\n",
      "Epoch 71/100\n",
      "56/56 [==============================] - 0s 1ms/step - loss: 5.0202e-05\n",
      "Epoch 72/100\n",
      "56/56 [==============================] - 0s 1ms/step - loss: 5.8653e-05\n",
      "Epoch 73/100\n",
      "56/56 [==============================] - 0s 1ms/step - loss: 4.4340e-05\n",
      "Epoch 74/100\n",
      "56/56 [==============================] - 0s 1ms/step - loss: 5.6736e-05\n",
      "Epoch 75/100\n",
      "56/56 [==============================] - 0s 1ms/step - loss: 4.2240e-05\n",
      "Epoch 76/100\n",
      "56/56 [==============================] - 0s 1ms/step - loss: 4.3874e-05\n",
      "Epoch 77/100\n",
      "56/56 [==============================] - 0s 2ms/step - loss: 4.5850e-05\n",
      "Epoch 78/100\n",
      "56/56 [==============================] - 0s 2ms/step - loss: 4.6957e-05\n",
      "Epoch 79/100\n",
      "56/56 [==============================] - 0s 1ms/step - loss: 4.8251e-05\n",
      "Epoch 80/100\n",
      "56/56 [==============================] - 0s 1ms/step - loss: 6.1543e-05\n",
      "Epoch 81/100\n",
      "56/56 [==============================] - 0s 1ms/step - loss: 5.5167e-05\n",
      "Epoch 82/100\n",
      "56/56 [==============================] - 0s 1ms/step - loss: 4.2496e-05\n",
      "Epoch 83/100\n",
      "56/56 [==============================] - 0s 1ms/step - loss: 4.7247e-05\n",
      "Epoch 84/100\n",
      "56/56 [==============================] - 0s 1ms/step - loss: 4.4822e-05\n",
      "Epoch 85/100\n",
      "56/56 [==============================] - 0s 1ms/step - loss: 4.3399e-05\n",
      "Epoch 86/100\n",
      "56/56 [==============================] - 0s 1ms/step - loss: 4.6061e-05\n",
      "Epoch 87/100\n",
      "56/56 [==============================] - 0s 1ms/step - loss: 6.2264e-05\n",
      "Epoch 88/100\n",
      "56/56 [==============================] - 0s 1ms/step - loss: 4.1864e-05\n",
      "Epoch 89/100\n",
      "56/56 [==============================] - 0s 1ms/step - loss: 4.3706e-05\n",
      "Epoch 90/100\n",
      "56/56 [==============================] - 0s 1ms/step - loss: 4.4820e-05\n",
      "Epoch 91/100\n",
      "56/56 [==============================] - 0s 1ms/step - loss: 4.2069e-05\n",
      "Epoch 92/100\n",
      "56/56 [==============================] - 0s 1ms/step - loss: 5.7707e-05\n",
      "Epoch 93/100\n",
      "56/56 [==============================] - 0s 1ms/step - loss: 4.1980e-05\n",
      "Epoch 94/100\n",
      "56/56 [==============================] - 0s 1ms/step - loss: 3.8147e-05\n",
      "Epoch 95/100\n",
      "56/56 [==============================] - 0s 1ms/step - loss: 3.5706e-05\n",
      "Epoch 96/100\n",
      "56/56 [==============================] - 0s 1ms/step - loss: 5.0887e-05\n",
      "Epoch 97/100\n",
      "56/56 [==============================] - 0s 1ms/step - loss: 3.7224e-05\n",
      "Epoch 98/100\n",
      "56/56 [==============================] - 0s 1ms/step - loss: 4.2452e-05\n",
      "Epoch 99/100\n",
      "56/56 [==============================] - 0s 1ms/step - loss: 3.5274e-05\n",
      "Epoch 100/100\n",
      "56/56 [==============================] - 0s 1ms/step - loss: 4.2163e-05\n"
     ]
    },
    {
     "data": {
      "text/plain": "<keras.src.callbacks.History at 0x29025ca00>"
     },
     "execution_count": 23,
     "metadata": {},
     "output_type": "execute_result"
    }
   ],
   "source": [
    "# 모델 학습\n",
    "model.fit(X_train, y_train, epochs=100, verbose=1)"
   ],
   "metadata": {
    "collapsed": false,
    "pycharm": {
     "name": "#%%\n"
    }
   }
  },
  {
   "cell_type": "code",
   "execution_count": 24,
   "outputs": [],
   "source": [
    "def invTransform(scaler, data, colName, colNames):\n",
    "    dummy = pd.DataFrame(np.zeros((len(data), len(colNames))), columns=colNames)\n",
    "    dummy[colName] = data\n",
    "    dummy = pd.DataFrame(scaler.inverse_transform(dummy), columns=colNames)\n",
    "    return dummy[colName].values"
   ],
   "metadata": {
    "collapsed": false,
    "pycharm": {
     "name": "#%%\n"
    }
   }
  },
  {
   "cell_type": "code",
   "execution_count": 25,
   "outputs": [
    {
     "name": "stdout",
     "output_type": "stream",
     "text": [
      "14/14 [==============================] - 0s 790us/step\n"
     ]
    },
    {
     "data": {
      "text/plain": "<Figure size 640x480 with 1 Axes>",
      "image/png": "[encoded data removed]"
     },
     "metadata": {},
     "output_type": "display_data"
    },
    {
     "name": "stdout",
     "output_type": "stream",
     "text": [
      "Mean Squared Error: 2151001.62\n",
      "Mean Absolute Percentage Error (MAPE): 3.15%\n"
     ]
    }
   ],
   "source": [
    "# 예측\n",
    "predicted_data = model.predict(X_test)\n",
    "\n",
    "# 예측 결과 역전환\n",
    "#predicted_data = scaler.inverse_transform(predicted_data)\n",
    "predicted_data = invTransform(scaler, predicted_data, '학령인구(명)', use_cols).reshape(-1, 1)\n",
    "predicted_data = predicted_data.round()\n",
    "#y_true = scaler.inverse_transform(y_test.reshape(-1, 1))\n",
    "y_true = invTransform(scaler, y_test, '학령인구(명)', use_cols).reshape(-1, 1)\n",
    "\n",
    "# 결과 시각화\n",
    "plt.plot(range(len(y_true)), y_true, label='True')\n",
    "plt.plot(range(len(predicted_data)), predicted_data, label='Predicted', linestyle='--')\n",
    "plt.xlabel('Test Case')\n",
    "plt.ylabel('School_Age_Population')\n",
    "plt.legend()\n",
    "plt.show()\n",
    "\n",
    "# 모델 평가\n",
    "mse = mean_squared_error(y_true, predicted_data)\n",
    "print(f'Mean Squared Error: {mse:.2f}')\n",
    "\n",
    "# MAPE 계산 함수\n",
    "def calculate_mape(y_true, y_pred):\n",
    "    return np.mean(np.abs((y_true - y_pred) / y_true)) * 100\n",
    "\n",
    "# MAPE 계산\n",
    "mape = calculate_mape(y_true, predicted_data)\n",
    "print(f'Mean Absolute Percentage Error (MAPE): {mape:.2f}%')"
   ],
   "metadata": {
    "collapsed": false,
    "pycharm": {
     "name": "#%%\n"
    }
   }
  },
  {
   "cell_type": "code",
   "execution_count": 27,
   "outputs": [
    {
     "name": "stdout",
     "output_type": "stream",
     "text": [
      "[4079.] [3928.]\n",
      "[3907.] [3605.]\n",
      "[3742.] [3454.]\n",
      "[3719.] [3328.]\n",
      "[3436.] [3217.]\n",
      "[3227.] [3149.]\n",
      "[4667.] [4650.]\n",
      "[4448.] [4406.]\n",
      "[4347.] [4279.]\n",
      "[4107.] [4104.]\n",
      "[3962.] [3905.]\n",
      "[3761.] [3690.]\n",
      "[3514.] [3482.]\n",
      "[3271.] [3309.]\n",
      "[3099.] [3001.]\n",
      "[2898.] [2825.]\n",
      "[11621.] [11696.]\n",
      "[11136.] [11656.]\n",
      "[10623.] [11322.]\n",
      "[10277.] [11166.]\n",
      "[9790.] [10660.]\n",
      "[9377.] [10162.]\n",
      "[8807.] [9583.]\n",
      "[8355.] [8698.]\n",
      "[7908.] [7963.]\n",
      "[7463.] [7213.]\n",
      "[12387.] [11528.]\n",
      "[11834.] [11485.]\n",
      "[11359.] [11061.]\n",
      "[10920.] [10832.]\n",
      "[10502.] [10356.]\n",
      "[9989.] [10031.]\n",
      "[9401.] [9624.]\n",
      "[8984.] [9104.]\n",
      "[8715.] [8622.]\n",
      "[8158.] [8233.]\n",
      "[9286.] [8616.]\n",
      "[8945.] [8346.]\n",
      "[8785.] [8313.]\n",
      "[8640.] [7976.]\n",
      "[8328.] [7894.]\n",
      "[7451.] [7697.]\n",
      "[6896.] [7214.]\n",
      "[6630.] [6604.]\n",
      "[6294.] [6144.]\n",
      "[5857.] [5636.]\n",
      "[52708.] [52742.]\n",
      "[51510.] [51444.]\n",
      "[50246.] [49995.]\n",
      "[49204.] [50167.]\n",
      "[47957.] [48884.]\n",
      "[46724.] [46750.]\n",
      "[45374.] [45334.]\n",
      "[43824.] [44365.]\n",
      "[42480.] [43141.]\n",
      "[40794.] [41577.]\n",
      "[13559.] [13477.]\n",
      "[13014.] [12918.]\n",
      "[12476.] [12326.]\n",
      "[11900.] [11731.]\n",
      "[11467.] [11205.]\n",
      "[10893.] [10679.]\n",
      "[10413.] [10103.]\n",
      "[9916.] [9846.]\n",
      "[9541.] [9205.]\n",
      "[9142.] [8564.]\n",
      "[15486.] [15232.]\n",
      "[14999.] [14853.]\n",
      "[14499.] [14454.]\n",
      "[13938.] [13830.]\n",
      "[13331.] [13392.]\n",
      "[12711.] [12772.]\n",
      "[12007.] [12309.]\n",
      "[11498.] [11698.]\n",
      "[11034.] [11070.]\n",
      "[10437.] [10489.]\n",
      "[3531.] [3486.]\n",
      "[3488.] [3316.]\n",
      "[3374.] [3279.]\n",
      "[3256.] [3232.]\n",
      "[3127.] [3028.]\n",
      "[3035.] [2841.]\n",
      "[2913.] [2818.]\n",
      "[2858.] [2697.]\n",
      "[2746.] [2486.]\n",
      "[2644.] [2404.]\n",
      "[8861.] [8419.]\n",
      "[8230.] [8058.]\n",
      "[7849.] [7754.]\n",
      "[7675.] [7381.]\n",
      "[7226.] [7153.]\n",
      "[6719.] [6875.]\n",
      "[6342.] [6550.]\n",
      "[6025.] [6046.]\n",
      "[5696.] [5499.]\n",
      "[5384.] [5173.]\n",
      "[4397.] [3992.]\n",
      "[4332.] [3955.]\n",
      "[4258.] [3845.]\n",
      "[4058.] [3932.]\n",
      "[3896.] [3975.]\n",
      "[3728.] [3802.]\n",
      "[3496.] [3734.]\n",
      "[3312.] [3495.]\n",
      "[3169.] [3293.]\n",
      "[3092.] [2870.]\n",
      "[14469.] [14375.]\n",
      "[14881.] [14254.]\n",
      "[15556.] [14330.]\n",
      "[15109.] [15158.]\n",
      "[15067.] [15212.]\n",
      "[14603.] [14963.]\n",
      "[14046.] [14335.]\n",
      "[13591.] [13686.]\n",
      "[13243.] [13161.]\n",
      "[13068.] [12683.]\n",
      "[61401.] [62424.]\n",
      "[58853.] [60539.]\n",
      "[56500.] [58424.]\n",
      "[54278.] [55961.]\n",
      "[53055.] [53735.]\n",
      "[50394.] [51991.]\n",
      "[47494.] [49998.]\n",
      "[45195.] [47482.]\n",
      "[43456.] [44835.]\n",
      "[41248.] [42825.]\n",
      "[3655.] [3827.]\n",
      "[3631.] [3689.]\n",
      "[3721.] [3605.]\n",
      "[3652.] [3496.]\n",
      "[3499.] [3415.]\n",
      "[3366.] [3504.]\n",
      "[3048.] [3273.]\n",
      "[2625.] [3068.]\n",
      "[2459.] [2828.]\n",
      "[2376.] [2559.]\n",
      "[3203.] [2952.]\n",
      "[3166.] [2986.]\n",
      "[3079.] [2977.]\n",
      "[3102.] [2938.]\n",
      "[2932.] [2843.]\n",
      "[2985.] [2680.]\n",
      "[2769.] [2660.]\n",
      "[2636.] [2613.]\n",
      "[2517.] [2478.]\n",
      "[2363.] [2382.]\n",
      "[142585.] [139740.]\n",
      "[138979.] [137148.]\n",
      "[134226.] [134951.]\n",
      "[130285.] [129587.]\n",
      "[125868.] [126445.]\n",
      "[122846.] [122662.]\n",
      "[119954.] [119519.]\n",
      "[117143.] [117056.]\n",
      "[114365.] [112608.]\n",
      "[109895.] [110961.]\n",
      "[21026.] [20341.]\n",
      "[20243.] [19835.]\n",
      "[19468.] [19122.]\n",
      "[18739.] [18555.]\n",
      "[17845.] [17973.]\n",
      "[17008.] [16905.]\n",
      "[16238.] [15848.]\n",
      "[15353.] [15098.]\n",
      "[14590.] [14218.]\n",
      "[13766.] [13659.]\n",
      "[3353.] [3584.]\n",
      "[3227.] [3549.]\n",
      "[3216.] [3294.]\n",
      "[3173.] [3090.]\n",
      "[3143.] [3046.]\n",
      "[2961.] [2998.]\n",
      "[2770.] [2988.]\n",
      "[2656.] [2869.]\n",
      "[2502.] [2767.]\n",
      "[2341.] [2569.]\n",
      "[29006.] [29053.]\n",
      "[28617.] [28577.]\n",
      "[28649.] [28161.]\n",
      "[28807.] [28260.]\n",
      "[29206.] [28604.]\n",
      "[29182.] [28674.]\n",
      "[28473.] [28933.]\n",
      "[28418.] [28549.]\n",
      "[28546.] [27500.]\n",
      "[28174.] [27221.]\n",
      "[94450.] [93882.]\n",
      "[93679.] [93237.]\n",
      "[92713.] [93650.]\n",
      "[91658.] [92727.]\n",
      "[90655.] [92305.]\n",
      "[90112.] [90199.]\n",
      "[88667.] [88072.]\n",
      "[87778.] [87176.]\n",
      "[86536.] [86001.]\n",
      "[84346.] [83486.]\n",
      "[10488.] [10232.]\n",
      "[10195.] [9892.]\n",
      "[10360.] [9532.]\n",
      "[10430.] [9458.]\n",
      "[10511.] [9595.]\n",
      "[10308.] [9600.]\n",
      "[9896.] [9626.]\n",
      "[9586.] [9319.]\n",
      "[9446.] [9021.]\n",
      "[9317.] [8837.]\n",
      "[19868.] [20085.]\n",
      "[18589.] [18910.]\n",
      "[17493.] [18066.]\n",
      "[16671.] [17130.]\n",
      "[15687.] [15960.]\n",
      "[14998.] [15340.]\n",
      "[14347.] [14855.]\n",
      "[13505.] [13850.]\n",
      "[12983.] [13065.]\n",
      "[12764.] [12359.]\n",
      "[8127.] [7663.]\n",
      "[7883.] [7594.]\n",
      "[7771.] [7611.]\n",
      "[7517.] [7469.]\n",
      "[7362.] [7126.]\n",
      "[7143.] [6774.]\n",
      "[6920.] [6670.]\n",
      "[6547.] [6676.]\n",
      "[6154.] [6163.]\n",
      "[5916.] [5739.]\n",
      "[21415.] [21185.]\n",
      "[20428.] [20538.]\n",
      "[19843.] [20193.]\n",
      "[18985.] [19291.]\n",
      "[18233.] [18392.]\n",
      "[17281.] [17777.]\n",
      "[16450.] [16698.]\n",
      "[15705.] [15904.]\n",
      "[14998.] [14943.]\n",
      "[14259.] [14454.]\n",
      "[17528.] [17501.]\n",
      "[16956.] [16716.]\n",
      "[16520.] [16511.]\n",
      "[15787.] [16044.]\n",
      "[15217.] [15205.]\n",
      "[14600.] [14799.]\n",
      "[13936.] [14163.]\n",
      "[13365.] [13386.]\n",
      "[12731.] [12859.]\n",
      "[12106.] [12569.]\n",
      "[11037.] [10363.]\n",
      "[10526.] [10024.]\n",
      "[9984.] [9667.]\n",
      "[9442.] [9316.]\n",
      "[8930.] [8891.]\n",
      "[8461.] [8209.]\n",
      "[8000.] [7724.]\n",
      "[7479.] [7377.]\n",
      "[7063.] [6839.]\n",
      "[6629.] [6316.]\n",
      "[31920.] [31215.]\n",
      "[31351.] [30722.]\n",
      "[30761.] [30794.]\n",
      "[30074.] [30594.]\n",
      "[29620.] [29533.]\n",
      "[29491.] [28805.]\n",
      "[28825.] [28337.]\n",
      "[28319.] [27510.]\n",
      "[27977.] [27257.]\n",
      "[27159.] [26938.]\n",
      "[8166.] [8171.]\n",
      "[7817.] [7798.]\n",
      "[7364.] [7225.]\n",
      "[7002.] [6800.]\n",
      "[6595.] [6387.]\n",
      "[6193.] [5993.]\n",
      "[5866.] [5740.]\n",
      "[5538.] [5373.]\n",
      "[5257.] [5035.]\n",
      "[4934.] [4827.]\n",
      "[55171.] [54190.]\n",
      "[55349.] [54152.]\n",
      "[55427.] [54162.]\n",
      "[56026.] [54982.]\n",
      "[56972.] [55047.]\n",
      "[57260.] [55323.]\n",
      "[57270.] [55485.]\n",
      "[57069.] [55055.]\n",
      "[58054.] [54613.]\n",
      "[59072.] [55048.]\n",
      "[12978.] [12567.]\n",
      "[12475.] [11931.]\n",
      "[11690.] [11772.]\n",
      "[10863.] [11263.]\n",
      "[10285.] [10381.]\n",
      "[9906.] [9794.]\n",
      "[9519.] [9177.]\n",
      "[8977.] [9063.]\n",
      "[8548.] [8471.]\n",
      "[8298.] [7865.]\n",
      "[123747.] [123691.]\n",
      "[121824.] [121347.]\n",
      "[119380.] [119433.]\n",
      "[118053.] [119144.]\n",
      "[117301.] [117301.]\n",
      "[117421.] [113812.]\n",
      "[115792.] [114352.]\n",
      "[113977.] [114690.]\n",
      "[112248.] [112350.]\n",
      "[109435.] [110269.]\n",
      "[4274.] [4108.]\n",
      "[4210.] [4021.]\n",
      "[4101.] [3903.]\n",
      "[4114.] [3824.]\n",
      "[4125.] [3631.]\n",
      "[3930.] [3535.]\n",
      "[3610.] [3408.]\n",
      "[3357.] [3235.]\n",
      "[3156.] [3024.]\n",
      "[3074.] [2857.]\n",
      "[8763.] [9026.]\n",
      "[8533.] [8618.]\n",
      "[8620.] [8213.]\n",
      "[8384.] [8179.]\n",
      "[8139.] [8040.]\n",
      "[7765.] [8004.]\n",
      "[7374.] [7589.]\n",
      "[7030.] [7138.]\n",
      "[6685.] [6857.]\n",
      "[6390.] [6624.]\n",
      "[15140.] [14374.]\n",
      "[15353.] [14192.]\n",
      "[15448.] [14116.]\n",
      "[16167.] [14467.]\n",
      "[16296.] [14997.]\n",
      "[16136.] [15129.]\n",
      "[15770.] [14797.]\n",
      "[15484.] [14642.]\n",
      "[15123.] [14349.]\n",
      "[14571.] [14129.]\n",
      "[4649.] [4081.]\n",
      "[4384.] [3971.]\n",
      "[4312.] [4046.]\n",
      "[4180.] [4017.]\n",
      "[4295.] [3894.]\n",
      "[4006.] [3804.]\n",
      "[3823.] [3577.]\n",
      "[3557.] [3561.]\n",
      "[3213.] [3329.]\n",
      "[2931.] [3130.]\n",
      "[4470.] [4233.]\n",
      "[4267.] [4056.]\n",
      "[4106.] [3948.]\n",
      "[3863.] [3883.]\n",
      "[3698.] [3636.]\n",
      "[3530.] [3325.]\n",
      "[3280.] [3247.]\n",
      "[3078.] [3128.]\n",
      "[2870.] [2931.]\n",
      "[2644.] [2714.]\n",
      "[4755.] [4504.]\n",
      "[4567.] [4268.]\n",
      "[4379.] [4274.]\n",
      "[4200.] [4116.]\n",
      "[3985.] [3873.]\n",
      "[3814.] [3839.]\n",
      "[3558.] [3699.]\n",
      "[3370.] [3284.]\n",
      "[3208.] [3165.]\n",
      "[3051.] [2862.]\n",
      "[7541.] [7179.]\n",
      "[7477.] [6854.]\n",
      "[7205.] [6724.]\n",
      "[6857.] [6597.]\n",
      "[6588.] [6327.]\n",
      "[6433.] [6260.]\n",
      "[6131.] [6137.]\n",
      "[5646.] [5756.]\n",
      "[5150.] [5417.]\n",
      "[4742.] [4943.]\n",
      "[7990.] [7675.]\n",
      "[7799.] [7277.]\n",
      "[7653.] [7160.]\n",
      "[7396.] [7078.]\n",
      "[7112.] [6814.]\n",
      "[6800.] [6593.]\n",
      "[6500.] [6405.]\n",
      "[6238.] [6102.]\n",
      "[5965.] [5759.]\n",
      "[5637.] [5440.]\n",
      "[15871.] [15483.]\n",
      "[15733.] [15151.]\n",
      "[15278.] [14798.]\n",
      "[14942.] [14766.]\n",
      "[14399.] [14646.]\n",
      "[13681.] [13916.]\n",
      "[13148.] [13275.]\n",
      "[12403.] [12744.]\n",
      "[11880.] [11981.]\n",
      "[11443.] [11180.]\n",
      "[25042.] [24319.]\n",
      "[24196.] [23634.]\n",
      "[23139.] [23185.]\n",
      "[22526.] [22180.]\n",
      "[21974.] [21511.]\n",
      "[21066.] [20975.]\n",
      "[20171.] [20169.]\n",
      "[19084.] [19389.]\n",
      "[18382.] [18259.]\n",
      "[18134.] [17477.]\n",
      "[6380.] [6179.]\n",
      "[6274.] [6134.]\n",
      "[6311.] [6074.]\n",
      "[6280.] [6055.]\n",
      "[6167.] [6214.]\n",
      "[6037.] [5965.]\n",
      "[5885.] [5904.]\n",
      "[5661.] [5725.]\n",
      "[5497.] [5299.]\n",
      "[5408.] [5163.]\n",
      "[11494.] [11170.]\n",
      "[11322.] [11204.]\n",
      "[11611.] [11071.]\n",
      "[11794.] [11310.]\n",
      "[12111.] [11303.]\n",
      "[12738.] [11593.]\n",
      "[13024.] [12215.]\n",
      "[13321.] [12648.]\n",
      "[13536.] [12853.]\n",
      "[13344.] [12735.]\n",
      "[144590.] [142471.]\n",
      "[166531.] [139429.]\n",
      "[161153.] [158283.]\n",
      "[157001.] [159577.]\n",
      "[152523.] [152410.]\n",
      "[148674.] [147561.]\n",
      "[144846.] [143735.]\n",
      "[142032.] [139719.]\n",
      "[139295.] [135800.]\n",
      "[135831.] [133097.]\n",
      "[38928.] [38397.]\n",
      "[37644.] [37638.]\n",
      "[36037.] [35676.]\n",
      "[34924.] [34354.]\n",
      "[33652.] [34110.]\n",
      "[32850.] [32344.]\n",
      "[31724.] [31470.]\n",
      "[30569.] [30157.]\n",
      "[29591.] [29094.]\n",
      "[28542.] [28120.]\n"
     ]
    }
   ],
   "source": [
    "for yt, pr in zip(y_true, predicted_data):\n",
    "    print(yt, pr)"
   ],
   "metadata": {
    "collapsed": false,
    "pycharm": {
     "name": "#%%\n"
    }
   }
  },
  {
   "cell_type": "code",
   "execution_count": 60,
   "outputs": [],
   "source": [
    "prediction_df = df[df['연도'].isin([i for i in range(2020, 2033)])]"
   ],
   "metadata": {
    "collapsed": false,
    "pycharm": {
     "name": "#%%\n"
    }
   }
  },
  {
   "cell_type": "code",
   "execution_count": 61,
   "outputs": [
    {
     "data": {
      "text/plain": "     행정구역(시도) 행정구역(시군구)    연도   총인구수(명)     유치원 수    초등학교 수      출생건수  \\\n10    강원특별자치도       강릉시  2020  0.163129  0.167364  0.267176  0.162623   \n11    강원특별자치도       강릉시  2021  0.162845  0.167364  0.267176  0.158266   \n12    강원특별자치도       강릉시  2022  0.161582  0.167364  0.274809  0.158341   \n13    강원특별자치도       강릉시  2023  0.160335  0.167364  0.274809  0.153234   \n14    강원특별자치도       강릉시  2024  0.159081  0.167364  0.282443  0.148577   \n...       ...       ...   ...       ...       ...       ...       ...   \n5124     충청북도       충주시  2028  0.152707  0.179916  0.221374  0.124540   \n5125     충청북도       충주시  2029  0.151495  0.179916  0.213740  0.119207   \n5126     충청북도       충주시  2030  0.150686  0.175732  0.206107  0.113874   \n5127     충청북도       충주시  2031  0.149463  0.175732  0.198473  0.108541   \n5128     충청북도       충주시  2032  0.148672  0.171548  0.190840  0.103207   \n\n          사망건수      혼인건수      이혼건수   학령인구(명)         행정구역  \n10    0.077049  0.192133  0.285128  0.126860  강원특별자치도 강릉시  \n11    0.077095  0.191917  0.286838  0.122216  강원특별자치도 강릉시  \n12    0.094363  0.180246  0.281709  0.116523  강원특별자치도 강릉시  \n13    0.094829  0.181219  0.280684  0.111056  강원특별자치도 강릉시  \n14    0.097629  0.175167  0.277607  0.105514  강원특별자치도 강릉시  \n...        ...       ...       ...       ...          ...  \n5124  0.182332  0.169224  0.277265  0.091653     충청북도 충주시  \n5125  0.197079  0.166090  0.274872  0.087386     충청북도 충주시  \n5126  0.211779  0.162957  0.272479  0.083120     충청북도 충주시  \n5127  0.226479  0.159823  0.270085  0.078853     충청북도 충주시  \n5128  0.241180  0.156689  0.267692  0.074586     충청북도 충주시  \n\n[2899 rows x 12 columns]",
      "text/html": "<div>\n<style scoped>\n    .dataframe tbody tr th:only-of-type {\n        vertical-align: middle;\n    }\n\n    .dataframe tbody tr th {\n        vertical-align: top;\n    }\n\n    .dataframe thead th {\n        text-align: right;\n    }\n</style>\n<table border=\"1\" class=\"dataframe\">\n  <thead>\n    <tr style=\"text-align: right;\">\n      <th></th>\n      <th>행정구역(시도)</th>\n      <th>행정구역(시군구)</th>\n      <th>연도</th>\n      <th>총인구수(명)</th>\n      <th>유치원 수</th>\n      <th>초등학교 수</th>\n      <th>출생건수</th>\n      <th>사망건수</th>\n      <th>혼인건수</th>\n      <th>이혼건수</th>\n      <th>학령인구(명)</th>\n      <th>행정구역</th>\n    </tr>\n  </thead>\n  <tbody>\n    <tr>\n      <th>10</th>\n      <td>강원특별자치도</td>\n      <td>강릉시</td>\n      <td>2020</td>\n      <td>0.163129</td>\n      <td>0.167364</td>\n      <td>0.267176</td>\n      <td>0.162623</td>\n      <td>0.077049</td>\n      <td>0.192133</td>\n      <td>0.285128</td>\n      <td>0.126860</td>\n      <td>강원특별자치도 강릉시</td>\n    </tr>\n    <tr>\n      <th>11</th>\n      <td>강원특별자치도</td>\n      <td>강릉시</td>\n      <td>2021</td>\n      <td>0.162845</td>\n      <td>0.167364</td>\n      <td>0.267176</td>\n      <td>0.158266</td>\n      <td>0.077095</td>\n      <td>0.191917</td>\n      <td>0.286838</td>\n      <td>0.122216</td>\n      <td>강원특별자치도 강릉시</td>\n    </tr>\n    <tr>\n      <th>12</th>\n      <td>강원특별자치도</td>\n      <td>강릉시</td>\n      <td>2022</td>\n      <td>0.161582</td>\n      <td>0.167364</td>\n      <td>0.274809</td>\n      <td>0.158341</td>\n      <td>0.094363</td>\n      <td>0.180246</td>\n      <td>0.281709</td>\n      <td>0.116523</td>\n      <td>강원특별자치도 강릉시</td>\n    </tr>\n    <tr>\n      <th>13</th>\n      <td>강원특별자치도</td>\n      <td>강릉시</td>\n      <td>2023</td>\n      <td>0.160335</td>\n      <td>0.167364</td>\n      <td>0.274809</td>\n      <td>0.153234</td>\n      <td>0.094829</td>\n      <td>0.181219</td>\n      <td>0.280684</td>\n      <td>0.111056</td>\n      <td>강원특별자치도 강릉시</td>\n    </tr>\n    <tr>\n      <th>14</th>\n      <td>강원특별자치도</td>\n      <td>강릉시</td>\n      <td>2024</td>\n      <td>0.159081</td>\n      <td>0.167364</td>\n      <td>0.282443</td>\n      <td>0.148577</td>\n      <td>0.097629</td>\n      <td>0.175167</td>\n      <td>0.277607</td>\n      <td>0.105514</td>\n      <td>강원특별자치도 강릉시</td>\n    </tr>\n    <tr>\n      <th>...</th>\n      <td>...</td>\n      <td>...</td>\n      <td>...</td>\n      <td>...</td>\n      <td>...</td>\n      <td>...</td>\n      <td>...</td>\n      <td>...</td>\n      <td>...</td>\n      <td>...</td>\n      <td>...</td>\n      <td>...</td>\n    </tr>\n    <tr>\n      <th>5124</th>\n      <td>충청북도</td>\n      <td>충주시</td>\n      <td>2028</td>\n      <td>0.152707</td>\n      <td>0.179916</td>\n      <td>0.221374</td>\n      <td>0.124540</td>\n      <td>0.182332</td>\n      <td>0.169224</td>\n      <td>0.277265</td>\n      <td>0.091653</td>\n      <td>충청북도 충주시</td>\n    </tr>\n    <tr>\n      <th>5125</th>\n      <td>충청북도</td>\n      <td>충주시</td>\n      <td>2029</td>\n      <td>0.151495</td>\n      <td>0.179916</td>\n      <td>0.213740</td>\n      <td>0.119207</td>\n      <td>0.197079</td>\n      <td>0.166090</td>\n      <td>0.274872</td>\n      <td>0.087386</td>\n      <td>충청북도 충주시</td>\n    </tr>\n    <tr>\n      <th>5126</th>\n      <td>충청북도</td>\n      <td>충주시</td>\n      <td>2030</td>\n      <td>0.150686</td>\n      <td>0.175732</td>\n      <td>0.206107</td>\n      <td>0.113874</td>\n      <td>0.211779</td>\n      <td>0.162957</td>\n      <td>0.272479</td>\n      <td>0.083120</td>\n      <td>충청북도 충주시</td>\n    </tr>\n    <tr>\n      <th>5127</th>\n      <td>충청북도</td>\n      <td>충주시</td>\n      <td>2031</td>\n      <td>0.149463</td>\n      <td>0.175732</td>\n      <td>0.198473</td>\n      <td>0.108541</td>\n      <td>0.226479</td>\n      <td>0.159823</td>\n      <td>0.270085</td>\n      <td>0.078853</td>\n      <td>충청북도 충주시</td>\n    </tr>\n    <tr>\n      <th>5128</th>\n      <td>충청북도</td>\n      <td>충주시</td>\n      <td>2032</td>\n      <td>0.148672</td>\n      <td>0.171548</td>\n      <td>0.190840</td>\n      <td>0.103207</td>\n      <td>0.241180</td>\n      <td>0.156689</td>\n      <td>0.267692</td>\n      <td>0.074586</td>\n      <td>충청북도 충주시</td>\n    </tr>\n  </tbody>\n</table>\n<p>2899 rows × 12 columns</p>\n</div>"
     },
     "execution_count": 61,
     "metadata": {},
     "output_type": "execute_result"
    }
   ],
   "source": [
    "prediction_df"
   ],
   "metadata": {
    "collapsed": false,
    "pycharm": {
     "name": "#%%\n"
    }
   }
  },
  {
   "cell_type": "code",
   "execution_count": 62,
   "outputs": [],
   "source": [
    "# 시퀀스 데이터 생성\n",
    "def create_sequence_data1(data, sequence_length):\n",
    "    sequences = []\n",
    "    regions = []\n",
    "    year = []\n",
    "    for region in data['행정구역'].unique().tolist():\n",
    "        temp_df = data[data['행정구역'] == region]\n",
    "        if len(temp_df) < sequence_length:\n",
    "            continue\n",
    "\n",
    "        year.extend([i for i in range(2023, 2033+1)])\n",
    "        temp_df = temp_df[use_cols]\n",
    "        for i in range(len(temp_df) - sequence_length+1):\n",
    "            regions.append(region)\n",
    "            seq = temp_df[i:i+sequence_length]\n",
    "            sequences.append(seq)\n",
    "    return np.array(sequences), np.array(regions), np.array(year)"
   ],
   "metadata": {
    "collapsed": false,
    "pycharm": {
     "name": "#%%\n"
    }
   }
  },
  {
   "cell_type": "code",
   "execution_count": 63,
   "outputs": [],
   "source": [
    "X_sequences, r, y = create_sequence_data1(prediction_df, sequence_length)"
   ],
   "metadata": {
    "collapsed": false,
    "pycharm": {
     "name": "#%%\n"
    }
   }
  },
  {
   "cell_type": "code",
   "execution_count": 64,
   "outputs": [
    {
     "data": {
      "text/plain": "array([[[0.16312941, 0.16736402, 0.26717557, ..., 0.19213313,\n         0.28512821, 0.12685974],\n        [0.16284536, 0.16736402, 0.26717557, ..., 0.19191701,\n         0.28683761, 0.12221603],\n        [0.16158152, 0.16736402, 0.27480916, ..., 0.18024638,\n         0.2817094 , 0.11652308]],\n\n       [[0.16284536, 0.16736402, 0.26717557, ..., 0.19191701,\n         0.28683761, 0.12221603],\n        [0.16158152, 0.16736402, 0.27480916, ..., 0.18024638,\n         0.2817094 , 0.11652308],\n        [0.16033524, 0.16736402, 0.27480916, ..., 0.18121893,\n         0.28068376, 0.11105555]],\n\n       [[0.16158152, 0.16736402, 0.27480916, ..., 0.18024638,\n         0.2817094 , 0.11652308],\n        [0.16033524, 0.16736402, 0.27480916, ..., 0.18121893,\n         0.28068376, 0.11105555],\n        [0.15908097, 0.16736402, 0.28244275, ..., 0.1751675 ,\n         0.27760684, 0.10551425]],\n\n       ...,\n\n       [[0.15270672, 0.17991632, 0.22137405, ..., 0.16922412,\n         0.27726496, 0.0916528 ],\n        [0.15149475, 0.17991632, 0.21374046, ..., 0.16609034,\n         0.27487179, 0.08738616],\n        [0.1506857 , 0.17573222, 0.20610687, ..., 0.16295656,\n         0.27247863, 0.08311952]],\n\n       [[0.15149475, 0.17991632, 0.21374046, ..., 0.16609034,\n         0.27487179, 0.08738616],\n        [0.1506857 , 0.17573222, 0.20610687, ..., 0.16295656,\n         0.27247863, 0.08311952],\n        [0.14946335, 0.17573222, 0.19847328, ..., 0.15982278,\n         0.27008547, 0.07885289]],\n\n       [[0.1506857 , 0.17573222, 0.20610687, ..., 0.16295656,\n         0.27247863, 0.08311952],\n        [0.14946335, 0.17573222, 0.19847328, ..., 0.15982278,\n         0.27008547, 0.07885289],\n        [0.14867185, 0.17154812, 0.19083969, ..., 0.156689  ,\n         0.26769231, 0.07458625]]])"
     },
     "execution_count": 64,
     "metadata": {},
     "output_type": "execute_result"
    }
   ],
   "source": [
    "X_sequences"
   ],
   "metadata": {
    "collapsed": false,
    "pycharm": {
     "name": "#%%\n"
    }
   }
  },
  {
   "cell_type": "code",
   "execution_count": 65,
   "outputs": [
    {
     "data": {
      "text/plain": "array(['강원특별자치도 강릉시', '강원특별자치도 강릉시', '강원특별자치도 강릉시', ..., '충청북도 충주시',\n       '충청북도 충주시', '충청북도 충주시'], dtype='<U12')"
     },
     "execution_count": 65,
     "metadata": {},
     "output_type": "execute_result"
    }
   ],
   "source": [
    "r"
   ],
   "metadata": {
    "collapsed": false,
    "pycharm": {
     "name": "#%%\n"
    }
   }
  },
  {
   "cell_type": "code",
   "execution_count": 66,
   "outputs": [
    {
     "data": {
      "text/plain": "array([[0.16284536, 0.16736402, 0.26717557, 0.15826636, 0.07709539,\n        0.19191701, 0.28683761, 0.12221603],\n       [0.16158152, 0.16736402, 0.27480916, 0.15834147, 0.09436252,\n        0.18024638, 0.2817094 , 0.11652308],\n       [0.16033524, 0.16736402, 0.27480916, 0.15323368, 0.0948292 ,\n        0.18121893, 0.28068376, 0.11105555]])"
     },
     "execution_count": 66,
     "metadata": {},
     "output_type": "execute_result"
    }
   ],
   "source": [
    "X_sequences[1]"
   ],
   "metadata": {
    "collapsed": false,
    "pycharm": {
     "name": "#%%\n"
    }
   }
  },
  {
   "cell_type": "code",
   "execution_count": 67,
   "outputs": [
    {
     "name": "stdout",
     "output_type": "stream",
     "text": [
      "77/77 [==============================] - 0s 898us/step\n"
     ]
    }
   ],
   "source": [
    "# 예측\n",
    "predicted_data = model.predict(X_sequences)"
   ],
   "metadata": {
    "collapsed": false,
    "pycharm": {
     "name": "#%%\n"
    }
   }
  },
  {
   "cell_type": "code",
   "execution_count": 68,
   "outputs": [],
   "source": [
    "predicted_data = invTransform(scaler, predicted_data, '학령인구(명)', use_cols).reshape(-1, 1)"
   ],
   "metadata": {
    "collapsed": false,
    "pycharm": {
     "name": "#%%\n"
    }
   }
  },
  {
   "cell_type": "code",
   "execution_count": 69,
   "outputs": [
    {
     "data": {
      "text/plain": "array([[27126.],\n       [25585.],\n       [23900.],\n       ...,\n       [ 9088.],\n       [ 6852.],\n       [ 4677.]])"
     },
     "execution_count": 69,
     "metadata": {},
     "output_type": "execute_result"
    }
   ],
   "source": [
    "predicted_data.round()"
   ],
   "metadata": {
    "collapsed": false,
    "pycharm": {
     "name": "#%%\n"
    }
   }
  },
  {
   "cell_type": "code",
   "execution_count": 70,
   "outputs": [],
   "source": [
    "predicted_df = pd.DataFrame({'연도': y, '행정구역': r, '학령인구(명)': predicted_data.round().flatten()})"
   ],
   "metadata": {
    "collapsed": false,
    "pycharm": {
     "name": "#%%\n"
    }
   }
  },
  {
   "cell_type": "code",
   "execution_count": 71,
   "outputs": [
    {
     "data": {
      "text/plain": "        연도         행정구역  학령인구(명)\n0     2023  강원특별자치도 강릉시  27126.0\n1     2024  강원특별자치도 강릉시  25585.0\n2     2025  강원특별자치도 강릉시  23900.0\n3     2026  강원특별자치도 강릉시  22519.0\n4     2027  강원특별자치도 강릉시  21236.0\n...    ...          ...      ...\n2448  2029     충청북도 충주시  13591.0\n2449  2030     충청북도 충주시  11331.0\n2450  2031     충청북도 충주시   9088.0\n2451  2032     충청북도 충주시   6852.0\n2452  2033     충청북도 충주시   4677.0\n\n[2453 rows x 3 columns]",
      "text/html": "<div>\n<style scoped>\n    .dataframe tbody tr th:only-of-type {\n        vertical-align: middle;\n    }\n\n    .dataframe tbody tr th {\n        vertical-align: top;\n    }\n\n    .dataframe thead th {\n        text-align: right;\n    }\n</style>\n<table border=\"1\" class=\"dataframe\">\n  <thead>\n    <tr style=\"text-align: right;\">\n      <th></th>\n      <th>연도</th>\n      <th>행정구역</th>\n      <th>학령인구(명)</th>\n    </tr>\n  </thead>\n  <tbody>\n    <tr>\n      <th>0</th>\n      <td>2023</td>\n      <td>강원특별자치도 강릉시</td>\n      <td>27126.0</td>\n    </tr>\n    <tr>\n      <th>1</th>\n      <td>2024</td>\n      <td>강원특별자치도 강릉시</td>\n      <td>25585.0</td>\n    </tr>\n    <tr>\n      <th>2</th>\n      <td>2025</td>\n      <td>강원특별자치도 강릉시</td>\n      <td>23900.0</td>\n    </tr>\n    <tr>\n      <th>3</th>\n      <td>2026</td>\n      <td>강원특별자치도 강릉시</td>\n      <td>22519.0</td>\n    </tr>\n    <tr>\n      <th>4</th>\n      <td>2027</td>\n      <td>강원특별자치도 강릉시</td>\n      <td>21236.0</td>\n    </tr>\n    <tr>\n      <th>...</th>\n      <td>...</td>\n      <td>...</td>\n      <td>...</td>\n    </tr>\n    <tr>\n      <th>2448</th>\n      <td>2029</td>\n      <td>충청북도 충주시</td>\n      <td>13591.0</td>\n    </tr>\n    <tr>\n      <th>2449</th>\n      <td>2030</td>\n      <td>충청북도 충주시</td>\n      <td>11331.0</td>\n    </tr>\n    <tr>\n      <th>2450</th>\n      <td>2031</td>\n      <td>충청북도 충주시</td>\n      <td>9088.0</td>\n    </tr>\n    <tr>\n      <th>2451</th>\n      <td>2032</td>\n      <td>충청북도 충주시</td>\n      <td>6852.0</td>\n    </tr>\n    <tr>\n      <th>2452</th>\n      <td>2033</td>\n      <td>충청북도 충주시</td>\n      <td>4677.0</td>\n    </tr>\n  </tbody>\n</table>\n<p>2453 rows × 3 columns</p>\n</div>"
     },
     "execution_count": 71,
     "metadata": {},
     "output_type": "execute_result"
    }
   ],
   "source": [
    "predicted_df"
   ],
   "metadata": {
    "collapsed": false,
    "pycharm": {
     "name": "#%%\n"
    }
   }
  },
  {
   "cell_type": "code",
   "execution_count": 72,
   "outputs": [],
   "source": [
    "predicted_df.to_csv('./data/predicted_school_age_population(2023-2033).csv', encoding='utf-8', index=False)"
   ],
   "metadata": {
    "collapsed": false,
    "pycharm": {
     "name": "#%%\n"
    }
   }
  },
  {
   "cell_type": "code",
   "execution_count": null,
   "outputs": [],
   "source": [],
   "metadata": {
    "collapsed": false,
    "pycharm": {
     "name": "#%%\n"
    }
   }
  }
 ],
 "metadata": {
  "kernelspec": {
   "display_name": "Python 3",
   "language": "python",
   "name": "python3"
  },
  "language_info": {
   "codemirror_mode": {
    "name": "ipython",
    "version": 2
   },
   "file_extension": ".py",
   "mimetype": "text/x-python",
   "name": "python",
   "nbconvert_exporter": "python",
   "pygments_lexer": "ipython2",
   "version": "2.7.6"
  }
 },
 "nbformat": 4,
 "nbformat_minor": 0
}