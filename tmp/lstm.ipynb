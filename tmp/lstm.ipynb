{
 "cells": [
  {
   "cell_type": "code",
   "execution_count": 133,
   "metadata": {
    "collapsed": false,
    "pycharm": {
     "name": "#%%\n"
    }
   },
   "outputs": [],
   "source": [
    "import pandas as pd\n",
    "import matplotlib.pyplot as plt\n",
    "plt.rc('font', family='AppleGothic')"
   ]
  },
  {
   "cell_type": "code",
   "execution_count": 134,
   "metadata": {
    "collapsed": false,
    "pycharm": {
     "name": "#%%\n"
    }
   },
   "outputs": [],
   "source": [
    "import numpy as np\n",
    "import pandas as pd\n",
    "from sklearn.model_selection import train_test_split\n",
    "import lightgbm as lgb\n",
    "from sklearn.metrics import mean_squared_error\n",
    "import matplotlib.pyplot as plt"
   ]
  },
  {
   "cell_type": "markdown",
   "metadata": {
    "collapsed": false,
    "pycharm": {
     "name": "#%% md\n"
    }
   },
   "source": []
  },
  {
   "cell_type": "code",
   "execution_count": 135,
   "metadata": {
    "collapsed": false,
    "pycharm": {
     "name": "#%%\n"
    }
   },
   "outputs": [],
   "source": [
    "df = pd.read_csv('./data/forecasting_dataset(2013-2030).csv', encoding='utf-8')"
   ]
  },
  {
   "cell_type": "code",
   "execution_count": 136,
   "metadata": {
    "collapsed": false,
    "pycharm": {
     "name": "#%%\n"
    }
   },
   "outputs": [
    {
     "data": {
      "text/html": [
       "<div>\n",
       "<style scoped>\n",
       "    .dataframe tbody tr th:only-of-type {\n",
       "        vertical-align: middle;\n",
       "    }\n",
       "\n",
       "    .dataframe tbody tr th {\n",
       "        vertical-align: top;\n",
       "    }\n",
       "\n",
       "    .dataframe thead th {\n",
       "        text-align: right;\n",
       "    }\n",
       "</style>\n",
       "<table border=\"1\" class=\"dataframe\">\n",
       "  <thead>\n",
       "    <tr style=\"text-align: right;\">\n",
       "      <th></th>\n",
       "      <th>Unnamed: 0</th>\n",
       "      <th>행정구역(시도)</th>\n",
       "      <th>행정구역(시군구)</th>\n",
       "      <th>연도</th>\n",
       "      <th>총인구수(명)</th>\n",
       "      <th>유치원 수</th>\n",
       "      <th>초등학교 수</th>\n",
       "      <th>출생건수</th>\n",
       "      <th>사망건수</th>\n",
       "      <th>혼인건수</th>\n",
       "      <th>이혼건수</th>\n",
       "      <th>학령인구(명)</th>\n",
       "      <th>총인구수-학령인구(명)</th>\n",
       "      <th>행정구역</th>\n",
       "    </tr>\n",
       "  </thead>\n",
       "  <tbody>\n",
       "    <tr>\n",
       "      <th>0</th>\n",
       "      <td>103.0</td>\n",
       "      <td>강원특별자치도</td>\n",
       "      <td>강릉시</td>\n",
       "      <td>2010</td>\n",
       "      <td>172529.848156</td>\n",
       "      <td>33.574456</td>\n",
       "      <td>29.141666</td>\n",
       "      <td>1295.201743</td>\n",
       "      <td>1139.809640</td>\n",
       "      <td>854.630988</td>\n",
       "      <td>390.616499</td>\n",
       "      <td>43102.0</td>\n",
       "      <td>138647.706678</td>\n",
       "      <td>강원특별자치도 강릉시</td>\n",
       "    </tr>\n",
       "    <tr>\n",
       "      <th>1</th>\n",
       "      <td>326.0</td>\n",
       "      <td>강원특별자치도</td>\n",
       "      <td>강릉시</td>\n",
       "      <td>2011</td>\n",
       "      <td>171864.759096</td>\n",
       "      <td>33.496664</td>\n",
       "      <td>29.081064</td>\n",
       "      <td>1315.746915</td>\n",
       "      <td>1148.878526</td>\n",
       "      <td>900.342471</td>\n",
       "      <td>392.440671</td>\n",
       "      <td>41960.0</td>\n",
       "      <td>138842.997822</td>\n",
       "      <td>강원특별자치도 강릉시</td>\n",
       "    </tr>\n",
       "    <tr>\n",
       "      <th>2</th>\n",
       "      <td>549.0</td>\n",
       "      <td>강원특별자치도</td>\n",
       "      <td>강릉시</td>\n",
       "      <td>2012</td>\n",
       "      <td>171813.676743</td>\n",
       "      <td>33.146726</td>\n",
       "      <td>29.081064</td>\n",
       "      <td>1291.151358</td>\n",
       "      <td>1188.866179</td>\n",
       "      <td>872.236317</td>\n",
       "      <td>379.217725</td>\n",
       "      <td>41589.0</td>\n",
       "      <td>139178.400470</td>\n",
       "      <td>강원특별자치도 강릉시</td>\n",
       "    </tr>\n",
       "    <tr>\n",
       "      <th>3</th>\n",
       "      <td>772.0</td>\n",
       "      <td>강원특별자치도</td>\n",
       "      <td>강릉시</td>\n",
       "      <td>2013</td>\n",
       "      <td>171264.099345</td>\n",
       "      <td>33.090525</td>\n",
       "      <td>29.024862</td>\n",
       "      <td>1152.655549</td>\n",
       "      <td>1175.665470</td>\n",
       "      <td>814.170412</td>\n",
       "      <td>418.698755</td>\n",
       "      <td>40758.0</td>\n",
       "      <td>139269.307494</td>\n",
       "      <td>강원특별자치도 강릉시</td>\n",
       "    </tr>\n",
       "    <tr>\n",
       "      <th>4</th>\n",
       "      <td>995.0</td>\n",
       "      <td>강원특별자치도</td>\n",
       "      <td>강릉시</td>\n",
       "      <td>2014</td>\n",
       "      <td>170406.212553</td>\n",
       "      <td>33.851127</td>\n",
       "      <td>29.024862</td>\n",
       "      <td>1037.433829</td>\n",
       "      <td>1222.644599</td>\n",
       "      <td>786.927027</td>\n",
       "      <td>379.316647</td>\n",
       "      <td>39345.0</td>\n",
       "      <td>139545.910056</td>\n",
       "      <td>강원특별자치도 강릉시</td>\n",
       "    </tr>\n",
       "    <tr>\n",
       "      <th>...</th>\n",
       "      <td>...</td>\n",
       "      <td>...</td>\n",
       "      <td>...</td>\n",
       "      <td>...</td>\n",
       "      <td>...</td>\n",
       "      <td>...</td>\n",
       "      <td>...</td>\n",
       "      <td>...</td>\n",
       "      <td>...</td>\n",
       "      <td>...</td>\n",
       "      <td>...</td>\n",
       "      <td>...</td>\n",
       "      <td>...</td>\n",
       "      <td>...</td>\n",
       "    </tr>\n",
       "    <tr>\n",
       "      <th>5101</th>\n",
       "      <td>4134.0</td>\n",
       "      <td>충청북도</td>\n",
       "      <td>충주시</td>\n",
       "      <td>2028</td>\n",
       "      <td>185790.000000</td>\n",
       "      <td>39.000000</td>\n",
       "      <td>30.000000</td>\n",
       "      <td>445.000000</td>\n",
       "      <td>2609.000000</td>\n",
       "      <td>691.000000</td>\n",
       "      <td>401.000000</td>\n",
       "      <td>29131.0</td>\n",
       "      <td>163963.000000</td>\n",
       "      <td>충청북도 충주시</td>\n",
       "    </tr>\n",
       "    <tr>\n",
       "      <th>5102</th>\n",
       "      <td>4357.0</td>\n",
       "      <td>충청북도</td>\n",
       "      <td>충주시</td>\n",
       "      <td>2029</td>\n",
       "      <td>185863.000000</td>\n",
       "      <td>39.000000</td>\n",
       "      <td>30.000000</td>\n",
       "      <td>387.000000</td>\n",
       "      <td>2636.000000</td>\n",
       "      <td>691.000000</td>\n",
       "      <td>401.000000</td>\n",
       "      <td>29190.0</td>\n",
       "      <td>164576.000000</td>\n",
       "      <td>충청북도 충주시</td>\n",
       "    </tr>\n",
       "    <tr>\n",
       "      <th>5103</th>\n",
       "      <td>4580.0</td>\n",
       "      <td>충청북도</td>\n",
       "      <td>충주시</td>\n",
       "      <td>2030</td>\n",
       "      <td>185928.000000</td>\n",
       "      <td>39.000000</td>\n",
       "      <td>30.000000</td>\n",
       "      <td>329.000000</td>\n",
       "      <td>2654.000000</td>\n",
       "      <td>691.000000</td>\n",
       "      <td>401.000000</td>\n",
       "      <td>29241.0</td>\n",
       "      <td>165156.000000</td>\n",
       "      <td>충청북도 충주시</td>\n",
       "    </tr>\n",
       "    <tr>\n",
       "      <th>5104</th>\n",
       "      <td>4802.0</td>\n",
       "      <td>충청북도</td>\n",
       "      <td>충주시</td>\n",
       "      <td>2031</td>\n",
       "      <td>185985.000000</td>\n",
       "      <td>39.000000</td>\n",
       "      <td>30.000000</td>\n",
       "      <td>271.000000</td>\n",
       "      <td>2667.000000</td>\n",
       "      <td>691.000000</td>\n",
       "      <td>401.000000</td>\n",
       "      <td>29285.0</td>\n",
       "      <td>165705.000000</td>\n",
       "      <td>충청북도 충주시</td>\n",
       "    </tr>\n",
       "    <tr>\n",
       "      <th>5105</th>\n",
       "      <td>5025.0</td>\n",
       "      <td>충청북도</td>\n",
       "      <td>충주시</td>\n",
       "      <td>2032</td>\n",
       "      <td>186037.000000</td>\n",
       "      <td>39.000000</td>\n",
       "      <td>30.000000</td>\n",
       "      <td>212.000000</td>\n",
       "      <td>2675.000000</td>\n",
       "      <td>691.000000</td>\n",
       "      <td>401.000000</td>\n",
       "      <td>29324.0</td>\n",
       "      <td>166225.000000</td>\n",
       "      <td>충청북도 충주시</td>\n",
       "    </tr>\n",
       "  </tbody>\n",
       "</table>\n",
       "<p>5106 rows × 14 columns</p>\n",
       "</div>"
      ],
      "text/plain": [
       "      Unnamed: 0 행정구역(시도) 행정구역(시군구)    연도        총인구수(명)      유치원 수  \\\n",
       "0          103.0  강원특별자치도       강릉시  2010  172529.848156  33.574456   \n",
       "1          326.0  강원특별자치도       강릉시  2011  171864.759096  33.496664   \n",
       "2          549.0  강원특별자치도       강릉시  2012  171813.676743  33.146726   \n",
       "3          772.0  강원특별자치도       강릉시  2013  171264.099345  33.090525   \n",
       "4          995.0  강원특별자치도       강릉시  2014  170406.212553  33.851127   \n",
       "...          ...      ...       ...   ...            ...        ...   \n",
       "5101      4134.0     충청북도       충주시  2028  185790.000000  39.000000   \n",
       "5102      4357.0     충청북도       충주시  2029  185863.000000  39.000000   \n",
       "5103      4580.0     충청북도       충주시  2030  185928.000000  39.000000   \n",
       "5104      4802.0     충청북도       충주시  2031  185985.000000  39.000000   \n",
       "5105      5025.0     충청북도       충주시  2032  186037.000000  39.000000   \n",
       "\n",
       "         초등학교 수         출생건수         사망건수        혼인건수        이혼건수  학령인구(명)  \\\n",
       "0     29.141666  1295.201743  1139.809640  854.630988  390.616499  43102.0   \n",
       "1     29.081064  1315.746915  1148.878526  900.342471  392.440671  41960.0   \n",
       "2     29.081064  1291.151358  1188.866179  872.236317  379.217725  41589.0   \n",
       "3     29.024862  1152.655549  1175.665470  814.170412  418.698755  40758.0   \n",
       "4     29.024862  1037.433829  1222.644599  786.927027  379.316647  39345.0   \n",
       "...         ...          ...          ...         ...         ...      ...   \n",
       "5101  30.000000   445.000000  2609.000000  691.000000  401.000000  29131.0   \n",
       "5102  30.000000   387.000000  2636.000000  691.000000  401.000000  29190.0   \n",
       "5103  30.000000   329.000000  2654.000000  691.000000  401.000000  29241.0   \n",
       "5104  30.000000   271.000000  2667.000000  691.000000  401.000000  29285.0   \n",
       "5105  30.000000   212.000000  2675.000000  691.000000  401.000000  29324.0   \n",
       "\n",
       "       총인구수-학령인구(명)         행정구역  \n",
       "0     138647.706678  강원특별자치도 강릉시  \n",
       "1     138842.997822  강원특별자치도 강릉시  \n",
       "2     139178.400470  강원특별자치도 강릉시  \n",
       "3     139269.307494  강원특별자치도 강릉시  \n",
       "4     139545.910056  강원특별자치도 강릉시  \n",
       "...             ...          ...  \n",
       "5101  163963.000000     충청북도 충주시  \n",
       "5102  164576.000000     충청북도 충주시  \n",
       "5103  165156.000000     충청북도 충주시  \n",
       "5104  165705.000000     충청북도 충주시  \n",
       "5105  166225.000000     충청북도 충주시  \n",
       "\n",
       "[5106 rows x 14 columns]"
      ]
     },
     "execution_count": 136,
     "metadata": {},
     "output_type": "execute_result"
    }
   ],
   "source": [
    "df"
   ]
  },
  {
   "cell_type": "code",
   "execution_count": 137,
   "metadata": {
    "collapsed": false,
    "pycharm": {
     "name": "#%%\n"
    }
   },
   "outputs": [],
   "source": [
    "data = df"
   ]
  },
  {
   "cell_type": "code",
   "execution_count": 138,
   "metadata": {
    "collapsed": false,
    "pycharm": {
     "name": "#%%\n"
    }
   },
   "outputs": [],
   "source": [
    "use_cols = ['총인구수(명)', '유치원 수', '초등학교 수', '출생건수', '사망건수', '혼인건수', '이혼건수', '학령인구(명)']"
   ]
  },
  {
   "cell_type": "code",
   "execution_count": 139,
   "metadata": {
    "collapsed": false,
    "pycharm": {
     "name": "#%%\n"
    }
   },
   "outputs": [
    {
     "data": {
      "text/plain": [
       "행정구역\n",
       "강원특별자치도 강릉시    23\n",
       "인천광역시 계양구      23\n",
       "서울특별시 용산구      23\n",
       "서울특별시 은평구      23\n",
       "서울특별시 종로구      23\n",
       "               ..\n",
       "경상북도 영덕군       23\n",
       "경상북도 영양군       23\n",
       "경상북도 영주시       23\n",
       "경상북도 영천시       23\n",
       "충청북도 충주시       23\n",
       "Name: count, Length: 222, dtype: int64"
      ]
     },
     "execution_count": 139,
     "metadata": {},
     "output_type": "execute_result"
    }
   ],
   "source": [
    "df['행정구역'].value_counts()"
   ]
  },
  {
   "cell_type": "code",
   "execution_count": 140,
   "metadata": {
    "collapsed": false,
    "pycharm": {
     "name": "#%%\n"
    }
   },
   "outputs": [
    {
     "name": "stderr",
     "output_type": "stream",
     "text": [
      "/opt/homebrew/Caskroom/miniforge/base/envs/dataScience/lib/python3.11/site-packages/sklearn/utils/validation.py:767: FutureWarning: is_sparse is deprecated and will be removed in a future version. Check `isinstance(dtype, pd.SparseDtype)` instead.\n",
      "  if not hasattr(array, \"sparse\") and array.dtypes.apply(is_sparse).any():\n",
      "/opt/homebrew/Caskroom/miniforge/base/envs/dataScience/lib/python3.11/site-packages/sklearn/utils/validation.py:605: FutureWarning: is_sparse is deprecated and will be removed in a future version. Check `isinstance(dtype, pd.SparseDtype)` instead.\n",
      "  if is_sparse(pd_dtype):\n",
      "/opt/homebrew/Caskroom/miniforge/base/envs/dataScience/lib/python3.11/site-packages/sklearn/utils/validation.py:614: FutureWarning: is_sparse is deprecated and will be removed in a future version. Check `isinstance(dtype, pd.SparseDtype)` instead.\n",
      "  if is_sparse(pd_dtype) or not is_extension_array_dtype(pd_dtype):\n",
      "/opt/homebrew/Caskroom/miniforge/base/envs/dataScience/lib/python3.11/site-packages/sklearn/utils/validation.py:767: FutureWarning: is_sparse is deprecated and will be removed in a future version. Check `isinstance(dtype, pd.SparseDtype)` instead.\n",
      "  if not hasattr(array, \"sparse\") and array.dtypes.apply(is_sparse).any():\n",
      "/opt/homebrew/Caskroom/miniforge/base/envs/dataScience/lib/python3.11/site-packages/sklearn/utils/validation.py:605: FutureWarning: is_sparse is deprecated and will be removed in a future version. Check `isinstance(dtype, pd.SparseDtype)` instead.\n",
      "  if is_sparse(pd_dtype):\n",
      "/opt/homebrew/Caskroom/miniforge/base/envs/dataScience/lib/python3.11/site-packages/sklearn/utils/validation.py:614: FutureWarning: is_sparse is deprecated and will be removed in a future version. Check `isinstance(dtype, pd.SparseDtype)` instead.\n",
      "  if is_sparse(pd_dtype) or not is_extension_array_dtype(pd_dtype):\n"
     ]
    }
   ],
   "source": [
    "from sklearn.preprocessing import MinMaxScaler\n",
    "from sklearn.metrics import mean_squared_error\n",
    "\n",
    "# 데이터 전처리\n",
    "scaler = MinMaxScaler()\n",
    "df[use_cols] = scaler.fit_transform(df[use_cols])"
   ]
  },
  {
   "cell_type": "code",
   "execution_count": 141,
   "metadata": {
    "collapsed": false,
    "pycharm": {
     "name": "#%%\n"
    }
   },
   "outputs": [
    {
     "name": "stdout",
     "output_type": "stream",
     "text": [
      "      Unnamed: 0 행정구역(시도) 행정구역(시군구)    연도   총인구수(명)     유치원 수    초등학교 수  \\\n",
      "3          772.0  강원특별자치도       강릉시  2013  0.163247  0.182776  0.287642   \n",
      "4          995.0  강원특별자치도       강릉시  2014  0.162384  0.187907  0.287642   \n",
      "5         1218.0  강원특별자치도       강릉시  2015  0.161329  0.200750  0.287642   \n",
      "6         1441.0  강원특별자치도       강릉시  2016  0.160653  0.170314  0.287642   \n",
      "7         1664.0  강원특별자치도       강릉시  2017  0.160617  0.169789  0.287642   \n",
      "...          ...      ...       ...   ...       ...       ...       ...   \n",
      "5089      1458.0     충청북도       충주시  2016  0.176557  0.234604  0.338771   \n",
      "5090      1681.0     충청북도       충주시  2017  0.176712  0.234406  0.338384   \n",
      "5091      1904.0     충청북도       충주시  2018  0.178372  0.238759  0.338540   \n",
      "5092      2127.0     충청북도       충주시  2019  0.178676  0.227790  0.330922   \n",
      "5093      2350.0     충청북도       충주시  2020  0.178442  0.227121  0.322724   \n",
      "\n",
      "          출생건수      사망건수      혼인건수      이혼건수   학령인구(명)   총인구수-학령인구(명)  \\\n",
      "3     0.151716  0.110638  0.145357  0.214152  0.166624  139269.307494   \n",
      "4     0.140228  0.115289  0.141337  0.194706  0.160827  139545.910056   \n",
      "5     0.147171  0.117112  0.139637  0.195085  0.153690  139847.434158   \n",
      "6     0.134609  0.116467  0.132618  0.189079  0.147570  140346.082585   \n",
      "7     0.121973  0.115260  0.132662  0.181605  0.142102  141355.431801   \n",
      "...        ...       ...       ...       ...       ...            ...   \n",
      "5089  0.165981  0.131653  0.151476  0.220738  0.142692  153458.336526   \n",
      "5090  0.149481  0.137028  0.152142  0.214859  0.137475  154646.358183   \n",
      "5091  0.141487  0.138010  0.156362  0.223467  0.134185  157018.832202   \n",
      "5092  0.135946  0.137861  0.141358  0.223235  0.129566  158274.737060   \n",
      "5093  0.129882  0.139160  0.132904  0.218181  0.124828  159010.898830   \n",
      "\n",
      "             행정구역  \n",
      "3     강원특별자치도 강릉시  \n",
      "4     강원특별자치도 강릉시  \n",
      "5     강원특별자치도 강릉시  \n",
      "6     강원특별자치도 강릉시  \n",
      "7     강원특별자치도 강릉시  \n",
      "...           ...  \n",
      "5089     충청북도 충주시  \n",
      "5090     충청북도 충주시  \n",
      "5091     충청북도 충주시  \n",
      "5092     충청북도 충주시  \n",
      "5093     충청북도 충주시  \n",
      "\n",
      "[1776 rows x 14 columns]\n"
     ]
    }
   ],
   "source": [
    "# 연도가 2013부터 2020까지인 데이터 추출\n",
    "filtered_df = df[(df['연도'] >= 2013) & (df['연도'] <= 2020)]\n",
    "\n",
    "# 결과 출력\n",
    "print(filtered_df)"
   ]
  },
  {
   "cell_type": "code",
   "execution_count": 142,
   "metadata": {
    "collapsed": false,
    "pycharm": {
     "name": "#%%\n"
    }
   },
   "outputs": [
    {
     "data": {
      "text/html": [
       "<div>\n",
       "<style scoped>\n",
       "    .dataframe tbody tr th:only-of-type {\n",
       "        vertical-align: middle;\n",
       "    }\n",
       "\n",
       "    .dataframe tbody tr th {\n",
       "        vertical-align: top;\n",
       "    }\n",
       "\n",
       "    .dataframe thead th {\n",
       "        text-align: right;\n",
       "    }\n",
       "</style>\n",
       "<table border=\"1\" class=\"dataframe\">\n",
       "  <thead>\n",
       "    <tr style=\"text-align: right;\">\n",
       "      <th></th>\n",
       "      <th>Unnamed: 0</th>\n",
       "      <th>행정구역(시도)</th>\n",
       "      <th>행정구역(시군구)</th>\n",
       "      <th>연도</th>\n",
       "      <th>총인구수(명)</th>\n",
       "      <th>유치원 수</th>\n",
       "      <th>초등학교 수</th>\n",
       "      <th>출생건수</th>\n",
       "      <th>사망건수</th>\n",
       "      <th>혼인건수</th>\n",
       "      <th>이혼건수</th>\n",
       "      <th>학령인구(명)</th>\n",
       "      <th>총인구수-학령인구(명)</th>\n",
       "      <th>행정구역</th>\n",
       "    </tr>\n",
       "  </thead>\n",
       "  <tbody>\n",
       "    <tr>\n",
       "      <th>3</th>\n",
       "      <td>772.0</td>\n",
       "      <td>강원특별자치도</td>\n",
       "      <td>강릉시</td>\n",
       "      <td>2013</td>\n",
       "      <td>0.163247</td>\n",
       "      <td>0.182776</td>\n",
       "      <td>0.287642</td>\n",
       "      <td>0.151716</td>\n",
       "      <td>0.110638</td>\n",
       "      <td>0.145357</td>\n",
       "      <td>0.214152</td>\n",
       "      <td>0.166624</td>\n",
       "      <td>139269.307494</td>\n",
       "      <td>강원특별자치도 강릉시</td>\n",
       "    </tr>\n",
       "    <tr>\n",
       "      <th>4</th>\n",
       "      <td>995.0</td>\n",
       "      <td>강원특별자치도</td>\n",
       "      <td>강릉시</td>\n",
       "      <td>2014</td>\n",
       "      <td>0.162384</td>\n",
       "      <td>0.187907</td>\n",
       "      <td>0.287642</td>\n",
       "      <td>0.140228</td>\n",
       "      <td>0.115289</td>\n",
       "      <td>0.141337</td>\n",
       "      <td>0.194706</td>\n",
       "      <td>0.160827</td>\n",
       "      <td>139545.910056</td>\n",
       "      <td>강원특별자치도 강릉시</td>\n",
       "    </tr>\n",
       "    <tr>\n",
       "      <th>5</th>\n",
       "      <td>1218.0</td>\n",
       "      <td>강원특별자치도</td>\n",
       "      <td>강릉시</td>\n",
       "      <td>2015</td>\n",
       "      <td>0.161329</td>\n",
       "      <td>0.200750</td>\n",
       "      <td>0.287642</td>\n",
       "      <td>0.147171</td>\n",
       "      <td>0.117112</td>\n",
       "      <td>0.139637</td>\n",
       "      <td>0.195085</td>\n",
       "      <td>0.153690</td>\n",
       "      <td>139847.434158</td>\n",
       "      <td>강원특별자치도 강릉시</td>\n",
       "    </tr>\n",
       "    <tr>\n",
       "      <th>6</th>\n",
       "      <td>1441.0</td>\n",
       "      <td>강원특별자치도</td>\n",
       "      <td>강릉시</td>\n",
       "      <td>2016</td>\n",
       "      <td>0.160653</td>\n",
       "      <td>0.170314</td>\n",
       "      <td>0.287642</td>\n",
       "      <td>0.134609</td>\n",
       "      <td>0.116467</td>\n",
       "      <td>0.132618</td>\n",
       "      <td>0.189079</td>\n",
       "      <td>0.147570</td>\n",
       "      <td>140346.082585</td>\n",
       "      <td>강원특별자치도 강릉시</td>\n",
       "    </tr>\n",
       "    <tr>\n",
       "      <th>7</th>\n",
       "      <td>1664.0</td>\n",
       "      <td>강원특별자치도</td>\n",
       "      <td>강릉시</td>\n",
       "      <td>2017</td>\n",
       "      <td>0.160617</td>\n",
       "      <td>0.169789</td>\n",
       "      <td>0.287642</td>\n",
       "      <td>0.121973</td>\n",
       "      <td>0.115260</td>\n",
       "      <td>0.132662</td>\n",
       "      <td>0.181605</td>\n",
       "      <td>0.142102</td>\n",
       "      <td>141355.431801</td>\n",
       "      <td>강원특별자치도 강릉시</td>\n",
       "    </tr>\n",
       "    <tr>\n",
       "      <th>...</th>\n",
       "      <td>...</td>\n",
       "      <td>...</td>\n",
       "      <td>...</td>\n",
       "      <td>...</td>\n",
       "      <td>...</td>\n",
       "      <td>...</td>\n",
       "      <td>...</td>\n",
       "      <td>...</td>\n",
       "      <td>...</td>\n",
       "      <td>...</td>\n",
       "      <td>...</td>\n",
       "      <td>...</td>\n",
       "      <td>...</td>\n",
       "      <td>...</td>\n",
       "    </tr>\n",
       "    <tr>\n",
       "      <th>5089</th>\n",
       "      <td>1458.0</td>\n",
       "      <td>충청북도</td>\n",
       "      <td>충주시</td>\n",
       "      <td>2016</td>\n",
       "      <td>0.176557</td>\n",
       "      <td>0.234604</td>\n",
       "      <td>0.338771</td>\n",
       "      <td>0.165981</td>\n",
       "      <td>0.131653</td>\n",
       "      <td>0.151476</td>\n",
       "      <td>0.220738</td>\n",
       "      <td>0.142692</td>\n",
       "      <td>153458.336526</td>\n",
       "      <td>충청북도 충주시</td>\n",
       "    </tr>\n",
       "    <tr>\n",
       "      <th>5090</th>\n",
       "      <td>1681.0</td>\n",
       "      <td>충청북도</td>\n",
       "      <td>충주시</td>\n",
       "      <td>2017</td>\n",
       "      <td>0.176712</td>\n",
       "      <td>0.234406</td>\n",
       "      <td>0.338384</td>\n",
       "      <td>0.149481</td>\n",
       "      <td>0.137028</td>\n",
       "      <td>0.152142</td>\n",
       "      <td>0.214859</td>\n",
       "      <td>0.137475</td>\n",
       "      <td>154646.358183</td>\n",
       "      <td>충청북도 충주시</td>\n",
       "    </tr>\n",
       "    <tr>\n",
       "      <th>5091</th>\n",
       "      <td>1904.0</td>\n",
       "      <td>충청북도</td>\n",
       "      <td>충주시</td>\n",
       "      <td>2018</td>\n",
       "      <td>0.178372</td>\n",
       "      <td>0.238759</td>\n",
       "      <td>0.338540</td>\n",
       "      <td>0.141487</td>\n",
       "      <td>0.138010</td>\n",
       "      <td>0.156362</td>\n",
       "      <td>0.223467</td>\n",
       "      <td>0.134185</td>\n",
       "      <td>157018.832202</td>\n",
       "      <td>충청북도 충주시</td>\n",
       "    </tr>\n",
       "    <tr>\n",
       "      <th>5092</th>\n",
       "      <td>2127.0</td>\n",
       "      <td>충청북도</td>\n",
       "      <td>충주시</td>\n",
       "      <td>2019</td>\n",
       "      <td>0.178676</td>\n",
       "      <td>0.227790</td>\n",
       "      <td>0.330922</td>\n",
       "      <td>0.135946</td>\n",
       "      <td>0.137861</td>\n",
       "      <td>0.141358</td>\n",
       "      <td>0.223235</td>\n",
       "      <td>0.129566</td>\n",
       "      <td>158274.737060</td>\n",
       "      <td>충청북도 충주시</td>\n",
       "    </tr>\n",
       "    <tr>\n",
       "      <th>5093</th>\n",
       "      <td>2350.0</td>\n",
       "      <td>충청북도</td>\n",
       "      <td>충주시</td>\n",
       "      <td>2020</td>\n",
       "      <td>0.178442</td>\n",
       "      <td>0.227121</td>\n",
       "      <td>0.322724</td>\n",
       "      <td>0.129882</td>\n",
       "      <td>0.139160</td>\n",
       "      <td>0.132904</td>\n",
       "      <td>0.218181</td>\n",
       "      <td>0.124828</td>\n",
       "      <td>159010.898830</td>\n",
       "      <td>충청북도 충주시</td>\n",
       "    </tr>\n",
       "  </tbody>\n",
       "</table>\n",
       "<p>1776 rows × 14 columns</p>\n",
       "</div>"
      ],
      "text/plain": [
       "      Unnamed: 0 행정구역(시도) 행정구역(시군구)    연도   총인구수(명)     유치원 수    초등학교 수  \\\n",
       "3          772.0  강원특별자치도       강릉시  2013  0.163247  0.182776  0.287642   \n",
       "4          995.0  강원특별자치도       강릉시  2014  0.162384  0.187907  0.287642   \n",
       "5         1218.0  강원특별자치도       강릉시  2015  0.161329  0.200750  0.287642   \n",
       "6         1441.0  강원특별자치도       강릉시  2016  0.160653  0.170314  0.287642   \n",
       "7         1664.0  강원특별자치도       강릉시  2017  0.160617  0.169789  0.287642   \n",
       "...          ...      ...       ...   ...       ...       ...       ...   \n",
       "5089      1458.0     충청북도       충주시  2016  0.176557  0.234604  0.338771   \n",
       "5090      1681.0     충청북도       충주시  2017  0.176712  0.234406  0.338384   \n",
       "5091      1904.0     충청북도       충주시  2018  0.178372  0.238759  0.338540   \n",
       "5092      2127.0     충청북도       충주시  2019  0.178676  0.227790  0.330922   \n",
       "5093      2350.0     충청북도       충주시  2020  0.178442  0.227121  0.322724   \n",
       "\n",
       "          출생건수      사망건수      혼인건수      이혼건수   학령인구(명)   총인구수-학령인구(명)  \\\n",
       "3     0.151716  0.110638  0.145357  0.214152  0.166624  139269.307494   \n",
       "4     0.140228  0.115289  0.141337  0.194706  0.160827  139545.910056   \n",
       "5     0.147171  0.117112  0.139637  0.195085  0.153690  139847.434158   \n",
       "6     0.134609  0.116467  0.132618  0.189079  0.147570  140346.082585   \n",
       "7     0.121973  0.115260  0.132662  0.181605  0.142102  141355.431801   \n",
       "...        ...       ...       ...       ...       ...            ...   \n",
       "5089  0.165981  0.131653  0.151476  0.220738  0.142692  153458.336526   \n",
       "5090  0.149481  0.137028  0.152142  0.214859  0.137475  154646.358183   \n",
       "5091  0.141487  0.138010  0.156362  0.223467  0.134185  157018.832202   \n",
       "5092  0.135946  0.137861  0.141358  0.223235  0.129566  158274.737060   \n",
       "5093  0.129882  0.139160  0.132904  0.218181  0.124828  159010.898830   \n",
       "\n",
       "             행정구역  \n",
       "3     강원특별자치도 강릉시  \n",
       "4     강원특별자치도 강릉시  \n",
       "5     강원특별자치도 강릉시  \n",
       "6     강원특별자치도 강릉시  \n",
       "7     강원특별자치도 강릉시  \n",
       "...           ...  \n",
       "5089     충청북도 충주시  \n",
       "5090     충청북도 충주시  \n",
       "5091     충청북도 충주시  \n",
       "5092     충청북도 충주시  \n",
       "5093     충청북도 충주시  \n",
       "\n",
       "[1776 rows x 14 columns]"
      ]
     },
     "execution_count": 142,
     "metadata": {},
     "output_type": "execute_result"
    }
   ],
   "source": [
    "filtered_df"
   ]
  },
  {
   "cell_type": "code",
   "execution_count": 143,
   "metadata": {
    "collapsed": false,
    "pycharm": {
     "name": "#%%\n"
    }
   },
   "outputs": [],
   "source": [
    "# 시퀀스 데이터 생성\n",
    "def create_sequence_data(data, sequence_length):\n",
    "    sequences = []\n",
    "    for region in data['행정구역'].unique().tolist():\n",
    "        temp_df = data[data['행정구역'] == region]\n",
    "        if len(temp_df) < sequence_length:\n",
    "            continue\n",
    "\n",
    "        temp_df = temp_df[use_cols]\n",
    "        for i in range(len(temp_df) - sequence_length):\n",
    "            seq = temp_df[i:i+sequence_length+1]\n",
    "            sequences.append(seq)\n",
    "    return np.array(sequences)"
   ]
  },
  {
   "cell_type": "code",
   "execution_count": 144,
   "metadata": {
    "collapsed": false,
    "pycharm": {
     "name": "#%%\n"
    }
   },
   "outputs": [],
   "source": [
    "sequence_length = 4  # 시퀀스 길이\n",
    "sequences = create_sequence_data(filtered_df, sequence_length)"
   ]
  },
  {
   "cell_type": "code",
   "execution_count": 145,
   "metadata": {
    "collapsed": false,
    "pycharm": {
     "name": "#%%\n"
    }
   },
   "outputs": [
    {
     "data": {
      "text/plain": [
       "(888, 5, 8)"
      ]
     },
     "execution_count": 145,
     "metadata": {},
     "output_type": "execute_result"
    }
   ],
   "source": [
    "sequences.shape"
   ]
  },
  {
   "cell_type": "code",
   "execution_count": 146,
   "metadata": {
    "collapsed": false,
    "pycharm": {
     "name": "#%%\n"
    }
   },
   "outputs": [],
   "source": [
    "# 데이터셋 분리\n",
    "X = sequences[:, :-1]\n",
    "y = sequences[:, -1][:, -1]"
   ]
  },
  {
   "cell_type": "code",
   "execution_count": 147,
   "metadata": {
    "collapsed": false,
    "pycharm": {
     "name": "#%%\n"
    }
   },
   "outputs": [],
   "source": [
    "# 훈련/검증 데이터셋 분리\n",
    "X_train, X_test, y_train, y_test = train_test_split(X, y, test_size=0.2, shuffle=False)"
   ]
  },
  {
   "cell_type": "code",
   "execution_count": 148,
   "metadata": {
    "collapsed": false,
    "pycharm": {
     "name": "#%%\n"
    }
   },
   "outputs": [],
   "source": [
    "from tensorflow.keras.models import Sequential\n",
    "from tensorflow.keras.layers import LSTM, Dense"
   ]
  },
  {
   "cell_type": "code",
   "execution_count": 149,
   "metadata": {},
   "outputs": [],
   "source": [
    "import numpy as np\n",
    "import tensorflow as tf\n",
    "import random as python_random\n",
    "\n",
    "# 시드 값 설정\n",
    "np.random.seed(1)\n",
    "python_random.seed(1)\n",
    "tf.random.set_seed(1)"
   ]
  },
  {
   "cell_type": "code",
   "execution_count": 150,
   "metadata": {
    "collapsed": false,
    "pycharm": {
     "name": "#%%# 모델 구성\n"
    }
   },
   "outputs": [
    {
     "name": "stdout",
     "output_type": "stream",
     "text": [
      "WARNING:tensorflow:Layer lstm_4 will not use cuDNN kernels since it doesn't meet the criteria. It will use a generic GPU kernel as fallback when running on GPU.\n"
     ]
    }
   ],
   "source": [
    "model = Sequential()\n",
    "\n",
    "model.add(LSTM(50, activation='relu', input_shape=(X.shape[1], X.shape[2])))\n",
    "model.add(Dense(1))\n",
    "model.compile(optimizer='adam', loss='mse')"
   ]
  },
  {
   "cell_type": "code",
   "execution_count": 151,
   "metadata": {
    "collapsed": false,
    "pycharm": {
     "name": "#%%\n"
    }
   },
   "outputs": [
    {
     "name": "stdout",
     "output_type": "stream",
     "text": [
      "Epoch 1/100\n"
     ]
    },
    {
     "name": "stdout",
     "output_type": "stream",
     "text": [
      "18/18 [==============================] - 1s 51ms/step - loss: 0.0553 - val_loss: 0.0078\n",
      "Epoch 2/100\n",
      "18/18 [==============================] - 1s 34ms/step - loss: 0.0114 - val_loss: 0.0079\n",
      "Epoch 3/100\n",
      "18/18 [==============================] - 1s 33ms/step - loss: 0.0051 - val_loss: 0.0037\n",
      "Epoch 4/100\n",
      "18/18 [==============================] - 1s 35ms/step - loss: 0.0021 - val_loss: 0.0020\n",
      "Epoch 5/100\n",
      "18/18 [==============================] - 1s 34ms/step - loss: 0.0015 - val_loss: 0.0016\n",
      "Epoch 6/100\n",
      "18/18 [==============================] - 1s 33ms/step - loss: 0.0013 - val_loss: 0.0016\n",
      "Epoch 7/100\n",
      "18/18 [==============================] - 1s 33ms/step - loss: 0.0012 - val_loss: 0.0014\n",
      "Epoch 8/100\n",
      "18/18 [==============================] - 1s 33ms/step - loss: 0.0010 - val_loss: 0.0013\n",
      "Epoch 9/100\n",
      "18/18 [==============================] - 1s 34ms/step - loss: 8.9920e-04 - val_loss: 0.0011\n",
      "Epoch 10/100\n",
      "18/18 [==============================] - 1s 33ms/step - loss: 7.8164e-04 - val_loss: 9.7482e-04\n",
      "Epoch 11/100\n",
      "18/18 [==============================] - 1s 34ms/step - loss: 6.6882e-04 - val_loss: 7.2570e-04\n",
      "Epoch 12/100\n",
      "18/18 [==============================] - 1s 35ms/step - loss: 5.6084e-04 - val_loss: 4.5615e-04\n",
      "Epoch 13/100\n",
      "18/18 [==============================] - 1s 33ms/step - loss: 4.4095e-04 - val_loss: 3.4430e-04\n",
      "Epoch 14/100\n",
      "18/18 [==============================] - 1s 34ms/step - loss: 3.5149e-04 - val_loss: 2.0972e-04\n",
      "Epoch 15/100\n",
      "18/18 [==============================] - 1s 34ms/step - loss: 2.4696e-04 - val_loss: 1.4653e-04\n",
      "Epoch 16/100\n",
      "18/18 [==============================] - 1s 34ms/step - loss: 2.1176e-04 - val_loss: 1.0797e-04\n",
      "Epoch 17/100\n",
      "18/18 [==============================] - 1s 33ms/step - loss: 1.8671e-04 - val_loss: 1.0139e-04\n",
      "Epoch 18/100\n",
      "18/18 [==============================] - 1s 34ms/step - loss: 1.7905e-04 - val_loss: 1.3020e-04\n",
      "Epoch 19/100\n",
      "18/18 [==============================] - 1s 34ms/step - loss: 2.1169e-04 - val_loss: 1.8786e-04\n",
      "Epoch 20/100\n",
      "18/18 [==============================] - 1s 33ms/step - loss: 2.1877e-04 - val_loss: 9.6878e-05\n",
      "Epoch 21/100\n",
      "18/18 [==============================] - 1s 33ms/step - loss: 1.4970e-04 - val_loss: 1.0607e-04\n",
      "Epoch 22/100\n",
      "18/18 [==============================] - 1s 33ms/step - loss: 1.3322e-04 - val_loss: 9.1727e-05\n",
      "Epoch 23/100\n",
      "18/18 [==============================] - 1s 33ms/step - loss: 1.3743e-04 - val_loss: 8.7674e-05\n",
      "Epoch 24/100\n",
      "18/18 [==============================] - 1s 33ms/step - loss: 1.3160e-04 - val_loss: 1.2457e-04\n",
      "Epoch 25/100\n",
      "18/18 [==============================] - 1s 34ms/step - loss: 1.2164e-04 - val_loss: 1.0423e-04\n",
      "Epoch 26/100\n",
      "18/18 [==============================] - 1s 34ms/step - loss: 1.2656e-04 - val_loss: 8.9234e-05\n",
      "Epoch 27/100\n",
      "18/18 [==============================] - 1s 33ms/step - loss: 1.2992e-04 - val_loss: 8.3143e-05\n",
      "Epoch 28/100\n",
      "18/18 [==============================] - 1s 33ms/step - loss: 1.2762e-04 - val_loss: 8.1586e-05\n",
      "Epoch 29/100\n",
      "18/18 [==============================] - 1s 33ms/step - loss: 1.1934e-04 - val_loss: 8.5195e-05\n",
      "Epoch 30/100\n",
      "18/18 [==============================] - 1s 33ms/step - loss: 1.1878e-04 - val_loss: 8.2054e-05\n",
      "Epoch 31/100\n",
      "18/18 [==============================] - 1s 34ms/step - loss: 1.2722e-04 - val_loss: 1.2633e-04\n",
      "Epoch 32/100\n",
      "18/18 [==============================] - 1s 32ms/step - loss: 1.4306e-04 - val_loss: 8.7677e-05\n",
      "Epoch 33/100\n",
      "18/18 [==============================] - 1s 33ms/step - loss: 1.2898e-04 - val_loss: 7.9832e-05\n",
      "Epoch 34/100\n",
      "18/18 [==============================] - 1s 33ms/step - loss: 1.1557e-04 - val_loss: 8.3459e-05\n",
      "Epoch 35/100\n",
      "18/18 [==============================] - 1s 33ms/step - loss: 1.1265e-04 - val_loss: 1.2177e-04\n",
      "Epoch 36/100\n",
      "18/18 [==============================] - 1s 32ms/step - loss: 1.3906e-04 - val_loss: 7.6503e-05\n",
      "Epoch 37/100\n",
      "18/18 [==============================] - 1s 34ms/step - loss: 1.0215e-04 - val_loss: 8.2262e-05\n",
      "Epoch 38/100\n",
      "18/18 [==============================] - 1s 33ms/step - loss: 1.0169e-04 - val_loss: 7.6958e-05\n",
      "Epoch 39/100\n",
      "18/18 [==============================] - 1s 33ms/step - loss: 1.1038e-04 - val_loss: 8.1613e-05\n",
      "Epoch 40/100\n",
      "18/18 [==============================] - 1s 32ms/step - loss: 1.1907e-04 - val_loss: 7.9060e-05\n",
      "Epoch 41/100\n",
      "18/18 [==============================] - 1s 33ms/step - loss: 9.9895e-05 - val_loss: 9.6882e-05\n"
     ]
    },
    {
     "data": {
      "text/plain": [
       "<keras.src.callbacks.History at 0x2c8c6e5d0>"
      ]
     },
     "execution_count": 151,
     "metadata": {},
     "output_type": "execute_result"
    }
   ],
   "source": [
    "\n",
    "# early stopping\n",
    "\n",
    "from tensorflow.keras.callbacks import EarlyStopping\n",
    "early_stop = EarlyStopping(monitor='val_loss', patience=5)\n",
    "\n",
    "# 모델 학습\n",
    "\n",
    "model.fit(X_train, y_train, epochs=100, verbose=1, validation_split=0.2, callbacks=[early_stop])"
   ]
  },
  {
   "cell_type": "code",
   "execution_count": 152,
   "metadata": {
    "collapsed": false,
    "pycharm": {
     "name": "#%%\n"
    }
   },
   "outputs": [],
   "source": [
    "def invTransform(scaler, data, colName, colNames):\n",
    "    dummy = pd.DataFrame(np.zeros((len(data), len(colNames))), columns=colNames)\n",
    "    dummy[colName] = data\n",
    "    dummy = pd.DataFrame(scaler.inverse_transform(dummy), columns=colNames)\n",
    "    return dummy[colName].values"
   ]
  },
  {
   "cell_type": "code",
   "execution_count": 153,
   "metadata": {
    "collapsed": false,
    "pycharm": {
     "name": "#%%\n"
    }
   },
   "outputs": [
    {
     "name": "stdout",
     "output_type": "stream",
     "text": [
      "6/6 [==============================] - 0s 16ms/step\n"
     ]
    },
    {
     "name": "stderr",
     "output_type": "stream",
     "text": [
      "/opt/homebrew/Caskroom/miniforge/base/envs/dataScience/lib/python3.11/site-packages/sklearn/utils/validation.py:767: FutureWarning: is_sparse is deprecated and will be removed in a future version. Check `isinstance(dtype, pd.SparseDtype)` instead.\n",
      "  if not hasattr(array, \"sparse\") and array.dtypes.apply(is_sparse).any():\n",
      "/opt/homebrew/Caskroom/miniforge/base/envs/dataScience/lib/python3.11/site-packages/sklearn/utils/validation.py:605: FutureWarning: is_sparse is deprecated and will be removed in a future version. Check `isinstance(dtype, pd.SparseDtype)` instead.\n",
      "  if is_sparse(pd_dtype):\n",
      "/opt/homebrew/Caskroom/miniforge/base/envs/dataScience/lib/python3.11/site-packages/sklearn/utils/validation.py:614: FutureWarning: is_sparse is deprecated and will be removed in a future version. Check `isinstance(dtype, pd.SparseDtype)` instead.\n",
      "  if is_sparse(pd_dtype) or not is_extension_array_dtype(pd_dtype):\n",
      "/opt/homebrew/Caskroom/miniforge/base/envs/dataScience/lib/python3.11/site-packages/sklearn/utils/validation.py:767: FutureWarning: is_sparse is deprecated and will be removed in a future version. Check `isinstance(dtype, pd.SparseDtype)` instead.\n",
      "  if not hasattr(array, \"sparse\") and array.dtypes.apply(is_sparse).any():\n",
      "/opt/homebrew/Caskroom/miniforge/base/envs/dataScience/lib/python3.11/site-packages/sklearn/utils/validation.py:605: FutureWarning: is_sparse is deprecated and will be removed in a future version. Check `isinstance(dtype, pd.SparseDtype)` instead.\n",
      "  if is_sparse(pd_dtype):\n",
      "/opt/homebrew/Caskroom/miniforge/base/envs/dataScience/lib/python3.11/site-packages/sklearn/utils/validation.py:614: FutureWarning: is_sparse is deprecated and will be removed in a future version. Check `isinstance(dtype, pd.SparseDtype)` instead.\n",
      "  if is_sparse(pd_dtype) or not is_extension_array_dtype(pd_dtype):\n"
     ]
    },
    {
     "data": {
      "image/png": "[encoded data removed]",
      "text/plain": [
       "<Figure size 640x480 with 1 Axes>"
      ]
     },
     "metadata": {},
     "output_type": "display_data"
    },
    {
     "name": "stdout",
     "output_type": "stream",
     "text": [
      "Mean Squared Error: 1286819.48\n",
      "Mean Absolute Percentage Error (MAPE): 8.62%\n"
     ]
    }
   ],
   "source": [
    "# 예측\n",
    "predicted_data = model.predict(X_test)\n",
    "\n",
    "# 예측 결과 역전환\n",
    "#predicted_data = scaler.inverse_transform(predicted_data)\n",
    "predicted_data = invTransform(scaler, predicted_data, '학령인구(명)', use_cols).reshape(-1, 1)\n",
    "predicted_data = predicted_data.round()\n",
    "#y_true = scaler.inverse_transform(y_test.reshape(-1, 1))\n",
    "y_true = invTransform(scaler, y_test, '학령인구(명)', use_cols).reshape(-1, 1)\n",
    "\n",
    "# 결과 시각화\n",
    "plt.plot(range(len(y_true)), y_true, label='True')\n",
    "plt.plot(range(len(predicted_data)), predicted_data, label='Predicted', linestyle='--')\n",
    "plt.xlabel('Test Case')\n",
    "plt.ylabel('School_Age_Population')\n",
    "plt.legend()\n",
    "plt.show()\n",
    "\n",
    "# 모델 평가\n",
    "mse = mean_squared_error(y_true, predicted_data)\n",
    "print(f'Mean Squared Error: {mse:.2f}')\n",
    "\n",
    "# MAPE 계산 함수\n",
    "def calculate_mape(y_true, y_pred):\n",
    "    return np.mean(np.abs((y_true - y_pred) / y_true)) * 100\n",
    "\n",
    "# MAPE 계산\n",
    "mape = calculate_mape(y_true, predicted_data)\n",
    "print(f'Mean Absolute Percentage Error (MAPE): {mape:.2f}%')"
   ]
  },
  {
   "cell_type": "code",
   "execution_count": 154,
   "metadata": {
    "collapsed": false,
    "pycharm": {
     "name": "#%%\n"
    }
   },
   "outputs": [
    {
     "data": {
      "image/png": "[encoded data removed]",
      "text/plain": [
       "<Figure size 640x480 with 1 Axes>"
      ]
     },
     "metadata": {},
     "output_type": "display_data"
    }
   ],
   "source": [
    "# 결과 시각화 (barplot)\n",
    "bar_width = 0.35\n",
    "index = np.arange(len(y_true))\n",
    "\n",
    "plt.bar(index, y_true.flatten(), bar_width, label='True', alpha=0.7)\n",
    "plt.bar(index + bar_width, predicted_data.flatten(), bar_width, label='Predicted', alpha=0.7, linestyle='--')\n",
    "\n",
    "plt.xlabel('index')\n",
    "plt.ylabel('predict')\n",
    "plt.title('True vs Predicted School_Age_Population')\n",
    "plt.legend()\n",
    "plt.show()"
   ]
  },
  {
   "cell_type": "code",
   "execution_count": 155,
   "metadata": {
    "collapsed": false,
    "pycharm": {
     "name": "#%%\n"
    }
   },
   "outputs": [
    {
     "name": "stdout",
     "output_type": "stream",
     "text": [
      "[4759.] [4240.]\n",
      "[4509.] [3869.]\n",
      "[4079.] [2977.]\n",
      "[3907.] [2796.]\n",
      "[3742.] [2621.]\n",
      "[3719.] [2427.]\n",
      "[3962.] [3355.]\n",
      "[3761.] [3185.]\n",
      "[3514.] [2981.]\n",
      "[3271.] [2848.]\n",
      "[9790.] [8182.]\n",
      "[9377.] [7842.]\n",
      "[8807.] [7365.]\n",
      "[8355.] [6863.]\n",
      "[10502.] [9581.]\n",
      "[9989.] [9200.]\n",
      "[9401.] [8786.]\n",
      "[8984.] [8337.]\n",
      "[8328.] [7018.]\n",
      "[7451.] [6803.]\n",
      "[6896.] [6439.]\n",
      "[6630.] [5921.]\n",
      "[47957.] [49276.]\n",
      "[46724.] [47772.]\n",
      "[45374.] [46145.]\n",
      "[43824.] [44615.]\n",
      "[11467.] [10395.]\n",
      "[10893.] [9747.]\n",
      "[10413.] [9180.]\n",
      "[9916.] [8680.]\n",
      "[13331.] [12095.]\n",
      "[12711.] [11538.]\n",
      "[12007.] [11055.]\n",
      "[11498.] [10442.]\n",
      "[3127.] [3114.]\n",
      "[3035.] [2981.]\n",
      "[2913.] [2895.]\n",
      "[2858.] [2795.]\n",
      "[7226.] [6169.]\n",
      "[6719.] [5801.]\n",
      "[6342.] [5421.]\n",
      "[6025.] [5029.]\n",
      "[3896.] [3449.]\n",
      "[3728.] [3279.]\n",
      "[3496.] [3134.]\n",
      "[3312.] [2970.]\n",
      "[15067.] [14425.]\n",
      "[14603.] [14385.]\n",
      "[14046.] [14023.]\n",
      "[13591.] [13511.]\n",
      "[53055.] [54772.]\n",
      "[50394.] [52939.]\n",
      "[47494.] [50138.]\n",
      "[45195.] [47932.]\n",
      "[3499.] [2922.]\n",
      "[3366.] [2909.]\n",
      "[3048.] [2883.]\n",
      "[2625.] [2696.]\n",
      "[2932.] [2434.]\n",
      "[2985.] [2308.]\n",
      "[2769.] [2299.]\n",
      "[2636.] [2285.]\n",
      "[125868.] [126630.]\n",
      "[122846.] [121815.]\n",
      "[119954.] [118929.]\n",
      "[117143.] [114845.]\n",
      "[17845.] [16667.]\n",
      "[17008.] [15866.]\n",
      "[16238.] [14912.]\n",
      "[15353.] [13969.]\n",
      "[3143.] [2756.]\n",
      "[2961.] [2677.]\n",
      "[2770.] [2652.]\n",
      "[2656.] [2548.]\n",
      "[29206.] [31468.]\n",
      "[29182.] [31343.]\n",
      "[28473.] [31204.]\n",
      "[28418.] [30749.]\n",
      "[90655.] [93369.]\n",
      "[90112.] [91776.]\n",
      "[88667.] [90029.]\n",
      "[87778.] [88783.]\n",
      "[10511.] [9394.]\n",
      "[10308.] [9271.]\n",
      "[9896.] [9305.]\n",
      "[9586.] [9279.]\n",
      "[15687.] [16039.]\n",
      "[14998.] [14920.]\n",
      "[14347.] [13979.]\n",
      "[13505.] [13214.]\n",
      "[7362.] [6500.]\n",
      "[7143.] [6279.]\n",
      "[6920.] [6031.]\n",
      "[6547.] [5991.]\n",
      "[18233.] [18165.]\n",
      "[17281.] [17268.]\n",
      "[16450.] [16316.]\n",
      "[15705.] [15513.]\n",
      "[15217.] [13805.]\n",
      "[14600.] [13277.]\n",
      "[13936.] [12693.]\n",
      "[13365.] [12084.]\n",
      "[8930.] [8127.]\n",
      "[8461.] [7572.]\n",
      "[8000.] [6945.]\n",
      "[7479.] [6454.]\n",
      "[29620.] [28231.]\n",
      "[29491.] [27567.]\n",
      "[28825.] [27146.]\n",
      "[28319.] [26678.]\n",
      "[6595.] [5617.]\n",
      "[6193.] [5256.]\n",
      "[5866.] [4831.]\n",
      "[5538.] [4435.]\n",
      "[56972.] [57116.]\n",
      "[57260.] [57442.]\n",
      "[57270.] [57408.]\n",
      "[57069.] [57366.]\n",
      "[10285.] [10714.]\n",
      "[9906.] [9954.]\n",
      "[9519.] [9381.]\n",
      "[8977.] [8878.]\n",
      "[117301.] [120720.]\n",
      "[117421.] [118066.]\n",
      "[115792.] [117001.]\n",
      "[113977.] [115847.]\n",
      "[4125.] [3475.]\n",
      "[3930.] [3321.]\n",
      "[3610.] [3202.]\n",
      "[3357.] [3031.]\n",
      "[8139.] [6813.]\n",
      "[7765.] [6651.]\n",
      "[7374.] [6480.]\n",
      "[7030.] [6134.]\n",
      "[16296.] [13027.]\n",
      "[16136.] [13373.]\n",
      "[15770.] [13426.]\n",
      "[15484.] [13360.]\n",
      "[4295.] [3879.]\n",
      "[4006.] [3554.]\n",
      "[3823.] [3297.]\n",
      "[3557.] [3239.]\n",
      "[3698.] [3141.]\n",
      "[3530.] [2894.]\n",
      "[3280.] [2700.]\n",
      "[3078.] [2609.]\n",
      "[3985.] [3961.]\n",
      "[3814.] [3722.]\n",
      "[3558.] [3424.]\n",
      "[3370.] [3269.]\n",
      "[6588.] [5904.]\n",
      "[6433.] [5728.]\n",
      "[6131.] [5385.]\n",
      "[5646.] [5114.]\n",
      "[7112.] [6274.]\n",
      "[6800.] [5955.]\n",
      "[6500.] [5809.]\n",
      "[6238.] [5615.]\n",
      "[14399.] [14117.]\n",
      "[13681.] [13785.]\n",
      "[13148.] [13191.]\n",
      "[12403.] [12724.]\n",
      "[21974.] [19798.]\n",
      "[21066.] [19176.]\n",
      "[20171.] [18406.]\n",
      "[19084.] [17725.]\n",
      "[6167.] [5909.]\n",
      "[6037.] [5758.]\n",
      "[5885.] [5713.]\n",
      "[5661.] [5670.]\n",
      "[12111.] [11196.]\n",
      "[12738.] [11360.]\n",
      "[13024.] [11799.]\n",
      "[13321.] [12258.]\n",
      "[33652.] [32854.]\n",
      "[32850.] [31991.]\n",
      "[31724.] [30632.]\n",
      "[30569.] [29330.]\n"
     ]
    }
   ],
   "source": [
    "for yt, pr in zip(y_true, predicted_data):\n",
    "    print(yt, pr)"
   ]
  },
  {
   "cell_type": "code",
   "execution_count": 156,
   "metadata": {
    "collapsed": false,
    "pycharm": {
     "name": "#%%\n"
    }
   },
   "outputs": [],
   "source": [
    "prediction_df = df[df['연도'].isin([i for i in range(2018, 2030)])]"
   ]
  },
  {
   "cell_type": "code",
   "execution_count": 157,
   "metadata": {
    "collapsed": false,
    "pycharm": {
     "name": "#%%\n"
    }
   },
   "outputs": [
    {
     "data": {
      "text/html": [
       "<div>\n",
       "<style scoped>\n",
       "    .dataframe tbody tr th:only-of-type {\n",
       "        vertical-align: middle;\n",
       "    }\n",
       "\n",
       "    .dataframe tbody tr th {\n",
       "        vertical-align: top;\n",
       "    }\n",
       "\n",
       "    .dataframe thead th {\n",
       "        text-align: right;\n",
       "    }\n",
       "</style>\n",
       "<table border=\"1\" class=\"dataframe\">\n",
       "  <thead>\n",
       "    <tr style=\"text-align: right;\">\n",
       "      <th></th>\n",
       "      <th>Unnamed: 0</th>\n",
       "      <th>행정구역(시도)</th>\n",
       "      <th>행정구역(시군구)</th>\n",
       "      <th>연도</th>\n",
       "      <th>총인구수(명)</th>\n",
       "      <th>유치원 수</th>\n",
       "      <th>초등학교 수</th>\n",
       "      <th>출생건수</th>\n",
       "      <th>사망건수</th>\n",
       "      <th>혼인건수</th>\n",
       "      <th>이혼건수</th>\n",
       "      <th>학령인구(명)</th>\n",
       "      <th>총인구수-학령인구(명)</th>\n",
       "      <th>행정구역</th>\n",
       "    </tr>\n",
       "  </thead>\n",
       "  <tbody>\n",
       "    <tr>\n",
       "      <th>8</th>\n",
       "      <td>1887.0</td>\n",
       "      <td>강원특별자치도</td>\n",
       "      <td>강릉시</td>\n",
       "      <td>2018</td>\n",
       "      <td>0.159737</td>\n",
       "      <td>0.169380</td>\n",
       "      <td>0.287642</td>\n",
       "      <td>0.118261</td>\n",
       "      <td>0.126677</td>\n",
       "      <td>0.127294</td>\n",
       "      <td>0.177732</td>\n",
       "      <td>0.137056</td>\n",
       "      <td>141452.610739</td>\n",
       "      <td>강원특별자치도 강릉시</td>\n",
       "    </tr>\n",
       "    <tr>\n",
       "      <th>9</th>\n",
       "      <td>2110.0</td>\n",
       "      <td>강원특별자치도</td>\n",
       "      <td>강릉시</td>\n",
       "      <td>2019</td>\n",
       "      <td>0.159956</td>\n",
       "      <td>0.160546</td>\n",
       "      <td>0.278905</td>\n",
       "      <td>0.112989</td>\n",
       "      <td>0.128424</td>\n",
       "      <td>0.128425</td>\n",
       "      <td>0.202090</td>\n",
       "      <td>0.132803</td>\n",
       "      <td>142526.336192</td>\n",
       "      <td>강원특별자치도 강릉시</td>\n",
       "    </tr>\n",
       "    <tr>\n",
       "      <th>10</th>\n",
       "      <td>2333.0</td>\n",
       "      <td>강원특별자치도</td>\n",
       "      <td>강릉시</td>\n",
       "      <td>2020</td>\n",
       "      <td>0.159786</td>\n",
       "      <td>0.165372</td>\n",
       "      <td>0.286951</td>\n",
       "      <td>0.111543</td>\n",
       "      <td>0.128517</td>\n",
       "      <td>0.117525</td>\n",
       "      <td>0.171973</td>\n",
       "      <td>0.126133</td>\n",
       "      <td>143600.893858</td>\n",
       "      <td>강원특별자치도 강릉시</td>\n",
       "    </tr>\n",
       "    <tr>\n",
       "      <th>11</th>\n",
       "      <td>2556.0</td>\n",
       "      <td>강원특별자치도</td>\n",
       "      <td>강릉시</td>\n",
       "      <td>2021</td>\n",
       "      <td>0.159321</td>\n",
       "      <td>0.164661</td>\n",
       "      <td>0.286254</td>\n",
       "      <td>0.106990</td>\n",
       "      <td>0.129205</td>\n",
       "      <td>0.116885</td>\n",
       "      <td>0.172939</td>\n",
       "      <td>0.121485</td>\n",
       "      <td>144026.862442</td>\n",
       "      <td>강원특별자치도 강릉시</td>\n",
       "    </tr>\n",
       "    <tr>\n",
       "      <th>12</th>\n",
       "      <td>2779.0</td>\n",
       "      <td>강원특별자치도</td>\n",
       "      <td>강릉시</td>\n",
       "      <td>2022</td>\n",
       "      <td>0.158113</td>\n",
       "      <td>0.163202</td>\n",
       "      <td>0.294300</td>\n",
       "      <td>0.106473</td>\n",
       "      <td>0.157406</td>\n",
       "      <td>0.105503</td>\n",
       "      <td>0.166404</td>\n",
       "      <td>0.115787</td>\n",
       "      <td>143900.127727</td>\n",
       "      <td>강원특별자치도 강릉시</td>\n",
       "    </tr>\n",
       "    <tr>\n",
       "      <th>...</th>\n",
       "      <td>...</td>\n",
       "      <td>...</td>\n",
       "      <td>...</td>\n",
       "      <td>...</td>\n",
       "      <td>...</td>\n",
       "      <td>...</td>\n",
       "      <td>...</td>\n",
       "      <td>...</td>\n",
       "      <td>...</td>\n",
       "      <td>...</td>\n",
       "      <td>...</td>\n",
       "      <td>...</td>\n",
       "      <td>...</td>\n",
       "      <td>...</td>\n",
       "    </tr>\n",
       "    <tr>\n",
       "      <th>5098</th>\n",
       "      <td>3465.0</td>\n",
       "      <td>충청북도</td>\n",
       "      <td>충주시</td>\n",
       "      <td>2025</td>\n",
       "      <td>0.177571</td>\n",
       "      <td>0.222646</td>\n",
       "      <td>0.310345</td>\n",
       "      <td>0.098508</td>\n",
       "      <td>0.233716</td>\n",
       "      <td>0.127184</td>\n",
       "      <td>0.205413</td>\n",
       "      <td>0.117970</td>\n",
       "      <td>161906.000000</td>\n",
       "      <td>충청북도 충주시</td>\n",
       "    </tr>\n",
       "    <tr>\n",
       "      <th>5099</th>\n",
       "      <td>3688.0</td>\n",
       "      <td>충청북도</td>\n",
       "      <td>충주시</td>\n",
       "      <td>2026</td>\n",
       "      <td>0.177675</td>\n",
       "      <td>0.222646</td>\n",
       "      <td>0.298851</td>\n",
       "      <td>0.092725</td>\n",
       "      <td>0.242526</td>\n",
       "      <td>0.127331</td>\n",
       "      <td>0.205413</td>\n",
       "      <td>0.118335</td>\n",
       "      <td>162630.000000</td>\n",
       "      <td>충청북도 충주시</td>\n",
       "    </tr>\n",
       "    <tr>\n",
       "      <th>5100</th>\n",
       "      <td>3911.0</td>\n",
       "      <td>충청북도</td>\n",
       "      <td>충주시</td>\n",
       "      <td>2027</td>\n",
       "      <td>0.177767</td>\n",
       "      <td>0.222646</td>\n",
       "      <td>0.298851</td>\n",
       "      <td>0.086942</td>\n",
       "      <td>0.248466</td>\n",
       "      <td>0.127184</td>\n",
       "      <td>0.205413</td>\n",
       "      <td>0.118651</td>\n",
       "      <td>163315.000000</td>\n",
       "      <td>충청북도 충주시</td>\n",
       "    </tr>\n",
       "    <tr>\n",
       "      <th>5101</th>\n",
       "      <td>4134.0</td>\n",
       "      <td>충청북도</td>\n",
       "      <td>충주시</td>\n",
       "      <td>2028</td>\n",
       "      <td>0.177849</td>\n",
       "      <td>0.222646</td>\n",
       "      <td>0.298851</td>\n",
       "      <td>0.081159</td>\n",
       "      <td>0.252524</td>\n",
       "      <td>0.127184</td>\n",
       "      <td>0.205413</td>\n",
       "      <td>0.118930</td>\n",
       "      <td>163963.000000</td>\n",
       "      <td>충청북도 충주시</td>\n",
       "    </tr>\n",
       "    <tr>\n",
       "      <th>5102</th>\n",
       "      <td>4357.0</td>\n",
       "      <td>충청북도</td>\n",
       "      <td>충주시</td>\n",
       "      <td>2029</td>\n",
       "      <td>0.177922</td>\n",
       "      <td>0.222646</td>\n",
       "      <td>0.298851</td>\n",
       "      <td>0.075376</td>\n",
       "      <td>0.255197</td>\n",
       "      <td>0.127184</td>\n",
       "      <td>0.205413</td>\n",
       "      <td>0.119172</td>\n",
       "      <td>164576.000000</td>\n",
       "      <td>충청북도 충주시</td>\n",
       "    </tr>\n",
       "  </tbody>\n",
       "</table>\n",
       "<p>2664 rows × 14 columns</p>\n",
       "</div>"
      ],
      "text/plain": [
       "      Unnamed: 0 행정구역(시도) 행정구역(시군구)    연도   총인구수(명)     유치원 수    초등학교 수  \\\n",
       "8         1887.0  강원특별자치도       강릉시  2018  0.159737  0.169380  0.287642   \n",
       "9         2110.0  강원특별자치도       강릉시  2019  0.159956  0.160546  0.278905   \n",
       "10        2333.0  강원특별자치도       강릉시  2020  0.159786  0.165372  0.286951   \n",
       "11        2556.0  강원특별자치도       강릉시  2021  0.159321  0.164661  0.286254   \n",
       "12        2779.0  강원특별자치도       강릉시  2022  0.158113  0.163202  0.294300   \n",
       "...          ...      ...       ...   ...       ...       ...       ...   \n",
       "5098      3465.0     충청북도       충주시  2025  0.177571  0.222646  0.310345   \n",
       "5099      3688.0     충청북도       충주시  2026  0.177675  0.222646  0.298851   \n",
       "5100      3911.0     충청북도       충주시  2027  0.177767  0.222646  0.298851   \n",
       "5101      4134.0     충청북도       충주시  2028  0.177849  0.222646  0.298851   \n",
       "5102      4357.0     충청북도       충주시  2029  0.177922  0.222646  0.298851   \n",
       "\n",
       "          출생건수      사망건수      혼인건수      이혼건수   학령인구(명)   총인구수-학령인구(명)  \\\n",
       "8     0.118261  0.126677  0.127294  0.177732  0.137056  141452.610739   \n",
       "9     0.112989  0.128424  0.128425  0.202090  0.132803  142526.336192   \n",
       "10    0.111543  0.128517  0.117525  0.171973  0.126133  143600.893858   \n",
       "11    0.106990  0.129205  0.116885  0.172939  0.121485  144026.862442   \n",
       "12    0.106473  0.157406  0.105503  0.166404  0.115787  143900.127727   \n",
       "...        ...       ...       ...       ...       ...            ...   \n",
       "5098  0.098508  0.233716  0.127184  0.205413  0.117970  161906.000000   \n",
       "5099  0.092725  0.242526  0.127331  0.205413  0.118335  162630.000000   \n",
       "5100  0.086942  0.248466  0.127184  0.205413  0.118651  163315.000000   \n",
       "5101  0.081159  0.252524  0.127184  0.205413  0.118930  163963.000000   \n",
       "5102  0.075376  0.255197  0.127184  0.205413  0.119172  164576.000000   \n",
       "\n",
       "             행정구역  \n",
       "8     강원특별자치도 강릉시  \n",
       "9     강원특별자치도 강릉시  \n",
       "10    강원특별자치도 강릉시  \n",
       "11    강원특별자치도 강릉시  \n",
       "12    강원특별자치도 강릉시  \n",
       "...           ...  \n",
       "5098     충청북도 충주시  \n",
       "5099     충청북도 충주시  \n",
       "5100     충청북도 충주시  \n",
       "5101     충청북도 충주시  \n",
       "5102     충청북도 충주시  \n",
       "\n",
       "[2664 rows x 14 columns]"
      ]
     },
     "execution_count": 157,
     "metadata": {},
     "output_type": "execute_result"
    }
   ],
   "source": [
    "prediction_df"
   ]
  },
  {
   "cell_type": "code",
   "execution_count": 158,
   "metadata": {
    "collapsed": false,
    "pycharm": {
     "name": "#%%\n"
    }
   },
   "outputs": [],
   "source": [
    "# 시퀀스 데이터 생성\n",
    "def create_sequence_data1(data, sequence_length):\n",
    "    sequences = []\n",
    "    regions = []\n",
    "    year = []\n",
    "    for region in data['행정구역'].unique().tolist():\n",
    "        temp_df = data[data['행정구역'] == region]\n",
    "        if len(temp_df) < sequence_length:\n",
    "            continue\n",
    "\n",
    "        year.extend([i for i in range(2021, 2031)])\n",
    "        temp_df = temp_df[use_cols]\n",
    "        for i in range(len(temp_df) - sequence_length+1):\n",
    "            regions.append(region)\n",
    "            seq = temp_df[i:i+sequence_length]\n",
    "            sequences.append(seq)\n",
    "    return np.array(sequences), np.array(regions), np.array(year)"
   ]
  },
  {
   "cell_type": "code",
   "execution_count": 159,
   "metadata": {
    "collapsed": false,
    "pycharm": {
     "name": "#%%\n"
    }
   },
   "outputs": [],
   "source": [
    "X_sequences, r, y = create_sequence_data1(prediction_df, sequence_length)"
   ]
  },
  {
   "cell_type": "code",
   "execution_count": 160,
   "metadata": {
    "collapsed": false,
    "pycharm": {
     "name": "#%%\n"
    }
   },
   "outputs": [
    {
     "data": {
      "text/plain": [
       "array([[[0.15973666, 0.16938042, 0.2876421 , ..., 0.12729441,\n",
       "         0.17773248, 0.13705632],\n",
       "        [0.1599558 , 0.16054578, 0.278905  , ..., 0.12842513,\n",
       "         0.20209043, 0.13280253],\n",
       "        [0.15978593, 0.16537197, 0.28695097, ..., 0.11752452,\n",
       "         0.17197342, 0.12613267],\n",
       "        [0.15932111, 0.16466083, 0.2862544 , ..., 0.11688535,\n",
       "         0.17293854, 0.12148509]],\n",
       "\n",
       "       [[0.1599558 , 0.16054578, 0.278905  , ..., 0.12842513,\n",
       "         0.20209043, 0.13280253],\n",
       "        [0.15978593, 0.16537197, 0.28695097, ..., 0.11752452,\n",
       "         0.17197342, 0.12613267],\n",
       "        [0.15932111, 0.16466083, 0.2862544 , ..., 0.11688535,\n",
       "         0.17293854, 0.12148509],\n",
       "        [0.15811268, 0.16320225, 0.29430037, ..., 0.10550334,\n",
       "         0.16640432, 0.1157874 ]],\n",
       "\n",
       "       [[0.15978593, 0.16537197, 0.28695097, ..., 0.11752452,\n",
       "         0.17197342, 0.12613267],\n",
       "        [0.15932111, 0.16466083, 0.2862544 , ..., 0.11688535,\n",
       "         0.17293854, 0.12148509],\n",
       "        [0.15811268, 0.16320225, 0.29430037, ..., 0.10550334,\n",
       "         0.16640432, 0.1157874 ],\n",
       "        [0.15775109, 0.16192426, 0.28735632, ..., 0.10224864,\n",
       "         0.17134199, 0.11602532]],\n",
       "\n",
       "       ...,\n",
       "\n",
       "       [[0.17745465, 0.22264586, 0.31034483, ..., 0.12747883,\n",
       "         0.20491909, 0.11754716],\n",
       "        [0.17757126, 0.22264586, 0.31034483, ..., 0.12718374,\n",
       "         0.20541287, 0.11796967],\n",
       "        [0.1776748 , 0.22264586, 0.29885057, ..., 0.12733128,\n",
       "         0.20541287, 0.11833475],\n",
       "        [0.17776728, 0.22264586, 0.29885057, ..., 0.12718374,\n",
       "         0.20541287, 0.1186506 ]],\n",
       "\n",
       "       [[0.17757126, 0.22264586, 0.31034483, ..., 0.12718374,\n",
       "         0.20541287, 0.11796967],\n",
       "        [0.1776748 , 0.22264586, 0.29885057, ..., 0.12733128,\n",
       "         0.20541287, 0.11833475],\n",
       "        [0.17776728, 0.22264586, 0.29885057, ..., 0.12718374,\n",
       "         0.20541287, 0.1186506 ],\n",
       "        [0.1778487 , 0.22264586, 0.29885057, ..., 0.12718374,\n",
       "         0.20541287, 0.11892954]],\n",
       "\n",
       "       [[0.1776748 , 0.22264586, 0.29885057, ..., 0.12733128,\n",
       "         0.20541287, 0.11833475],\n",
       "        [0.17776728, 0.22264586, 0.29885057, ..., 0.12718374,\n",
       "         0.20541287, 0.1186506 ],\n",
       "        [0.1778487 , 0.22264586, 0.29885057, ..., 0.12718374,\n",
       "         0.20541287, 0.11892954],\n",
       "        [0.17792208, 0.22264586, 0.29885057, ..., 0.12718374,\n",
       "         0.20541287, 0.11917156]]])"
      ]
     },
     "execution_count": 160,
     "metadata": {},
     "output_type": "execute_result"
    }
   ],
   "source": [
    "X_sequences"
   ]
  },
  {
   "cell_type": "code",
   "execution_count": 161,
   "metadata": {
    "collapsed": false,
    "pycharm": {
     "name": "#%%\n"
    }
   },
   "outputs": [
    {
     "data": {
      "text/plain": [
       "array(['강원특별자치도 강릉시', '강원특별자치도 강릉시', '강원특별자치도 강릉시', ..., '충청북도 충주시',\n",
       "       '충청북도 충주시', '충청북도 충주시'], dtype='<U12')"
      ]
     },
     "execution_count": 161,
     "metadata": {},
     "output_type": "execute_result"
    }
   ],
   "source": [
    "r"
   ]
  },
  {
   "cell_type": "code",
   "execution_count": 162,
   "metadata": {
    "collapsed": false,
    "pycharm": {
     "name": "#%%\n"
    }
   },
   "outputs": [
    {
     "data": {
      "text/plain": [
       "array([[0.1599558 , 0.16054578, 0.278905  , 0.11298924, 0.12842378,\n",
       "        0.12842513, 0.20209043, 0.13280253],\n",
       "       [0.15978593, 0.16537197, 0.28695097, 0.11154317, 0.12851738,\n",
       "        0.11752452, 0.17197342, 0.12613267],\n",
       "       [0.15932111, 0.16466083, 0.2862544 , 0.10698979, 0.12920474,\n",
       "        0.11688535, 0.17293854, 0.12148509],\n",
       "       [0.15811268, 0.16320225, 0.29430037, 0.10647303, 0.15740627,\n",
       "        0.10550334, 0.16640432, 0.1157874 ]])"
      ]
     },
     "execution_count": 162,
     "metadata": {},
     "output_type": "execute_result"
    }
   ],
   "source": [
    "X_sequences[1]"
   ]
  },
  {
   "cell_type": "code",
   "execution_count": 163,
   "metadata": {
    "collapsed": false,
    "pycharm": {
     "name": "#%%\n"
    }
   },
   "outputs": [
    {
     "name": "stdout",
     "output_type": "stream",
     "text": [
      " 1/63 [..............................] - ETA: 1s"
     ]
    },
    {
     "name": "stdout",
     "output_type": "stream",
     "text": [
      "63/63 [==============================] - 1s 8ms/step\n"
     ]
    }
   ],
   "source": [
    "# 예측\n",
    "predicted_data = model.predict(X_sequences)"
   ]
  },
  {
   "cell_type": "code",
   "execution_count": 164,
   "metadata": {
    "collapsed": false,
    "pycharm": {
     "name": "#%%\n"
    }
   },
   "outputs": [
    {
     "name": "stderr",
     "output_type": "stream",
     "text": [
      "/opt/homebrew/Caskroom/miniforge/base/envs/dataScience/lib/python3.11/site-packages/sklearn/utils/validation.py:767: FutureWarning: is_sparse is deprecated and will be removed in a future version. Check `isinstance(dtype, pd.SparseDtype)` instead.\n",
      "  if not hasattr(array, \"sparse\") and array.dtypes.apply(is_sparse).any():\n",
      "/opt/homebrew/Caskroom/miniforge/base/envs/dataScience/lib/python3.11/site-packages/sklearn/utils/validation.py:605: FutureWarning: is_sparse is deprecated and will be removed in a future version. Check `isinstance(dtype, pd.SparseDtype)` instead.\n",
      "  if is_sparse(pd_dtype):\n",
      "/opt/homebrew/Caskroom/miniforge/base/envs/dataScience/lib/python3.11/site-packages/sklearn/utils/validation.py:614: FutureWarning: is_sparse is deprecated and will be removed in a future version. Check `isinstance(dtype, pd.SparseDtype)` instead.\n",
      "  if is_sparse(pd_dtype) or not is_extension_array_dtype(pd_dtype):\n"
     ]
    }
   ],
   "source": [
    "predicted_data = invTransform(scaler, predicted_data, '학령인구(명)', use_cols).reshape(-1, 1)"
   ]
  },
  {
   "cell_type": "code",
   "execution_count": 165,
   "metadata": {
    "collapsed": false,
    "pycharm": {
     "name": "#%%\n"
    }
   },
   "outputs": [
    {
     "data": {
      "text/plain": [
       "array([[27404.],\n",
       "       [25887.],\n",
       "       [24830.],\n",
       "       ...,\n",
       "       [18220.],\n",
       "       [17555.],\n",
       "       [17123.]])"
      ]
     },
     "execution_count": 165,
     "metadata": {},
     "output_type": "execute_result"
    }
   ],
   "source": [
    "predicted_data.round()"
   ]
  },
  {
   "cell_type": "code",
   "execution_count": 166,
   "metadata": {
    "collapsed": false,
    "pycharm": {
     "name": "#%%\n"
    }
   },
   "outputs": [
    {
     "ename": "ValueError",
     "evalue": "All arrays must be of the same length",
     "output_type": "error",
     "traceback": [
      "\u001b[0;31m---------------------------------------------------------------------------\u001b[0m",
      "\u001b[0;31mValueError\u001b[0m                                Traceback (most recent call last)",
      "\u001b[1;32m/Users/yshong/study/dataScienceOpenning/Predicton-Population/lstm.ipynb 셀 35\u001b[0m line \u001b[0;36m1\n\u001b[0;32m----> <a href='vscode-notebook-cell:/Users/yshong/study/dataScienceOpenning/Predicton-Population/lstm.ipynb#X45sZmlsZQ%3D%3D?line=0'>1</a>\u001b[0m predicted_df \u001b[39m=\u001b[39m pd\u001b[39m.\u001b[39;49mDataFrame({\u001b[39m'\u001b[39;49m\u001b[39m연도\u001b[39;49m\u001b[39m'\u001b[39;49m: y, \u001b[39m'\u001b[39;49m\u001b[39m행정구역\u001b[39;49m\u001b[39m'\u001b[39;49m: r, \u001b[39m'\u001b[39;49m\u001b[39m학령인구(명)\u001b[39;49m\u001b[39m'\u001b[39;49m: predicted_data\u001b[39m.\u001b[39;49mround()\u001b[39m.\u001b[39;49mflatten()})\n",
      "File \u001b[0;32m/opt/homebrew/Caskroom/miniforge/base/envs/dataScience/lib/python3.11/site-packages/pandas/core/frame.py:736\u001b[0m, in \u001b[0;36mDataFrame.__init__\u001b[0;34m(self, data, index, columns, dtype, copy)\u001b[0m\n\u001b[1;32m    730\u001b[0m     mgr \u001b[39m=\u001b[39m \u001b[39mself\u001b[39m\u001b[39m.\u001b[39m_init_mgr(\n\u001b[1;32m    731\u001b[0m         data, axes\u001b[39m=\u001b[39m{\u001b[39m\"\u001b[39m\u001b[39mindex\u001b[39m\u001b[39m\"\u001b[39m: index, \u001b[39m\"\u001b[39m\u001b[39mcolumns\u001b[39m\u001b[39m\"\u001b[39m: columns}, dtype\u001b[39m=\u001b[39mdtype, copy\u001b[39m=\u001b[39mcopy\n\u001b[1;32m    732\u001b[0m     )\n\u001b[1;32m    734\u001b[0m \u001b[39melif\u001b[39;00m \u001b[39misinstance\u001b[39m(data, \u001b[39mdict\u001b[39m):\n\u001b[1;32m    735\u001b[0m     \u001b[39m# GH#38939 de facto copy defaults to False only in non-dict cases\u001b[39;00m\n\u001b[0;32m--> 736\u001b[0m     mgr \u001b[39m=\u001b[39m dict_to_mgr(data, index, columns, dtype\u001b[39m=\u001b[39;49mdtype, copy\u001b[39m=\u001b[39;49mcopy, typ\u001b[39m=\u001b[39;49mmanager)\n\u001b[1;32m    737\u001b[0m \u001b[39melif\u001b[39;00m \u001b[39misinstance\u001b[39m(data, ma\u001b[39m.\u001b[39mMaskedArray):\n\u001b[1;32m    738\u001b[0m     \u001b[39mfrom\u001b[39;00m \u001b[39mnumpy\u001b[39;00m\u001b[39m.\u001b[39;00m\u001b[39mma\u001b[39;00m \u001b[39mimport\u001b[39;00m mrecords\n",
      "File \u001b[0;32m/opt/homebrew/Caskroom/miniforge/base/envs/dataScience/lib/python3.11/site-packages/pandas/core/internals/construction.py:503\u001b[0m, in \u001b[0;36mdict_to_mgr\u001b[0;34m(data, index, columns, dtype, typ, copy)\u001b[0m\n\u001b[1;32m    499\u001b[0m     \u001b[39melse\u001b[39;00m:\n\u001b[1;32m    500\u001b[0m         \u001b[39m# dtype check to exclude e.g. range objects, scalars\u001b[39;00m\n\u001b[1;32m    501\u001b[0m         arrays \u001b[39m=\u001b[39m [x\u001b[39m.\u001b[39mcopy() \u001b[39mif\u001b[39;00m \u001b[39mhasattr\u001b[39m(x, \u001b[39m\"\u001b[39m\u001b[39mdtype\u001b[39m\u001b[39m\"\u001b[39m) \u001b[39melse\u001b[39;00m x \u001b[39mfor\u001b[39;00m x \u001b[39min\u001b[39;00m arrays]\n\u001b[0;32m--> 503\u001b[0m \u001b[39mreturn\u001b[39;00m arrays_to_mgr(arrays, columns, index, dtype\u001b[39m=\u001b[39;49mdtype, typ\u001b[39m=\u001b[39;49mtyp, consolidate\u001b[39m=\u001b[39;49mcopy)\n",
      "File \u001b[0;32m/opt/homebrew/Caskroom/miniforge/base/envs/dataScience/lib/python3.11/site-packages/pandas/core/internals/construction.py:114\u001b[0m, in \u001b[0;36marrays_to_mgr\u001b[0;34m(arrays, columns, index, dtype, verify_integrity, typ, consolidate)\u001b[0m\n\u001b[1;32m    111\u001b[0m \u001b[39mif\u001b[39;00m verify_integrity:\n\u001b[1;32m    112\u001b[0m     \u001b[39m# figure out the index, if necessary\u001b[39;00m\n\u001b[1;32m    113\u001b[0m     \u001b[39mif\u001b[39;00m index \u001b[39mis\u001b[39;00m \u001b[39mNone\u001b[39;00m:\n\u001b[0;32m--> 114\u001b[0m         index \u001b[39m=\u001b[39m _extract_index(arrays)\n\u001b[1;32m    115\u001b[0m     \u001b[39melse\u001b[39;00m:\n\u001b[1;32m    116\u001b[0m         index \u001b[39m=\u001b[39m ensure_index(index)\n",
      "File \u001b[0;32m/opt/homebrew/Caskroom/miniforge/base/envs/dataScience/lib/python3.11/site-packages/pandas/core/internals/construction.py:677\u001b[0m, in \u001b[0;36m_extract_index\u001b[0;34m(data)\u001b[0m\n\u001b[1;32m    675\u001b[0m lengths \u001b[39m=\u001b[39m \u001b[39mlist\u001b[39m(\u001b[39mset\u001b[39m(raw_lengths))\n\u001b[1;32m    676\u001b[0m \u001b[39mif\u001b[39;00m \u001b[39mlen\u001b[39m(lengths) \u001b[39m>\u001b[39m \u001b[39m1\u001b[39m:\n\u001b[0;32m--> 677\u001b[0m     \u001b[39mraise\u001b[39;00m \u001b[39mValueError\u001b[39;00m(\u001b[39m\"\u001b[39m\u001b[39mAll arrays must be of the same length\u001b[39m\u001b[39m\"\u001b[39m)\n\u001b[1;32m    679\u001b[0m \u001b[39mif\u001b[39;00m have_dicts:\n\u001b[1;32m    680\u001b[0m     \u001b[39mraise\u001b[39;00m \u001b[39mValueError\u001b[39;00m(\n\u001b[1;32m    681\u001b[0m         \u001b[39m\"\u001b[39m\u001b[39mMixing dicts with non-Series may lead to ambiguous ordering.\u001b[39m\u001b[39m\"\u001b[39m\n\u001b[1;32m    682\u001b[0m     )\n",
      "\u001b[0;31mValueError\u001b[0m: All arrays must be of the same length"
     ]
    }
   ],
   "source": [
    "predicted_df = pd.DataFrame({'연도': y, '행정구역': r, '학령인구(명)': predicted_data.round().flatten()})"
   ]
  },
  {
   "cell_type": "code",
   "execution_count": null,
   "metadata": {
    "collapsed": false,
    "pycharm": {
     "name": "#%%\n"
    }
   },
   "outputs": [
    {
     "data": {
      "text/html": [
       "<div>\n",
       "<style scoped>\n",
       "    .dataframe tbody tr th:only-of-type {\n",
       "        vertical-align: middle;\n",
       "    }\n",
       "\n",
       "    .dataframe tbody tr th {\n",
       "        vertical-align: top;\n",
       "    }\n",
       "\n",
       "    .dataframe thead th {\n",
       "        text-align: right;\n",
       "    }\n",
       "</style>\n",
       "<table border=\"1\" class=\"dataframe\">\n",
       "  <thead>\n",
       "    <tr style=\"text-align: right;\">\n",
       "      <th></th>\n",
       "      <th>연도</th>\n",
       "      <th>행정구역</th>\n",
       "      <th>학령인구(명)</th>\n",
       "    </tr>\n",
       "  </thead>\n",
       "  <tbody>\n",
       "    <tr>\n",
       "      <th>0</th>\n",
       "      <td>2021</td>\n",
       "      <td>강원특별자치도 강릉시</td>\n",
       "      <td>30480.0</td>\n",
       "    </tr>\n",
       "    <tr>\n",
       "      <th>1</th>\n",
       "      <td>2022</td>\n",
       "      <td>강원특별자치도 강릉시</td>\n",
       "      <td>29955.0</td>\n",
       "    </tr>\n",
       "    <tr>\n",
       "      <th>2</th>\n",
       "      <td>2023</td>\n",
       "      <td>강원특별자치도 강릉시</td>\n",
       "      <td>29629.0</td>\n",
       "    </tr>\n",
       "    <tr>\n",
       "      <th>3</th>\n",
       "      <td>2024</td>\n",
       "      <td>강원특별자치도 강릉시</td>\n",
       "      <td>29485.0</td>\n",
       "    </tr>\n",
       "    <tr>\n",
       "      <th>4</th>\n",
       "      <td>2025</td>\n",
       "      <td>강원특별자치도 강릉시</td>\n",
       "      <td>29407.0</td>\n",
       "    </tr>\n",
       "    <tr>\n",
       "      <th>...</th>\n",
       "      <td>...</td>\n",
       "      <td>...</td>\n",
       "      <td>...</td>\n",
       "    </tr>\n",
       "    <tr>\n",
       "      <th>2235</th>\n",
       "      <td>2026</td>\n",
       "      <td>충청북도 충주시</td>\n",
       "      <td>29059.0</td>\n",
       "    </tr>\n",
       "    <tr>\n",
       "      <th>2236</th>\n",
       "      <td>2027</td>\n",
       "      <td>충청북도 충주시</td>\n",
       "      <td>28959.0</td>\n",
       "    </tr>\n",
       "    <tr>\n",
       "      <th>2237</th>\n",
       "      <td>2028</td>\n",
       "      <td>충청북도 충주시</td>\n",
       "      <td>28838.0</td>\n",
       "    </tr>\n",
       "    <tr>\n",
       "      <th>2238</th>\n",
       "      <td>2029</td>\n",
       "      <td>충청북도 충주시</td>\n",
       "      <td>28736.0</td>\n",
       "    </tr>\n",
       "    <tr>\n",
       "      <th>2239</th>\n",
       "      <td>2030</td>\n",
       "      <td>충청북도 충주시</td>\n",
       "      <td>28618.0</td>\n",
       "    </tr>\n",
       "  </tbody>\n",
       "</table>\n",
       "<p>2240 rows × 3 columns</p>\n",
       "</div>"
      ],
      "text/plain": [
       "        연도         행정구역  학령인구(명)\n",
       "0     2021  강원특별자치도 강릉시  30480.0\n",
       "1     2022  강원특별자치도 강릉시  29955.0\n",
       "2     2023  강원특별자치도 강릉시  29629.0\n",
       "3     2024  강원특별자치도 강릉시  29485.0\n",
       "4     2025  강원특별자치도 강릉시  29407.0\n",
       "...    ...          ...      ...\n",
       "2235  2026     충청북도 충주시  29059.0\n",
       "2236  2027     충청북도 충주시  28959.0\n",
       "2237  2028     충청북도 충주시  28838.0\n",
       "2238  2029     충청북도 충주시  28736.0\n",
       "2239  2030     충청북도 충주시  28618.0\n",
       "\n",
       "[2240 rows x 3 columns]"
      ]
     },
     "execution_count": 61,
     "metadata": {},
     "output_type": "execute_result"
    }
   ],
   "source": [
    "predicted_df"
   ]
  },
  {
   "cell_type": "code",
   "execution_count": null,
   "metadata": {
    "collapsed": false,
    "pycharm": {
     "name": "#%%\n"
    }
   },
   "outputs": [],
   "source": [
    "predicted_df.to_csv('./data/predicted_school_age_population(2021-2030).csv', encoding='utf-8', index=False)"
   ]
  },
  {
   "cell_type": "code",
   "execution_count": null,
   "metadata": {
    "collapsed": false,
    "pycharm": {
     "name": "#%%\n"
    }
   },
   "outputs": [],
   "source": []
  }
 ],
 "metadata": {
  "kernelspec": {
   "display_name": "Python 3",
   "language": "python",
   "name": "python3"
  },
  "language_info": {
   "codemirror_mode": {
    "name": "ipython",
    "version": 3
   },
   "file_extension": ".py",
   "mimetype": "text/x-python",
   "name": "python",
   "nbconvert_exporter": "python",
   "pygments_lexer": "ipython3",
   "version": "3.11.6"
  }
 },
 "nbformat": 4,
 "nbformat_minor": 0
}
