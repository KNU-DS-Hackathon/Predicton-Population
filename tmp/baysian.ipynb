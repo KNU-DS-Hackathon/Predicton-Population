{
 "cells": [
  {
   "cell_type": "code",
   "execution_count": null,
   "metadata": {},
   "outputs": [],
   "source": [
    "import pymc3 as pm\n",
    "\n",
    "with pm.Model() as model:\n",
    "    # 사전 분포 정의\n",
    "    intercept = pm.Normal('Intercept', mu=0, sigma=10)\n",
    "    beta1 = pm.Normal('beta1', mu=0, sigma=10)\n",
    "    beta2 = pm.Normal('beta2', mu=0, sigma=10)\n",
    "    beta3 = pm.Normal('beta3', mu=0, sigma=10)\n",
    "    sigma = pm.HalfNormal('sigma', sigma=10)\n",
    "\n",
    "    # 가능도 정의\n",
    "    likelihood = pm.Normal('y', \n",
    "                           mu=intercept + beta1 * data['feature1'] + beta2 * data['feature2'] + beta3 * data['feature3'], \n",
    "                           sigma=sigma, \n",
    "                           observed=data['target'])\n",
    "\n",
    "    # MCMC를 사용한 사후 분포 추정\n",
    "    trace = pm.sample(1000, return_inferencedata=True)\n"
   ]
  }
 ],
 "metadata": {
  "language_info": {
   "name": "python"
  }
 },
 "nbformat": 4,
 "nbformat_minor": 2
}
