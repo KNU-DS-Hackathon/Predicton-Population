{
 "cells": [
  {
   "cell_type": "code",
   "execution_count": 1,
   "metadata": {},
   "outputs": [],
   "source": [
    "import numpy as np\n",
    "import pandas as pd\n",
    "from sklearn.model_selection import train_test_split\n",
    "from sklearn.metrics import mean_squared_error\n",
    "import matplotlib.pyplot as plt\n",
    "from sklearn.preprocessing import MinMaxScaler\n",
    "from tensorflow.keras.models import Sequential\n",
    "from tensorflow.keras.models import load_model\n",
    "from tensorflow.keras.layers import LSTM, Dense\n",
    "from keras.callbacks import EarlyStopping, ReduceLROnPlateau\n",
    "\n",
    "import os"
   ]
  },
  {
   "cell_type": "code",
   "execution_count": 19,
   "metadata": {},
   "outputs": [],
   "source": [
    "# 읽고자 하는 폴더의 경로\n",
    "folder_path = './makeDataset/dataset/processedData/'\n",
    "\n",
    "# 폴더 내의 모든 파일과 폴더 목록을 가져옴\n",
    "file_names = os.listdir(folder_path)\n",
    "\n",
    "result = dict()\n",
    "\n",
    "for file_name in file_names:\n",
    "    df = pd.read_csv(folder_path + file_name)\n",
    "    \n",
    "    df = df.drop(['행정구역(시도)','행정구역(시군구)','연도', '행정구역', 'Unnamed: 0', '총인구수-학령인구(명)'], axis=1)\n",
    "    \n",
    "    corrResult = df.corr()['학령인구(명)']\n",
    "    \n",
    "    result.update({file_name:corrResult})\n"
   ]
  },
  {
   "cell_type": "code",
   "execution_count": 35,
   "metadata": {},
   "outputs": [],
   "source": [
    "# result dictionary를 dataframe으로 변환\n",
    "\n",
    "result_df = pd.DataFrame(result)"
   ]
  },
  {
   "cell_type": "code",
   "execution_count": 36,
   "metadata": {},
   "outputs": [],
   "source": [
    "result_df = result_df.T"
   ]
  },
  {
   "cell_type": "code",
   "execution_count": 37,
   "metadata": {},
   "outputs": [
    {
     "data": {
      "text/html": [
       "<div>\n",
       "<style scoped>\n",
       "    .dataframe tbody tr th:only-of-type {\n",
       "        vertical-align: middle;\n",
       "    }\n",
       "\n",
       "    .dataframe tbody tr th {\n",
       "        vertical-align: top;\n",
       "    }\n",
       "\n",
       "    .dataframe thead th {\n",
       "        text-align: right;\n",
       "    }\n",
       "</style>\n",
       "<table border=\"1\" class=\"dataframe\">\n",
       "  <thead>\n",
       "    <tr style=\"text-align: right;\">\n",
       "      <th></th>\n",
       "      <th>총인구수(명)</th>\n",
       "      <th>유치원 수</th>\n",
       "      <th>초등학교 수</th>\n",
       "      <th>출생건수</th>\n",
       "      <th>사망건수</th>\n",
       "      <th>혼인건수</th>\n",
       "      <th>이혼건수</th>\n",
       "      <th>학령인구(명)</th>\n",
       "    </tr>\n",
       "  </thead>\n",
       "  <tbody>\n",
       "    <tr>\n",
       "      <th>76_0.3.csv</th>\n",
       "      <td>0.784826</td>\n",
       "      <td>0.805940</td>\n",
       "      <td>0.731358</td>\n",
       "      <td>0.763676</td>\n",
       "      <td>0.726729</td>\n",
       "      <td>0.755446</td>\n",
       "      <td>0.781019</td>\n",
       "      <td>1.0</td>\n",
       "    </tr>\n",
       "    <tr>\n",
       "      <th>66_0.3.csv</th>\n",
       "      <td>0.785396</td>\n",
       "      <td>0.802990</td>\n",
       "      <td>0.725554</td>\n",
       "      <td>0.765101</td>\n",
       "      <td>0.727829</td>\n",
       "      <td>0.757295</td>\n",
       "      <td>0.782574</td>\n",
       "      <td>1.0</td>\n",
       "    </tr>\n",
       "    <tr>\n",
       "      <th>6_0.6.csv</th>\n",
       "      <td>0.925205</td>\n",
       "      <td>0.851072</td>\n",
       "      <td>0.805365</td>\n",
       "      <td>0.911414</td>\n",
       "      <td>0.837669</td>\n",
       "      <td>0.913185</td>\n",
       "      <td>0.905101</td>\n",
       "      <td>1.0</td>\n",
       "    </tr>\n",
       "    <tr>\n",
       "      <th>41_0.4.csv</th>\n",
       "      <td>0.832888</td>\n",
       "      <td>0.811339</td>\n",
       "      <td>0.745193</td>\n",
       "      <td>0.813984</td>\n",
       "      <td>0.771053</td>\n",
       "      <td>0.808338</td>\n",
       "      <td>0.828386</td>\n",
       "      <td>1.0</td>\n",
       "    </tr>\n",
       "    <tr>\n",
       "      <th>51_0.4.csv</th>\n",
       "      <td>0.838864</td>\n",
       "      <td>0.832437</td>\n",
       "      <td>0.764632</td>\n",
       "      <td>0.819265</td>\n",
       "      <td>0.778887</td>\n",
       "      <td>0.811638</td>\n",
       "      <td>0.832565</td>\n",
       "      <td>1.0</td>\n",
       "    </tr>\n",
       "  </tbody>\n",
       "</table>\n",
       "</div>"
      ],
      "text/plain": [
       "             총인구수(명)     유치원 수    초등학교 수      출생건수      사망건수      혼인건수  \\\n",
       "76_0.3.csv  0.784826  0.805940  0.731358  0.763676  0.726729  0.755446   \n",
       "66_0.3.csv  0.785396  0.802990  0.725554  0.765101  0.727829  0.757295   \n",
       "6_0.6.csv   0.925205  0.851072  0.805365  0.911414  0.837669  0.913185   \n",
       "41_0.4.csv  0.832888  0.811339  0.745193  0.813984  0.771053  0.808338   \n",
       "51_0.4.csv  0.838864  0.832437  0.764632  0.819265  0.778887  0.811638   \n",
       "\n",
       "                이혼건수  학령인구(명)  \n",
       "76_0.3.csv  0.781019      1.0  \n",
       "66_0.3.csv  0.782574      1.0  \n",
       "6_0.6.csv   0.905101      1.0  \n",
       "41_0.4.csv  0.828386      1.0  \n",
       "51_0.4.csv  0.832565      1.0  "
      ]
     },
     "execution_count": 37,
     "metadata": {},
     "output_type": "execute_result"
    }
   ],
   "source": [
    "result_df.head()"
   ]
  },
  {
   "cell_type": "code",
   "execution_count": 41,
   "metadata": {},
   "outputs": [],
   "source": [
    "result_df['corr_avg'] = result_df.drop('학령인구(명)', axis=1).mean(axis=1)"
   ]
  },
  {
   "cell_type": "code",
   "execution_count": 42,
   "metadata": {},
   "outputs": [
    {
     "name": "stdout",
     "output_type": "stream",
     "text": [
      "<class 'pandas.core.frame.DataFrame'>\n",
      "Index: 288 entries, 76_0.3.csv to 11_0.3.csv\n",
      "Data columns (total 9 columns):\n",
      " #   Column    Non-Null Count  Dtype  \n",
      "---  ------    --------------  -----  \n",
      " 0   총인구수(명)   288 non-null    float64\n",
      " 1   유치원 수     288 non-null    float64\n",
      " 2   초등학교 수    288 non-null    float64\n",
      " 3   출생건수      288 non-null    float64\n",
      " 4   사망건수      288 non-null    float64\n",
      " 5   혼인건수      288 non-null    float64\n",
      " 6   이혼건수      288 non-null    float64\n",
      " 7   학령인구(명)   288 non-null    float64\n",
      " 8   corr_avg  288 non-null    float64\n",
      "dtypes: float64(9)\n",
      "memory usage: 30.6+ KB\n"
     ]
    }
   ],
   "source": [
    "result_df.info()"
   ]
  },
  {
   "cell_type": "code",
   "execution_count": 44,
   "metadata": {},
   "outputs": [
    {
     "data": {
      "text/html": [
       "<div>\n",
       "<style scoped>\n",
       "    .dataframe tbody tr th:only-of-type {\n",
       "        vertical-align: middle;\n",
       "    }\n",
       "\n",
       "    .dataframe tbody tr th {\n",
       "        vertical-align: top;\n",
       "    }\n",
       "\n",
       "    .dataframe thead th {\n",
       "        text-align: right;\n",
       "    }\n",
       "</style>\n",
       "<table border=\"1\" class=\"dataframe\">\n",
       "  <thead>\n",
       "    <tr style=\"text-align: right;\">\n",
       "      <th></th>\n",
       "      <th>총인구수(명)</th>\n",
       "      <th>유치원 수</th>\n",
       "      <th>초등학교 수</th>\n",
       "      <th>출생건수</th>\n",
       "      <th>사망건수</th>\n",
       "      <th>혼인건수</th>\n",
       "      <th>이혼건수</th>\n",
       "      <th>학령인구(명)</th>\n",
       "      <th>corr_avg</th>\n",
       "    </tr>\n",
       "  </thead>\n",
       "  <tbody>\n",
       "    <tr>\n",
       "      <th>76_0.3.csv</th>\n",
       "      <td>0.784826</td>\n",
       "      <td>0.805940</td>\n",
       "      <td>0.731358</td>\n",
       "      <td>0.763676</td>\n",
       "      <td>0.726729</td>\n",
       "      <td>0.755446</td>\n",
       "      <td>0.781019</td>\n",
       "      <td>1.0</td>\n",
       "      <td>0.764142</td>\n",
       "    </tr>\n",
       "    <tr>\n",
       "      <th>66_0.3.csv</th>\n",
       "      <td>0.785396</td>\n",
       "      <td>0.802990</td>\n",
       "      <td>0.725554</td>\n",
       "      <td>0.765101</td>\n",
       "      <td>0.727829</td>\n",
       "      <td>0.757295</td>\n",
       "      <td>0.782574</td>\n",
       "      <td>1.0</td>\n",
       "      <td>0.763820</td>\n",
       "    </tr>\n",
       "    <tr>\n",
       "      <th>6_0.6.csv</th>\n",
       "      <td>0.925205</td>\n",
       "      <td>0.851072</td>\n",
       "      <td>0.805365</td>\n",
       "      <td>0.911414</td>\n",
       "      <td>0.837669</td>\n",
       "      <td>0.913185</td>\n",
       "      <td>0.905101</td>\n",
       "      <td>1.0</td>\n",
       "      <td>0.878430</td>\n",
       "    </tr>\n",
       "    <tr>\n",
       "      <th>41_0.4.csv</th>\n",
       "      <td>0.832888</td>\n",
       "      <td>0.811339</td>\n",
       "      <td>0.745193</td>\n",
       "      <td>0.813984</td>\n",
       "      <td>0.771053</td>\n",
       "      <td>0.808338</td>\n",
       "      <td>0.828386</td>\n",
       "      <td>1.0</td>\n",
       "      <td>0.801597</td>\n",
       "    </tr>\n",
       "    <tr>\n",
       "      <th>51_0.4.csv</th>\n",
       "      <td>0.838864</td>\n",
       "      <td>0.832437</td>\n",
       "      <td>0.764632</td>\n",
       "      <td>0.819265</td>\n",
       "      <td>0.778887</td>\n",
       "      <td>0.811638</td>\n",
       "      <td>0.832565</td>\n",
       "      <td>1.0</td>\n",
       "      <td>0.811184</td>\n",
       "    </tr>\n",
       "  </tbody>\n",
       "</table>\n",
       "</div>"
      ],
      "text/plain": [
       "             총인구수(명)     유치원 수    초등학교 수      출생건수      사망건수      혼인건수  \\\n",
       "76_0.3.csv  0.784826  0.805940  0.731358  0.763676  0.726729  0.755446   \n",
       "66_0.3.csv  0.785396  0.802990  0.725554  0.765101  0.727829  0.757295   \n",
       "6_0.6.csv   0.925205  0.851072  0.805365  0.911414  0.837669  0.913185   \n",
       "41_0.4.csv  0.832888  0.811339  0.745193  0.813984  0.771053  0.808338   \n",
       "51_0.4.csv  0.838864  0.832437  0.764632  0.819265  0.778887  0.811638   \n",
       "\n",
       "                이혼건수  학령인구(명)  corr_avg  \n",
       "76_0.3.csv  0.781019      1.0  0.764142  \n",
       "66_0.3.csv  0.782574      1.0  0.763820  \n",
       "6_0.6.csv   0.905101      1.0  0.878430  \n",
       "41_0.4.csv  0.828386      1.0  0.801597  \n",
       "51_0.4.csv  0.832565      1.0  0.811184  "
      ]
     },
     "execution_count": 44,
     "metadata": {},
     "output_type": "execute_result"
    }
   ],
   "source": [
    "result_df.head()"
   ]
  },
  {
   "cell_type": "code",
   "execution_count": 45,
   "metadata": {},
   "outputs": [
    {
     "data": {
      "text/plain": [
       "'1_0.8.csv'"
      ]
     },
     "execution_count": 45,
     "metadata": {},
     "output_type": "execute_result"
    }
   ],
   "source": [
    "# 최대 corr_avg와 최소 corr_avg가 나오는 행을 구함\n",
    "\n",
    "result_df['corr_avg'].idxmax()"
   ]
  },
  {
   "cell_type": "code",
   "execution_count": 46,
   "metadata": {},
   "outputs": [
    {
     "data": {
      "text/plain": [
       "'31_0.1.csv'"
      ]
     },
     "execution_count": 46,
     "metadata": {},
     "output_type": "execute_result"
    }
   ],
   "source": [
    "result_df['corr_avg'].idxmin()"
   ]
  },
  {
   "cell_type": "code",
   "execution_count": 47,
   "metadata": {},
   "outputs": [
    {
     "data": {
      "text/plain": [
       "총인구수(명)     0.954494\n",
       "유치원 수       0.885702\n",
       "초등학교 수      0.847189\n",
       "출생건수        0.942204\n",
       "사망건수        0.867748\n",
       "혼인건수        0.941170\n",
       "이혼건수        0.937451\n",
       "학령인구(명)     1.000000\n",
       "corr_avg    0.910851\n",
       "Name: 1_0.8.csv, dtype: float64"
      ]
     },
     "execution_count": 47,
     "metadata": {},
     "output_type": "execute_result"
    }
   ],
   "source": [
    "result_df.loc['1_0.8.csv']"
   ]
  },
  {
   "cell_type": "code",
   "execution_count": 48,
   "metadata": {},
   "outputs": [],
   "source": [
    "rawDF = pd.read_csv('./makeDataset/dataset/no_NaN_dataset_final.csv')"
   ]
  },
  {
   "cell_type": "code",
   "execution_count": 51,
   "metadata": {},
   "outputs": [
    {
     "data": {
      "text/plain": [
       "총인구수(명)    0.979178\n",
       "유치원 수      0.905859\n",
       "초등학교 수     0.864143\n",
       "출생건수       0.963695\n",
       "사망건수       0.890953\n",
       "혼인건수       0.958059\n",
       "이혼건수       0.966135\n",
       "학령인구(명)    1.000000\n",
       "Name: 학령인구(명), dtype: float64"
      ]
     },
     "execution_count": 51,
     "metadata": {},
     "output_type": "execute_result"
    }
   ],
   "source": [
    "rawDF.drop(['행정구역(시도)','행정구역(시군구)','연도', '행정구역', '총인구수-학령인구(명)'], axis=1).corr()['학령인구(명)']"
   ]
  },
  {
   "cell_type": "code",
   "execution_count": null,
   "metadata": {},
   "outputs": [],
   "source": []
  }
 ],
 "metadata": {
  "kernelspec": {
   "display_name": "dataScience",
   "language": "python",
   "name": "python3"
  },
  "language_info": {
   "codemirror_mode": {
    "name": "ipython",
    "version": 3
   },
   "file_extension": ".py",
   "mimetype": "text/x-python",
   "name": "python",
   "nbconvert_exporter": "python",
   "pygments_lexer": "ipython3",
   "version": "3.11.6"
  }
 },
 "nbformat": 4,
 "nbformat_minor": 2
}
