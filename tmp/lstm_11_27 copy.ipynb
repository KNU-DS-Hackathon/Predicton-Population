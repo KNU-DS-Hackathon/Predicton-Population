{
 "cells": [
  {
   "cell_type": "code",
   "execution_count": 27,
   "metadata": {
    "collapsed": false,
    "pycharm": {
     "name": "#%%\n"
    }
   },
   "outputs": [],
   "source": [
    "import numpy as np\n",
    "import pandas as pd\n",
    "from sklearn.model_selection import train_test_split\n",
    "from sklearn.metrics import mean_squared_error\n",
    "import matplotlib.pyplot as plt\n",
    "from sklearn.preprocessing import MinMaxScaler\n",
    "from tensorflow.keras.models import Sequential\n",
    "from tensorflow.keras.layers import LSTM, Dense\n",
    "\n",
    "plt.rc('font', family='AppleGothic')"
   ]
  },
  {
   "cell_type": "code",
   "execution_count": 61,
   "metadata": {
    "collapsed": false,
    "pycharm": {
     "name": "#%%\n"
    }
   },
   "outputs": [],
   "source": [
    "df = pd.read_csv('./makeDataset/dataset/processedData/31_0.8.csv')\n",
    "df\n",
    "data = df\n",
    "use_cols = ['총인구수(명)', '유치원 수', '출생건수', '사망건수', '혼인건수', '이혼건수', '학령인구(명)']"
   ]
  },
  {
   "cell_type": "code",
   "execution_count": 62,
   "metadata": {
    "collapsed": false,
    "pycharm": {
     "name": "#%%\n"
    }
   },
   "outputs": [
    {
     "data": {
      "text/html": [
       "<div>\n",
       "<style scoped>\n",
       "    .dataframe tbody tr th:only-of-type {\n",
       "        vertical-align: middle;\n",
       "    }\n",
       "\n",
       "    .dataframe tbody tr th {\n",
       "        vertical-align: top;\n",
       "    }\n",
       "\n",
       "    .dataframe thead th {\n",
       "        text-align: right;\n",
       "    }\n",
       "</style>\n",
       "<table border=\"1\" class=\"dataframe\">\n",
       "  <thead>\n",
       "    <tr style=\"text-align: right;\">\n",
       "      <th></th>\n",
       "      <th>행정구역(시도)</th>\n",
       "      <th>행정구역(시군구)</th>\n",
       "      <th>연도</th>\n",
       "      <th>총인구수(명)</th>\n",
       "      <th>유치원 수</th>\n",
       "      <th>초등학교 수</th>\n",
       "      <th>출생건수</th>\n",
       "      <th>사망건수</th>\n",
       "      <th>혼인건수</th>\n",
       "      <th>이혼건수</th>\n",
       "      <th>학령인구(명)</th>\n",
       "      <th>총인구수-학령인구(명)</th>\n",
       "      <th>행정구역</th>\n",
       "    </tr>\n",
       "  </thead>\n",
       "  <tbody>\n",
       "    <tr>\n",
       "      <th>0</th>\n",
       "      <td>서울특별시</td>\n",
       "      <td>종로구</td>\n",
       "      <td>2010</td>\n",
       "      <td>212578.440599</td>\n",
       "      <td>21.442605</td>\n",
       "      <td>16.129821</td>\n",
       "      <td>1588.378087</td>\n",
       "      <td>985.320450</td>\n",
       "      <td>1324.571165</td>\n",
       "      <td>485.090779</td>\n",
       "      <td>29164</td>\n",
       "      <td>175066.084329</td>\n",
       "      <td>서울특별시 종로구</td>\n",
       "    </tr>\n",
       "    <tr>\n",
       "      <th>1</th>\n",
       "      <td>서울특별시</td>\n",
       "      <td>중구</td>\n",
       "      <td>2010</td>\n",
       "      <td>183843.149349</td>\n",
       "      <td>18.423046</td>\n",
       "      <td>14.631716</td>\n",
       "      <td>1644.967317</td>\n",
       "      <td>844.969726</td>\n",
       "      <td>1359.302603</td>\n",
       "      <td>471.841074</td>\n",
       "      <td>19628</td>\n",
       "      <td>153625.741021</td>\n",
       "      <td>서울특별시 중구</td>\n",
       "    </tr>\n",
       "    <tr>\n",
       "      <th>2</th>\n",
       "      <td>서울특별시</td>\n",
       "      <td>용산구</td>\n",
       "      <td>2010</td>\n",
       "      <td>275855.647548</td>\n",
       "      <td>23.476621</td>\n",
       "      <td>17.187879</td>\n",
       "      <td>2597.790536</td>\n",
       "      <td>1179.482840</td>\n",
       "      <td>1973.791681</td>\n",
       "      <td>596.083716</td>\n",
       "      <td>37318</td>\n",
       "      <td>230932.033815</td>\n",
       "      <td>서울특별시 용산구</td>\n",
       "    </tr>\n",
       "    <tr>\n",
       "      <th>3</th>\n",
       "      <td>서울특별시</td>\n",
       "      <td>성동구</td>\n",
       "      <td>2010</td>\n",
       "      <td>326063.730303</td>\n",
       "      <td>32.928679</td>\n",
       "      <td>21.056024</td>\n",
       "      <td>3022.010963</td>\n",
       "      <td>1296.846556</td>\n",
       "      <td>2368.527386</td>\n",
       "      <td>712.493262</td>\n",
       "      <td>51562</td>\n",
       "      <td>270121.710326</td>\n",
       "      <td>서울특별시 성동구</td>\n",
       "    </tr>\n",
       "    <tr>\n",
       "      <th>4</th>\n",
       "      <td>서울특별시</td>\n",
       "      <td>광진구</td>\n",
       "      <td>2010</td>\n",
       "      <td>385969.004529</td>\n",
       "      <td>42.114773</td>\n",
       "      <td>23.076967</td>\n",
       "      <td>3492.096293</td>\n",
       "      <td>1356.494357</td>\n",
       "      <td>2715.029681</td>\n",
       "      <td>831.841669</td>\n",
       "      <td>67422</td>\n",
       "      <td>315593.048191</td>\n",
       "      <td>서울특별시 광진구</td>\n",
       "    </tr>\n",
       "  </tbody>\n",
       "</table>\n",
       "</div>"
      ],
      "text/plain": [
       "  행정구역(시도) 행정구역(시군구)    연도        총인구수(명)      유치원 수     초등학교 수         출생건수  \\\n",
       "0    서울특별시       종로구  2010  212578.440599  21.442605  16.129821  1588.378087   \n",
       "1    서울특별시        중구  2010  183843.149349  18.423046  14.631716  1644.967317   \n",
       "2    서울특별시       용산구  2010  275855.647548  23.476621  17.187879  2597.790536   \n",
       "3    서울특별시       성동구  2010  326063.730303  32.928679  21.056024  3022.010963   \n",
       "4    서울특별시       광진구  2010  385969.004529  42.114773  23.076967  3492.096293   \n",
       "\n",
       "          사망건수         혼인건수        이혼건수  학령인구(명)   총인구수-학령인구(명)       행정구역  \n",
       "0   985.320450  1324.571165  485.090779    29164  175066.084329  서울특별시 종로구  \n",
       "1   844.969726  1359.302603  471.841074    19628  153625.741021   서울특별시 중구  \n",
       "2  1179.482840  1973.791681  596.083716    37318  230932.033815  서울특별시 용산구  \n",
       "3  1296.846556  2368.527386  712.493262    51562  270121.710326  서울특별시 성동구  \n",
       "4  1356.494357  2715.029681  831.841669    67422  315593.048191  서울특별시 광진구  "
      ]
     },
     "execution_count": 62,
     "metadata": {},
     "output_type": "execute_result"
    }
   ],
   "source": [
    "df = df.drop(['Unnamed: 0'], axis=1)\n",
    "df.head()"
   ]
  },
  {
   "cell_type": "code",
   "execution_count": 63,
   "metadata": {
    "collapsed": false,
    "pycharm": {
     "name": "#%%\n"
    }
   },
   "outputs": [
    {
     "data": {
      "text/plain": [
       "행정구역\n",
       "서울특별시 종로구       13\n",
       "전라북도 장수군        13\n",
       "충청남도 예산군        13\n",
       "충청남도 태안군        13\n",
       "전라북도 전주시        13\n",
       "                ..\n",
       "경기도 동두천시        13\n",
       "경기도 안산시         13\n",
       "경기도 고양시         13\n",
       "경기도 과천시         13\n",
       "제주특별자치도 서귀포시    13\n",
       "Name: count, Length: 223, dtype: int64"
      ]
     },
     "execution_count": 63,
     "metadata": {},
     "output_type": "execute_result"
    }
   ],
   "source": [
    "df['행정구역'].value_counts()"
   ]
  },
  {
   "cell_type": "code",
   "execution_count": 64,
   "metadata": {
    "collapsed": false,
    "pycharm": {
     "name": "#%%\n"
    }
   },
   "outputs": [
    {
     "name": "stderr",
     "output_type": "stream",
     "text": [
      "/opt/homebrew/Caskroom/miniforge/base/envs/dataScience/lib/python3.11/site-packages/sklearn/utils/validation.py:767: FutureWarning: is_sparse is deprecated and will be removed in a future version. Check `isinstance(dtype, pd.SparseDtype)` instead.\n",
      "  if not hasattr(array, \"sparse\") and array.dtypes.apply(is_sparse).any():\n",
      "/opt/homebrew/Caskroom/miniforge/base/envs/dataScience/lib/python3.11/site-packages/sklearn/utils/validation.py:605: FutureWarning: is_sparse is deprecated and will be removed in a future version. Check `isinstance(dtype, pd.SparseDtype)` instead.\n",
      "  if is_sparse(pd_dtype):\n",
      "/opt/homebrew/Caskroom/miniforge/base/envs/dataScience/lib/python3.11/site-packages/sklearn/utils/validation.py:614: FutureWarning: is_sparse is deprecated and will be removed in a future version. Check `isinstance(dtype, pd.SparseDtype)` instead.\n",
      "  if is_sparse(pd_dtype) or not is_extension_array_dtype(pd_dtype):\n",
      "/opt/homebrew/Caskroom/miniforge/base/envs/dataScience/lib/python3.11/site-packages/sklearn/utils/validation.py:767: FutureWarning: is_sparse is deprecated and will be removed in a future version. Check `isinstance(dtype, pd.SparseDtype)` instead.\n",
      "  if not hasattr(array, \"sparse\") and array.dtypes.apply(is_sparse).any():\n",
      "/opt/homebrew/Caskroom/miniforge/base/envs/dataScience/lib/python3.11/site-packages/sklearn/utils/validation.py:605: FutureWarning: is_sparse is deprecated and will be removed in a future version. Check `isinstance(dtype, pd.SparseDtype)` instead.\n",
      "  if is_sparse(pd_dtype):\n",
      "/opt/homebrew/Caskroom/miniforge/base/envs/dataScience/lib/python3.11/site-packages/sklearn/utils/validation.py:614: FutureWarning: is_sparse is deprecated and will be removed in a future version. Check `isinstance(dtype, pd.SparseDtype)` instead.\n",
      "  if is_sparse(pd_dtype) or not is_extension_array_dtype(pd_dtype):\n"
     ]
    }
   ],
   "source": [
    "# 데이터 전처리\n",
    "scaler = MinMaxScaler()\n",
    "df[use_cols] = scaler.fit_transform(df[use_cols])"
   ]
  },
  {
   "cell_type": "code",
   "execution_count": 65,
   "metadata": {
    "collapsed": false,
    "pycharm": {
     "name": "#%%\n"
    }
   },
   "outputs": [
    {
     "name": "stdout",
     "output_type": "stream",
     "text": [
      "     행정구역(시도) 행정구역(시군구)    연도   총인구수(명)     유치원 수     초등학교 수      출생건수  \\\n",
      "0       서울특별시       종로구  2010  0.197333  0.095390  16.129821  0.150142   \n",
      "1       서울특별시        중구  2010  0.169498  0.076738  14.631716  0.155559   \n",
      "2       서울특별시       용산구  2010  0.258629  0.107954  17.187879  0.246773   \n",
      "3       서울특별시       성동구  2010  0.307265  0.166340  21.056024  0.287384   \n",
      "4       서울특별시       광진구  2010  0.365295  0.223084  23.076967  0.332386   \n",
      "...       ...       ...   ...       ...       ...        ...       ...   \n",
      "2671     경상남도       함양군  2021  0.029430  0.039872  13.433378  0.008448   \n",
      "2672     경상남도       거창군  2021  0.045402  0.055905  16.063477  0.015353   \n",
      "2673     경상남도       합천군  2021  0.037443  0.057750  16.678551  0.011316   \n",
      "2674  제주특별자치도       제주시  2021  0.409119  0.403981  63.400000  0.235459   \n",
      "2675  제주특별자치도      서귀포시  2021  0.229272  0.281675  49.600000  0.117595   \n",
      "\n",
      "          사망건수      혼인건수      이혼건수   학령인구(명)   총인구수-학령인구(명)          행정구역  \n",
      "0     0.163830  0.181343  0.216548  0.116964  175066.084329     서울특별시 종로구  \n",
      "1     0.139034  0.186212  0.210392  0.077754  153625.741021      서울특별시 중구  \n",
      "2     0.198132  0.272356  0.268116  0.150492  230932.033815     서울특별시 용산구  \n",
      "3     0.218867  0.327693  0.322200  0.209060  270121.710326     서울특별시 성동구  \n",
      "4     0.229405  0.376269  0.377650  0.274273  315593.048191     서울특별시 광진구  \n",
      "...        ...       ...       ...       ...            ...           ...  \n",
      "2671  0.093742  0.006023  0.026379  0.015144   34696.206699      경상남도 함양군  \n",
      "2672  0.108500  0.013072  0.043528  0.034021   47862.492130      경상남도 거창군  \n",
      "2673  0.120529  0.009258  0.032690  0.011908   42879.407008      경상남도 합천군  \n",
      "2674  0.445208  0.232852  0.427065  0.352866  356271.400000   제주특별자치도 제주시  \n",
      "2675  0.281435  0.131496  0.247541  0.114423  205405.600000  제주특별자치도 서귀포시  \n",
      "\n",
      "[2676 rows x 13 columns]\n"
     ]
    }
   ],
   "source": [
    "# 연도가 2013부터 2020까지인 데이터 추출\n",
    "filtered_df = df[(df['연도'] >= 2010) & (df['연도'] <= 2021)]\n",
    "\n",
    "# 결과 출력\n",
    "print(filtered_df)"
   ]
  },
  {
   "cell_type": "code",
   "execution_count": 66,
   "metadata": {
    "collapsed": false,
    "pycharm": {
     "name": "#%%\n"
    }
   },
   "outputs": [
    {
     "data": {
      "text/html": [
       "<div>\n",
       "<style scoped>\n",
       "    .dataframe tbody tr th:only-of-type {\n",
       "        vertical-align: middle;\n",
       "    }\n",
       "\n",
       "    .dataframe tbody tr th {\n",
       "        vertical-align: top;\n",
       "    }\n",
       "\n",
       "    .dataframe thead th {\n",
       "        text-align: right;\n",
       "    }\n",
       "</style>\n",
       "<table border=\"1\" class=\"dataframe\">\n",
       "  <thead>\n",
       "    <tr style=\"text-align: right;\">\n",
       "      <th></th>\n",
       "      <th>행정구역(시도)</th>\n",
       "      <th>행정구역(시군구)</th>\n",
       "      <th>연도</th>\n",
       "      <th>총인구수(명)</th>\n",
       "      <th>유치원 수</th>\n",
       "      <th>초등학교 수</th>\n",
       "      <th>출생건수</th>\n",
       "      <th>사망건수</th>\n",
       "      <th>혼인건수</th>\n",
       "      <th>이혼건수</th>\n",
       "      <th>학령인구(명)</th>\n",
       "      <th>총인구수-학령인구(명)</th>\n",
       "      <th>행정구역</th>\n",
       "    </tr>\n",
       "  </thead>\n",
       "  <tbody>\n",
       "    <tr>\n",
       "      <th>0</th>\n",
       "      <td>서울특별시</td>\n",
       "      <td>종로구</td>\n",
       "      <td>2010</td>\n",
       "      <td>0.197333</td>\n",
       "      <td>0.095390</td>\n",
       "      <td>16.129821</td>\n",
       "      <td>0.150142</td>\n",
       "      <td>0.163830</td>\n",
       "      <td>0.181343</td>\n",
       "      <td>0.216548</td>\n",
       "      <td>0.116964</td>\n",
       "      <td>175066.084329</td>\n",
       "      <td>서울특별시 종로구</td>\n",
       "    </tr>\n",
       "    <tr>\n",
       "      <th>1</th>\n",
       "      <td>서울특별시</td>\n",
       "      <td>중구</td>\n",
       "      <td>2010</td>\n",
       "      <td>0.169498</td>\n",
       "      <td>0.076738</td>\n",
       "      <td>14.631716</td>\n",
       "      <td>0.155559</td>\n",
       "      <td>0.139034</td>\n",
       "      <td>0.186212</td>\n",
       "      <td>0.210392</td>\n",
       "      <td>0.077754</td>\n",
       "      <td>153625.741021</td>\n",
       "      <td>서울특별시 중구</td>\n",
       "    </tr>\n",
       "    <tr>\n",
       "      <th>2</th>\n",
       "      <td>서울특별시</td>\n",
       "      <td>용산구</td>\n",
       "      <td>2010</td>\n",
       "      <td>0.258629</td>\n",
       "      <td>0.107954</td>\n",
       "      <td>17.187879</td>\n",
       "      <td>0.246773</td>\n",
       "      <td>0.198132</td>\n",
       "      <td>0.272356</td>\n",
       "      <td>0.268116</td>\n",
       "      <td>0.150492</td>\n",
       "      <td>230932.033815</td>\n",
       "      <td>서울특별시 용산구</td>\n",
       "    </tr>\n",
       "    <tr>\n",
       "      <th>3</th>\n",
       "      <td>서울특별시</td>\n",
       "      <td>성동구</td>\n",
       "      <td>2010</td>\n",
       "      <td>0.307265</td>\n",
       "      <td>0.166340</td>\n",
       "      <td>21.056024</td>\n",
       "      <td>0.287384</td>\n",
       "      <td>0.218867</td>\n",
       "      <td>0.327693</td>\n",
       "      <td>0.322200</td>\n",
       "      <td>0.209060</td>\n",
       "      <td>270121.710326</td>\n",
       "      <td>서울특별시 성동구</td>\n",
       "    </tr>\n",
       "    <tr>\n",
       "      <th>4</th>\n",
       "      <td>서울특별시</td>\n",
       "      <td>광진구</td>\n",
       "      <td>2010</td>\n",
       "      <td>0.365295</td>\n",
       "      <td>0.223084</td>\n",
       "      <td>23.076967</td>\n",
       "      <td>0.332386</td>\n",
       "      <td>0.229405</td>\n",
       "      <td>0.376269</td>\n",
       "      <td>0.377650</td>\n",
       "      <td>0.274273</td>\n",
       "      <td>315593.048191</td>\n",
       "      <td>서울특별시 광진구</td>\n",
       "    </tr>\n",
       "    <tr>\n",
       "      <th>...</th>\n",
       "      <td>...</td>\n",
       "      <td>...</td>\n",
       "      <td>...</td>\n",
       "      <td>...</td>\n",
       "      <td>...</td>\n",
       "      <td>...</td>\n",
       "      <td>...</td>\n",
       "      <td>...</td>\n",
       "      <td>...</td>\n",
       "      <td>...</td>\n",
       "      <td>...</td>\n",
       "      <td>...</td>\n",
       "      <td>...</td>\n",
       "    </tr>\n",
       "    <tr>\n",
       "      <th>2671</th>\n",
       "      <td>경상남도</td>\n",
       "      <td>함양군</td>\n",
       "      <td>2021</td>\n",
       "      <td>0.029430</td>\n",
       "      <td>0.039872</td>\n",
       "      <td>13.433378</td>\n",
       "      <td>0.008448</td>\n",
       "      <td>0.093742</td>\n",
       "      <td>0.006023</td>\n",
       "      <td>0.026379</td>\n",
       "      <td>0.015144</td>\n",
       "      <td>34696.206699</td>\n",
       "      <td>경상남도 함양군</td>\n",
       "    </tr>\n",
       "    <tr>\n",
       "      <th>2672</th>\n",
       "      <td>경상남도</td>\n",
       "      <td>거창군</td>\n",
       "      <td>2021</td>\n",
       "      <td>0.045402</td>\n",
       "      <td>0.055905</td>\n",
       "      <td>16.063477</td>\n",
       "      <td>0.015353</td>\n",
       "      <td>0.108500</td>\n",
       "      <td>0.013072</td>\n",
       "      <td>0.043528</td>\n",
       "      <td>0.034021</td>\n",
       "      <td>47862.492130</td>\n",
       "      <td>경상남도 거창군</td>\n",
       "    </tr>\n",
       "    <tr>\n",
       "      <th>2673</th>\n",
       "      <td>경상남도</td>\n",
       "      <td>합천군</td>\n",
       "      <td>2021</td>\n",
       "      <td>0.037443</td>\n",
       "      <td>0.057750</td>\n",
       "      <td>16.678551</td>\n",
       "      <td>0.011316</td>\n",
       "      <td>0.120529</td>\n",
       "      <td>0.009258</td>\n",
       "      <td>0.032690</td>\n",
       "      <td>0.011908</td>\n",
       "      <td>42879.407008</td>\n",
       "      <td>경상남도 합천군</td>\n",
       "    </tr>\n",
       "    <tr>\n",
       "      <th>2674</th>\n",
       "      <td>제주특별자치도</td>\n",
       "      <td>제주시</td>\n",
       "      <td>2021</td>\n",
       "      <td>0.409119</td>\n",
       "      <td>0.403981</td>\n",
       "      <td>63.400000</td>\n",
       "      <td>0.235459</td>\n",
       "      <td>0.445208</td>\n",
       "      <td>0.232852</td>\n",
       "      <td>0.427065</td>\n",
       "      <td>0.352866</td>\n",
       "      <td>356271.400000</td>\n",
       "      <td>제주특별자치도 제주시</td>\n",
       "    </tr>\n",
       "    <tr>\n",
       "      <th>2675</th>\n",
       "      <td>제주특별자치도</td>\n",
       "      <td>서귀포시</td>\n",
       "      <td>2021</td>\n",
       "      <td>0.229272</td>\n",
       "      <td>0.281675</td>\n",
       "      <td>49.600000</td>\n",
       "      <td>0.117595</td>\n",
       "      <td>0.281435</td>\n",
       "      <td>0.131496</td>\n",
       "      <td>0.247541</td>\n",
       "      <td>0.114423</td>\n",
       "      <td>205405.600000</td>\n",
       "      <td>제주특별자치도 서귀포시</td>\n",
       "    </tr>\n",
       "  </tbody>\n",
       "</table>\n",
       "<p>2676 rows × 13 columns</p>\n",
       "</div>"
      ],
      "text/plain": [
       "     행정구역(시도) 행정구역(시군구)    연도   총인구수(명)     유치원 수     초등학교 수      출생건수  \\\n",
       "0       서울특별시       종로구  2010  0.197333  0.095390  16.129821  0.150142   \n",
       "1       서울특별시        중구  2010  0.169498  0.076738  14.631716  0.155559   \n",
       "2       서울특별시       용산구  2010  0.258629  0.107954  17.187879  0.246773   \n",
       "3       서울특별시       성동구  2010  0.307265  0.166340  21.056024  0.287384   \n",
       "4       서울특별시       광진구  2010  0.365295  0.223084  23.076967  0.332386   \n",
       "...       ...       ...   ...       ...       ...        ...       ...   \n",
       "2671     경상남도       함양군  2021  0.029430  0.039872  13.433378  0.008448   \n",
       "2672     경상남도       거창군  2021  0.045402  0.055905  16.063477  0.015353   \n",
       "2673     경상남도       합천군  2021  0.037443  0.057750  16.678551  0.011316   \n",
       "2674  제주특별자치도       제주시  2021  0.409119  0.403981  63.400000  0.235459   \n",
       "2675  제주특별자치도      서귀포시  2021  0.229272  0.281675  49.600000  0.117595   \n",
       "\n",
       "          사망건수      혼인건수      이혼건수   학령인구(명)   총인구수-학령인구(명)          행정구역  \n",
       "0     0.163830  0.181343  0.216548  0.116964  175066.084329     서울특별시 종로구  \n",
       "1     0.139034  0.186212  0.210392  0.077754  153625.741021      서울특별시 중구  \n",
       "2     0.198132  0.272356  0.268116  0.150492  230932.033815     서울특별시 용산구  \n",
       "3     0.218867  0.327693  0.322200  0.209060  270121.710326     서울특별시 성동구  \n",
       "4     0.229405  0.376269  0.377650  0.274273  315593.048191     서울특별시 광진구  \n",
       "...        ...       ...       ...       ...            ...           ...  \n",
       "2671  0.093742  0.006023  0.026379  0.015144   34696.206699      경상남도 함양군  \n",
       "2672  0.108500  0.013072  0.043528  0.034021   47862.492130      경상남도 거창군  \n",
       "2673  0.120529  0.009258  0.032690  0.011908   42879.407008      경상남도 합천군  \n",
       "2674  0.445208  0.232852  0.427065  0.352866  356271.400000   제주특별자치도 제주시  \n",
       "2675  0.281435  0.131496  0.247541  0.114423  205405.600000  제주특별자치도 서귀포시  \n",
       "\n",
       "[2676 rows x 13 columns]"
      ]
     },
     "execution_count": 66,
     "metadata": {},
     "output_type": "execute_result"
    }
   ],
   "source": [
    "filtered_df"
   ]
  },
  {
   "cell_type": "code",
   "execution_count": 68,
   "metadata": {
    "collapsed": false,
    "pycharm": {
     "name": "#%%\n"
    }
   },
   "outputs": [],
   "source": [
    "# 시퀀스 데이터 생성\n",
    "def create_sequence_data(data, sequence_length):\n",
    "    sequences = []\n",
    "    for region in data['행정구역'].unique().tolist():\n",
    "        temp_df = data[data['행정구역'] == region]\n",
    "        if len(temp_df) < sequence_length:\n",
    "            continue\n",
    "\n",
    "        temp_df = temp_df[use_cols]\n",
    "        for i in range(len(temp_df) - sequence_length):\n",
    "            seq = temp_df[i:i+sequence_length+1]\n",
    "            sequences.append(seq)\n",
    "    return np.array(sequences)"
   ]
  },
  {
   "cell_type": "code",
   "execution_count": 69,
   "metadata": {
    "collapsed": false,
    "pycharm": {
     "name": "#%%\n"
    }
   },
   "outputs": [],
   "source": [
    "sequence_length = 3  # 시퀀스 길이\n",
    "sequences = create_sequence_data(filtered_df, sequence_length)"
   ]
  },
  {
   "cell_type": "code",
   "execution_count": 70,
   "metadata": {
    "collapsed": false,
    "pycharm": {
     "name": "#%%\n"
    }
   },
   "outputs": [
    {
     "data": {
      "text/plain": [
       "(2007, 4, 7)"
      ]
     },
     "execution_count": 70,
     "metadata": {},
     "output_type": "execute_result"
    }
   ],
   "source": [
    "sequences.shape"
   ]
  },
  {
   "cell_type": "code",
   "execution_count": 71,
   "metadata": {
    "collapsed": false,
    "pycharm": {
     "name": "#%%\n"
    }
   },
   "outputs": [],
   "source": [
    "# 데이터셋 분리\n",
    "X = sequences[:, :-1]\n",
    "y = sequences[:, -1][:, -1]"
   ]
  },
  {
   "cell_type": "code",
   "execution_count": 72,
   "metadata": {
    "collapsed": false,
    "pycharm": {
     "name": "#%%\n"
    }
   },
   "outputs": [],
   "source": [
    "# 훈련/검증 데이터셋 분리\n",
    "X_train, X_test, y_train, y_test = train_test_split(X, y, test_size=0.2, shuffle=False)"
   ]
  },
  {
   "cell_type": "code",
   "execution_count": 73,
   "metadata": {
    "collapsed": false,
    "pycharm": {
     "name": "#%%\n"
    }
   },
   "outputs": [],
   "source": [
    "def invTransform(scaler, data, colName, colNames):\n",
    "    dummy = pd.DataFrame(np.zeros((len(data), len(colNames))), columns=colNames)\n",
    "    dummy[colName] = data\n",
    "    dummy = pd.DataFrame(scaler.inverse_transform(dummy), columns=colNames)\n",
    "    return dummy[colName].values"
   ]
  },
  {
   "cell_type": "code",
   "execution_count": 74,
   "metadata": {
    "collapsed": false,
    "pycharm": {
     "name": "#%%\n"
    }
   },
   "outputs": [],
   "source": [
    "# MAPE 계산 함수\n",
    "def calculate_mape(y_true, y_pred):\n",
    "    return np.mean(np.abs((y_true - y_pred) / y_true)) * 100"
   ]
  },
  {
   "cell_type": "code",
   "execution_count": 75,
   "metadata": {
    "collapsed": false,
    "pycharm": {
     "name": "#%%\n"
    }
   },
   "outputs": [],
   "source": [
    "prediction_df = df[df['연도'].isin([i for i in range(2019, 2023)])]"
   ]
  },
  {
   "cell_type": "code",
   "execution_count": 76,
   "metadata": {
    "collapsed": false,
    "pycharm": {
     "name": "#%%\n"
    }
   },
   "outputs": [
    {
     "data": {
      "text/html": [
       "<div>\n",
       "<style scoped>\n",
       "    .dataframe tbody tr th:only-of-type {\n",
       "        vertical-align: middle;\n",
       "    }\n",
       "\n",
       "    .dataframe tbody tr th {\n",
       "        vertical-align: top;\n",
       "    }\n",
       "\n",
       "    .dataframe thead th {\n",
       "        text-align: right;\n",
       "    }\n",
       "</style>\n",
       "<table border=\"1\" class=\"dataframe\">\n",
       "  <thead>\n",
       "    <tr style=\"text-align: right;\">\n",
       "      <th></th>\n",
       "      <th>행정구역(시도)</th>\n",
       "      <th>행정구역(시군구)</th>\n",
       "      <th>연도</th>\n",
       "      <th>총인구수(명)</th>\n",
       "      <th>유치원 수</th>\n",
       "      <th>초등학교 수</th>\n",
       "      <th>출생건수</th>\n",
       "      <th>사망건수</th>\n",
       "      <th>혼인건수</th>\n",
       "      <th>이혼건수</th>\n",
       "      <th>학령인구(명)</th>\n",
       "      <th>총인구수-학령인구(명)</th>\n",
       "      <th>행정구역</th>\n",
       "    </tr>\n",
       "  </thead>\n",
       "  <tbody>\n",
       "    <tr>\n",
       "      <th>2007</th>\n",
       "      <td>서울특별시</td>\n",
       "      <td>종로구</td>\n",
       "      <td>2019</td>\n",
       "      <td>0.180944</td>\n",
       "      <td>0.096013</td>\n",
       "      <td>15.624091</td>\n",
       "      <td>0.090377</td>\n",
       "      <td>0.171169</td>\n",
       "      <td>0.112533</td>\n",
       "      <td>0.151951</td>\n",
       "      <td>0.076697</td>\n",
       "      <td>169465.363600</td>\n",
       "      <td>서울특별시 종로구</td>\n",
       "    </tr>\n",
       "    <tr>\n",
       "      <th>2008</th>\n",
       "      <td>서울특별시</td>\n",
       "      <td>중구</td>\n",
       "      <td>2019</td>\n",
       "      <td>0.162695</td>\n",
       "      <td>0.082192</td>\n",
       "      <td>14.909673</td>\n",
       "      <td>0.099192</td>\n",
       "      <td>0.145327</td>\n",
       "      <td>0.127460</td>\n",
       "      <td>0.141452</td>\n",
       "      <td>0.049806</td>\n",
       "      <td>155565.278298</td>\n",
       "      <td>서울특별시 중구</td>\n",
       "    </tr>\n",
       "    <tr>\n",
       "      <th>2009</th>\n",
       "      <td>서울특별시</td>\n",
       "      <td>용산구</td>\n",
       "      <td>2019</td>\n",
       "      <td>0.245324</td>\n",
       "      <td>0.080499</td>\n",
       "      <td>17.542308</td>\n",
       "      <td>0.142511</td>\n",
       "      <td>0.208910</td>\n",
       "      <td>0.195805</td>\n",
       "      <td>0.197073</td>\n",
       "      <td>0.108666</td>\n",
       "      <td>228872.646025</td>\n",
       "      <td>서울특별시 용산구</td>\n",
       "    </tr>\n",
       "    <tr>\n",
       "      <th>2010</th>\n",
       "      <td>서울특별시</td>\n",
       "      <td>성동구</td>\n",
       "      <td>2019</td>\n",
       "      <td>0.299138</td>\n",
       "      <td>0.161376</td>\n",
       "      <td>22.134323</td>\n",
       "      <td>0.207204</td>\n",
       "      <td>0.246095</td>\n",
       "      <td>0.243891</td>\n",
       "      <td>0.254050</td>\n",
       "      <td>0.149069</td>\n",
       "      <td>276971.482367</td>\n",
       "      <td>서울특별시 성동구</td>\n",
       "    </tr>\n",
       "    <tr>\n",
       "      <th>2011</th>\n",
       "      <td>서울특별시</td>\n",
       "      <td>광진구</td>\n",
       "      <td>2019</td>\n",
       "      <td>0.345574</td>\n",
       "      <td>0.180692</td>\n",
       "      <td>23.486902</td>\n",
       "      <td>0.195017</td>\n",
       "      <td>0.250800</td>\n",
       "      <td>0.264893</td>\n",
       "      <td>0.282864</td>\n",
       "      <td>0.185660</td>\n",
       "      <td>316310.353186</td>\n",
       "      <td>서울특별시 광진구</td>\n",
       "    </tr>\n",
       "    <tr>\n",
       "      <th>...</th>\n",
       "      <td>...</td>\n",
       "      <td>...</td>\n",
       "      <td>...</td>\n",
       "      <td>...</td>\n",
       "      <td>...</td>\n",
       "      <td>...</td>\n",
       "      <td>...</td>\n",
       "      <td>...</td>\n",
       "      <td>...</td>\n",
       "      <td>...</td>\n",
       "      <td>...</td>\n",
       "      <td>...</td>\n",
       "      <td>...</td>\n",
       "    </tr>\n",
       "    <tr>\n",
       "      <th>2894</th>\n",
       "      <td>경상남도</td>\n",
       "      <td>함양군</td>\n",
       "      <td>2022</td>\n",
       "      <td>0.028842</td>\n",
       "      <td>0.039699</td>\n",
       "      <td>13.433378</td>\n",
       "      <td>0.006182</td>\n",
       "      <td>0.108013</td>\n",
       "      <td>0.008640</td>\n",
       "      <td>0.020021</td>\n",
       "      <td>0.014050</td>\n",
       "      <td>34356.247460</td>\n",
       "      <td>경상남도 함양군</td>\n",
       "    </tr>\n",
       "    <tr>\n",
       "      <th>2895</th>\n",
       "      <td>경상남도</td>\n",
       "      <td>거창군</td>\n",
       "      <td>2022</td>\n",
       "      <td>0.044776</td>\n",
       "      <td>0.055680</td>\n",
       "      <td>16.063477</td>\n",
       "      <td>0.012975</td>\n",
       "      <td>0.125601</td>\n",
       "      <td>0.016003</td>\n",
       "      <td>0.031581</td>\n",
       "      <td>0.032195</td>\n",
       "      <td>47610.710977</td>\n",
       "      <td>경상남도 거창군</td>\n",
       "    </tr>\n",
       "    <tr>\n",
       "      <th>2896</th>\n",
       "      <td>경상남도</td>\n",
       "      <td>합천군</td>\n",
       "      <td>2022</td>\n",
       "      <td>0.036731</td>\n",
       "      <td>0.057304</td>\n",
       "      <td>16.678551</td>\n",
       "      <td>0.011296</td>\n",
       "      <td>0.143985</td>\n",
       "      <td>0.011113</td>\n",
       "      <td>0.028399</td>\n",
       "      <td>0.010966</td>\n",
       "      <td>42373.986459</td>\n",
       "      <td>경상남도 합천군</td>\n",
       "    </tr>\n",
       "    <tr>\n",
       "      <th>2897</th>\n",
       "      <td>제주특별자치도</td>\n",
       "      <td>제주시</td>\n",
       "      <td>2022</td>\n",
       "      <td>0.409560</td>\n",
       "      <td>0.384214</td>\n",
       "      <td>64.200000</td>\n",
       "      <td>0.225867</td>\n",
       "      <td>0.507361</td>\n",
       "      <td>0.242946</td>\n",
       "      <td>0.443698</td>\n",
       "      <td>0.343861</td>\n",
       "      <td>358553.600000</td>\n",
       "      <td>제주특별자치도 제주시</td>\n",
       "    </tr>\n",
       "    <tr>\n",
       "      <th>2898</th>\n",
       "      <td>제주특별자치도</td>\n",
       "      <td>서귀포시</td>\n",
       "      <td>2022</td>\n",
       "      <td>0.230187</td>\n",
       "      <td>0.276733</td>\n",
       "      <td>49.800000</td>\n",
       "      <td>0.114838</td>\n",
       "      <td>0.321221</td>\n",
       "      <td>0.129393</td>\n",
       "      <td>0.265289</td>\n",
       "      <td>0.112893</td>\n",
       "      <td>207085.400000</td>\n",
       "      <td>제주특별자치도 서귀포시</td>\n",
       "    </tr>\n",
       "  </tbody>\n",
       "</table>\n",
       "<p>892 rows × 13 columns</p>\n",
       "</div>"
      ],
      "text/plain": [
       "     행정구역(시도) 행정구역(시군구)    연도   총인구수(명)     유치원 수     초등학교 수      출생건수  \\\n",
       "2007    서울특별시       종로구  2019  0.180944  0.096013  15.624091  0.090377   \n",
       "2008    서울특별시        중구  2019  0.162695  0.082192  14.909673  0.099192   \n",
       "2009    서울특별시       용산구  2019  0.245324  0.080499  17.542308  0.142511   \n",
       "2010    서울특별시       성동구  2019  0.299138  0.161376  22.134323  0.207204   \n",
       "2011    서울특별시       광진구  2019  0.345574  0.180692  23.486902  0.195017   \n",
       "...       ...       ...   ...       ...       ...        ...       ...   \n",
       "2894     경상남도       함양군  2022  0.028842  0.039699  13.433378  0.006182   \n",
       "2895     경상남도       거창군  2022  0.044776  0.055680  16.063477  0.012975   \n",
       "2896     경상남도       합천군  2022  0.036731  0.057304  16.678551  0.011296   \n",
       "2897  제주특별자치도       제주시  2022  0.409560  0.384214  64.200000  0.225867   \n",
       "2898  제주특별자치도      서귀포시  2022  0.230187  0.276733  49.800000  0.114838   \n",
       "\n",
       "          사망건수      혼인건수      이혼건수   학령인구(명)   총인구수-학령인구(명)          행정구역  \n",
       "2007  0.171169  0.112533  0.151951  0.076697  169465.363600     서울특별시 종로구  \n",
       "2008  0.145327  0.127460  0.141452  0.049806  155565.278298      서울특별시 중구  \n",
       "2009  0.208910  0.195805  0.197073  0.108666  228872.646025     서울특별시 용산구  \n",
       "2010  0.246095  0.243891  0.254050  0.149069  276971.482367     서울특별시 성동구  \n",
       "2011  0.250800  0.264893  0.282864  0.185660  316310.353186     서울특별시 광진구  \n",
       "...        ...       ...       ...       ...            ...           ...  \n",
       "2894  0.108013  0.008640  0.020021  0.014050   34356.247460      경상남도 함양군  \n",
       "2895  0.125601  0.016003  0.031581  0.032195   47610.710977      경상남도 거창군  \n",
       "2896  0.143985  0.011113  0.028399  0.010966   42373.986459      경상남도 합천군  \n",
       "2897  0.507361  0.242946  0.443698  0.343861  358553.600000   제주특별자치도 제주시  \n",
       "2898  0.321221  0.129393  0.265289  0.112893  207085.400000  제주특별자치도 서귀포시  \n",
       "\n",
       "[892 rows x 13 columns]"
      ]
     },
     "execution_count": 76,
     "metadata": {},
     "output_type": "execute_result"
    }
   ],
   "source": [
    "prediction_df"
   ]
  },
  {
   "cell_type": "code",
   "execution_count": 77,
   "metadata": {
    "collapsed": false,
    "pycharm": {
     "name": "#%%\n"
    }
   },
   "outputs": [],
   "source": [
    "predict_sequences = create_sequence_data(prediction_df, sequence_length)"
   ]
  },
  {
   "cell_type": "code",
   "execution_count": 78,
   "metadata": {
    "collapsed": false,
    "pycharm": {
     "name": "#%%\n"
    }
   },
   "outputs": [
    {
     "data": {
      "text/plain": [
       "array([[[0.18094357, 0.09601254, 0.090377  , ..., 0.11253341,\n",
       "         0.15195109, 0.07669724],\n",
       "        [0.17927245, 0.09456216, 0.07524318, ..., 0.10556596,\n",
       "         0.15334   , 0.07237575],\n",
       "        [0.17486437, 0.08926164, 0.07382473, ..., 0.08950867,\n",
       "         0.1254377 , 0.06836676],\n",
       "        [0.1718843 , 0.08904231, 0.06731446, ..., 0.0893154 ,\n",
       "         0.1196204 , 0.0646867 ]],\n",
       "\n",
       "       [[0.1626953 , 0.08219157, 0.09919176, ..., 0.12745986,\n",
       "         0.14145235, 0.04980613],\n",
       "        [0.16172052, 0.08071151, 0.08777363, ..., 0.11561669,\n",
       "         0.15027197, 0.04750353],\n",
       "        [0.1587832 , 0.08023942, 0.08169532, ..., 0.10205104,\n",
       "         0.1361821 , 0.0447733 ],\n",
       "        [0.15673189, 0.07995573, 0.07688445, ..., 0.09231204,\n",
       "         0.11864769, 0.04228977]],\n",
       "\n",
       "       [[0.24532372, 0.08049875, 0.14251123, ..., 0.19580464,\n",
       "         0.19707325, 0.10866642],\n",
       "        [0.24621503, 0.07902295, 0.12744748, ..., 0.17726575,\n",
       "         0.19027533, 0.1055538 ],\n",
       "        [0.24003263, 0.07861535, 0.13037635, ..., 0.15031407,\n",
       "         0.18335441, 0.09938611],\n",
       "        [0.23629718, 0.07835498, 0.11910754, ..., 0.14394447,\n",
       "         0.15721878, 0.0943615 ]],\n",
       "\n",
       "       ...,\n",
       "\n",
       "       [[0.03935444, 0.05815941, 0.01706188, ..., 0.01735473,\n",
       "         0.03987933, 0.01470377],\n",
       "        [0.03834318, 0.05789153, 0.01346141, ..., 0.01122702,\n",
       "         0.03515911, 0.01340444],\n",
       "        [0.03744252, 0.05774955, 0.01131592, ..., 0.00925815,\n",
       "         0.03268968, 0.01190775],\n",
       "        [0.03673113, 0.05730373, 0.01129576, ..., 0.01111251,\n",
       "         0.02839929, 0.01096615]],\n",
       "\n",
       "       [[0.40585581, 0.40768683, 0.28062456, ..., 0.29646951,\n",
       "         0.49629083, 0.36162794],\n",
       "        [0.40834127, 0.40398058, 0.25108211, ..., 0.26545993,\n",
       "         0.50614045, 0.35797256],\n",
       "        [0.40911894, 0.40398058, 0.23545888, ..., 0.23285221,\n",
       "         0.42706472, 0.35286571],\n",
       "        [0.40956047, 0.38421395, 0.22586668, ..., 0.24294575,\n",
       "         0.44369757, 0.34386089]],\n",
       "\n",
       "       [[0.2269459 , 0.27796829, 0.14633373, ..., 0.16559003,\n",
       "         0.283316  , 0.11412277],\n",
       "        [0.22799228, 0.28167453, 0.12695787, ..., 0.14374874,\n",
       "         0.28647531, 0.11389662],\n",
       "        [0.22927211, 0.28167453, 0.11759542, ..., 0.13149631,\n",
       "         0.24754143, 0.11442293],\n",
       "        [0.23018675, 0.27673288, 0.11483838, ..., 0.12939349,\n",
       "         0.26528933, 0.11289334]]])"
      ]
     },
     "execution_count": 78,
     "metadata": {},
     "output_type": "execute_result"
    }
   ],
   "source": [
    "predict_sequences"
   ]
  },
  {
   "cell_type": "code",
   "execution_count": 79,
   "metadata": {
    "collapsed": false,
    "pycharm": {
     "name": "#%%\n"
    }
   },
   "outputs": [],
   "source": [
    "# 데이터셋 분리\n",
    "predict_X = predict_sequences[:, :-1]\n",
    "predict_y = predict_sequences[:, -1][:, -1]"
   ]
  },
  {
   "cell_type": "code",
   "execution_count": 80,
   "metadata": {
    "collapsed": false,
    "pycharm": {
     "name": "#%%\n"
    }
   },
   "outputs": [
    {
     "data": {
      "text/plain": [
       "array([[[0.18094357, 0.09601254, 0.090377  , ..., 0.11253341,\n",
       "         0.15195109, 0.07669724],\n",
       "        [0.17927245, 0.09456216, 0.07524318, ..., 0.10556596,\n",
       "         0.15334   , 0.07237575],\n",
       "        [0.17486437, 0.08926164, 0.07382473, ..., 0.08950867,\n",
       "         0.1254377 , 0.06836676]],\n",
       "\n",
       "       [[0.1626953 , 0.08219157, 0.09919176, ..., 0.12745986,\n",
       "         0.14145235, 0.04980613],\n",
       "        [0.16172052, 0.08071151, 0.08777363, ..., 0.11561669,\n",
       "         0.15027197, 0.04750353],\n",
       "        [0.1587832 , 0.08023942, 0.08169532, ..., 0.10205104,\n",
       "         0.1361821 , 0.0447733 ]],\n",
       "\n",
       "       [[0.24532372, 0.08049875, 0.14251123, ..., 0.19580464,\n",
       "         0.19707325, 0.10866642],\n",
       "        [0.24621503, 0.07902295, 0.12744748, ..., 0.17726575,\n",
       "         0.19027533, 0.1055538 ],\n",
       "        [0.24003263, 0.07861535, 0.13037635, ..., 0.15031407,\n",
       "         0.18335441, 0.09938611]],\n",
       "\n",
       "       ...,\n",
       "\n",
       "       [[0.03935444, 0.05815941, 0.01706188, ..., 0.01735473,\n",
       "         0.03987933, 0.01470377],\n",
       "        [0.03834318, 0.05789153, 0.01346141, ..., 0.01122702,\n",
       "         0.03515911, 0.01340444],\n",
       "        [0.03744252, 0.05774955, 0.01131592, ..., 0.00925815,\n",
       "         0.03268968, 0.01190775]],\n",
       "\n",
       "       [[0.40585581, 0.40768683, 0.28062456, ..., 0.29646951,\n",
       "         0.49629083, 0.36162794],\n",
       "        [0.40834127, 0.40398058, 0.25108211, ..., 0.26545993,\n",
       "         0.50614045, 0.35797256],\n",
       "        [0.40911894, 0.40398058, 0.23545888, ..., 0.23285221,\n",
       "         0.42706472, 0.35286571]],\n",
       "\n",
       "       [[0.2269459 , 0.27796829, 0.14633373, ..., 0.16559003,\n",
       "         0.283316  , 0.11412277],\n",
       "        [0.22799228, 0.28167453, 0.12695787, ..., 0.14374874,\n",
       "         0.28647531, 0.11389662],\n",
       "        [0.22927211, 0.28167453, 0.11759542, ..., 0.13149631,\n",
       "         0.24754143, 0.11442293]]])"
      ]
     },
     "execution_count": 80,
     "metadata": {},
     "output_type": "execute_result"
    }
   ],
   "source": [
    "predict_X"
   ]
  },
  {
   "cell_type": "code",
   "execution_count": 81,
   "metadata": {
    "collapsed": false,
    "pycharm": {
     "name": "#%%\n"
    }
   },
   "outputs": [
    {
     "data": {
      "text/plain": [
       "array([0.0646867 , 0.04228977, 0.0943615 , 0.12830434, 0.15947583,\n",
       "       0.15883439, 0.16461557, 0.24233665, 0.12972702, 0.15108777,\n",
       "       0.30837202, 0.23509578, 0.15474316, 0.18207835, 0.29678088,\n",
       "       0.28152613, 0.18906017, 0.08767162, 0.16144538, 0.18147802,\n",
       "       0.18175351, 0.27697027, 0.3614059 , 0.38045172, 0.25540803,\n",
       "       0.009416  , 0.04527905, 0.028873  , 0.04217464, 0.16244865,\n",
       "       0.1642414 , 0.14601382, 0.14327948, 0.23125537, 0.15606715,\n",
       "       0.10859652, 0.09932032, 0.10466976, 0.07429596, 0.09146269,\n",
       "       0.12256839, 0.03697734, 0.06128214, 0.2704243 , 0.29997574,\n",
       "       0.3362623 , 0.1716344 , 0.08852687, 0.02713782, 0.28344634,\n",
       "       0.30803074, 0.2613249 , 0.15410583, 0.39705514, 0.0252135 ,\n",
       "       0.00473267, 0.05073539, 0.18616547, 0.14384691, 0.26654688,\n",
       "       0.32210129, 0.12451738, 0.12817687, 0.3070398 , 0.24994757,\n",
       "       0.09525787, 0.12212843, 0.18612435, 0.10066076, 0.16010904,\n",
       "       0.13690209, 0.75345699, 0.54618158, 0.2699021 , 0.32085953,\n",
       "       0.43146672, 0.18372717, 0.36621259, 0.04946896, 0.38226091,\n",
       "       0.6552633 , 0.04884808, 0.10927497, 0.51244845, 0.16300786,\n",
       "       0.33941604, 0.15727191, 0.09089115, 0.2082869 , 0.78011373,\n",
       "       0.33542349, 0.14093165, 0.11126507, 0.34596202, 0.69734337,\n",
       "       0.23134172, 0.16022417, 0.07005259, 0.01661986, 0.02522584,\n",
       "       0.0595963 , 0.17186877, 0.22430233, 0.1136787 , 0.0513645 ,\n",
       "       0.01901292, 0.04362611, 0.0304067 , 0.02767236, 0.01776705,\n",
       "       0.01400476, 0.01409933, 0.01190775, 0.01962558, 0.00857309,\n",
       "       0.00912407, 0.01277122, 0.00794809, 0.00838394, 0.55555647,\n",
       "       0.11440648, 0.07161096, 0.00959281, 0.0202259 , 0.01654585,\n",
       "       0.05191548, 0.00909939, 0.04409896, 0.00791931, 0.0192843 ,\n",
       "       0.44702162, 0.04953064, 0.04682508, 0.23993947, 0.10871988,\n",
       "       0.05567777, 0.03535729, 0.02137309, 0.0243048 , 0.01733531,\n",
       "       0.00968738, 0.05696065, 0.03116738, 0.02332208, 0.44891305,\n",
       "       0.16478415, 0.1666509 , 0.05365065, 0.0399625 , 0.03463773,\n",
       "       0.05078062, 0.00667344, 0.00791931, 0.0067639 , 0.00681735,\n",
       "       0.00976139, 0.0211305 , 0.01918562, 0.14899898, 0.1620128 ,\n",
       "       0.1859681 , 0.06323113, 0.0986501 , 0.01614289, 0.00802622,\n",
       "       0.00779596, 0.01910749, 0.01186252, 0.03059173, 0.01320707,\n",
       "       0.01157058, 0.02773403, 0.02403342, 0.06175911, 0.00896371,\n",
       "       0.02209677, 0.01715028, 0.01923496, 0.01031648, 0.00932965,\n",
       "       0.29806787, 0.12721883, 0.07614626, 0.08251954, 0.29030892,\n",
       "       0.05120414, 0.03914014, 0.04296   , 0.03137297, 0.15399892,\n",
       "       0.00266033, 0.01064543, 0.0042187 , 0.00268089, 0.00937488,\n",
       "       0.0104275 , 0.00869233, 0.0104604 , 0.06987578, 0.0274791 ,\n",
       "       0.00788642, 0.01904171, 0.        , 0.63488526, 0.22215598,\n",
       "       0.0754966 , 0.06170565, 0.38457174, 0.04409896, 0.18216469,\n",
       "       0.23272739, 0.0059292 , 0.03179648, 0.0213402 , 0.0213772 ,\n",
       "       0.01393075, 0.01284112, 0.00909939, 0.01404999, 0.03219533,\n",
       "       0.01096615, 0.34386089, 0.11289334])"
      ]
     },
     "execution_count": 81,
     "metadata": {},
     "output_type": "execute_result"
    }
   ],
   "source": [
    "predict_y"
   ]
  },
  {
   "cell_type": "code",
   "execution_count": 82,
   "metadata": {
    "collapsed": false,
    "pycharm": {
     "name": "#%%\n"
    }
   },
   "outputs": [
    {
     "name": "stdout",
     "output_type": "stream",
     "text": [
      "WARNING:tensorflow:Layer lstm_5 will not use cuDNN kernels since it doesn't meet the criteria. It will use a generic GPU kernel as fallback when running on GPU.\n"
     ]
    },
    {
     "name": "stderr",
     "output_type": "stream",
     "text": [
      "WARNING:tensorflow:Layer lstm_5 will not use cuDNN kernels since it doesn't meet the criteria. It will use a generic GPU kernel as fallback when running on GPU.\n"
     ]
    }
   ],
   "source": [
    "from tensorflow.keras.models import load_model\n",
    "\n",
    "# Load the best model\n",
    "best_model = load_model('best_model.h5')"
   ]
  },
  {
   "cell_type": "code",
   "execution_count": 84,
   "metadata": {
    "collapsed": false,
    "pycharm": {
     "name": "#%%\n"
    }
   },
   "outputs": [
    {
     "ename": "ValueError",
     "evalue": "in user code:\n\n    File \"/opt/homebrew/Caskroom/miniforge/base/envs/dataScience/lib/python3.11/site-packages/keras/src/engine/training.py\", line 2440, in predict_function  *\n        return step_function(self, iterator)\n    File \"/opt/homebrew/Caskroom/miniforge/base/envs/dataScience/lib/python3.11/site-packages/keras/src/engine/training.py\", line 2425, in step_function  **\n        outputs = model.distribute_strategy.run(run_step, args=(data,))\n    File \"/opt/homebrew/Caskroom/miniforge/base/envs/dataScience/lib/python3.11/site-packages/keras/src/engine/training.py\", line 2413, in run_step  **\n        outputs = model.predict_step(data)\n    File \"/opt/homebrew/Caskroom/miniforge/base/envs/dataScience/lib/python3.11/site-packages/keras/src/engine/training.py\", line 2381, in predict_step\n        return self(x, training=False)\n    File \"/opt/homebrew/Caskroom/miniforge/base/envs/dataScience/lib/python3.11/site-packages/keras/src/utils/traceback_utils.py\", line 70, in error_handler\n        raise e.with_traceback(filtered_tb) from None\n    File \"/opt/homebrew/Caskroom/miniforge/base/envs/dataScience/lib/python3.11/site-packages/keras/src/engine/input_spec.py\", line 298, in assert_input_compatibility\n        raise ValueError(\n\n    ValueError: Input 0 of layer \"sequential_5\" is incompatible with the layer: expected shape=(None, 3, 8), found shape=(None, 3, 7)\n",
     "output_type": "error",
     "traceback": [
      "\u001b[0;31m---------------------------------------------------------------------------\u001b[0m",
      "\u001b[0;31mValueError\u001b[0m                                Traceback (most recent call last)",
      "\u001b[1;32m/Users/yshong/study/dataScienceOpenning/Predicton-Population/lstm_11_27 copy.ipynb 셀 23\u001b[0m line \u001b[0;36m2\n\u001b[1;32m      <a href='vscode-notebook-cell:/Users/yshong/study/dataScienceOpenning/Predicton-Population/lstm_11_27%20copy.ipynb#X33sZmlsZQ%3D%3D?line=0'>1</a>\u001b[0m \u001b[39m# 예측\u001b[39;00m\n\u001b[0;32m----> <a href='vscode-notebook-cell:/Users/yshong/study/dataScienceOpenning/Predicton-Population/lstm_11_27%20copy.ipynb#X33sZmlsZQ%3D%3D?line=1'>2</a>\u001b[0m predicted_data \u001b[39m=\u001b[39m best_model\u001b[39m.\u001b[39;49mpredict(predict_X)\n\u001b[1;32m      <a href='vscode-notebook-cell:/Users/yshong/study/dataScienceOpenning/Predicton-Population/lstm_11_27%20copy.ipynb#X33sZmlsZQ%3D%3D?line=3'>4</a>\u001b[0m \u001b[39m# 예측 결과 역전환\u001b[39;00m\n\u001b[1;32m      <a href='vscode-notebook-cell:/Users/yshong/study/dataScienceOpenning/Predicton-Population/lstm_11_27%20copy.ipynb#X33sZmlsZQ%3D%3D?line=4'>5</a>\u001b[0m \u001b[39m#predicted_data = scaler.inverse_transform(predicted_data)\u001b[39;00m\n\u001b[1;32m      <a href='vscode-notebook-cell:/Users/yshong/study/dataScienceOpenning/Predicton-Population/lstm_11_27%20copy.ipynb#X33sZmlsZQ%3D%3D?line=5'>6</a>\u001b[0m predicted_data \u001b[39m=\u001b[39m invTransform(scaler, predicted_data, \u001b[39m'\u001b[39m\u001b[39m학령인구(명)\u001b[39m\u001b[39m'\u001b[39m, use_cols)\u001b[39m.\u001b[39mreshape(\u001b[39m-\u001b[39m\u001b[39m1\u001b[39m, \u001b[39m1\u001b[39m)\n",
      "File \u001b[0;32m/opt/homebrew/Caskroom/miniforge/base/envs/dataScience/lib/python3.11/site-packages/keras/src/utils/traceback_utils.py:70\u001b[0m, in \u001b[0;36mfilter_traceback.<locals>.error_handler\u001b[0;34m(*args, **kwargs)\u001b[0m\n\u001b[1;32m     67\u001b[0m     filtered_tb \u001b[39m=\u001b[39m _process_traceback_frames(e\u001b[39m.\u001b[39m__traceback__)\n\u001b[1;32m     68\u001b[0m     \u001b[39m# To get the full stack trace, call:\u001b[39;00m\n\u001b[1;32m     69\u001b[0m     \u001b[39m# `tf.debugging.disable_traceback_filtering()`\u001b[39;00m\n\u001b[0;32m---> 70\u001b[0m     \u001b[39mraise\u001b[39;00m e\u001b[39m.\u001b[39mwith_traceback(filtered_tb) \u001b[39mfrom\u001b[39;00m \u001b[39mNone\u001b[39;00m\n\u001b[1;32m     71\u001b[0m \u001b[39mfinally\u001b[39;00m:\n\u001b[1;32m     72\u001b[0m     \u001b[39mdel\u001b[39;00m filtered_tb\n",
      "File \u001b[0;32m/var/folders/39/yhddl2n53db5kx8yl47wsn_m0000gn/T/__autograph_generated_fileufu3lwii.py:15\u001b[0m, in \u001b[0;36mouter_factory.<locals>.inner_factory.<locals>.tf__predict_function\u001b[0;34m(iterator)\u001b[0m\n\u001b[1;32m     13\u001b[0m \u001b[39mtry\u001b[39;00m:\n\u001b[1;32m     14\u001b[0m     do_return \u001b[39m=\u001b[39m \u001b[39mTrue\u001b[39;00m\n\u001b[0;32m---> 15\u001b[0m     retval_ \u001b[39m=\u001b[39m ag__\u001b[39m.\u001b[39mconverted_call(ag__\u001b[39m.\u001b[39mld(step_function), (ag__\u001b[39m.\u001b[39mld(\u001b[39mself\u001b[39m), ag__\u001b[39m.\u001b[39mld(iterator)), \u001b[39mNone\u001b[39;00m, fscope)\n\u001b[1;32m     16\u001b[0m \u001b[39mexcept\u001b[39;00m:\n\u001b[1;32m     17\u001b[0m     do_return \u001b[39m=\u001b[39m \u001b[39mFalse\u001b[39;00m\n",
      "\u001b[0;31mValueError\u001b[0m: in user code:\n\n    File \"/opt/homebrew/Caskroom/miniforge/base/envs/dataScience/lib/python3.11/site-packages/keras/src/engine/training.py\", line 2440, in predict_function  *\n        return step_function(self, iterator)\n    File \"/opt/homebrew/Caskroom/miniforge/base/envs/dataScience/lib/python3.11/site-packages/keras/src/engine/training.py\", line 2425, in step_function  **\n        outputs = model.distribute_strategy.run(run_step, args=(data,))\n    File \"/opt/homebrew/Caskroom/miniforge/base/envs/dataScience/lib/python3.11/site-packages/keras/src/engine/training.py\", line 2413, in run_step  **\n        outputs = model.predict_step(data)\n    File \"/opt/homebrew/Caskroom/miniforge/base/envs/dataScience/lib/python3.11/site-packages/keras/src/engine/training.py\", line 2381, in predict_step\n        return self(x, training=False)\n    File \"/opt/homebrew/Caskroom/miniforge/base/envs/dataScience/lib/python3.11/site-packages/keras/src/utils/traceback_utils.py\", line 70, in error_handler\n        raise e.with_traceback(filtered_tb) from None\n    File \"/opt/homebrew/Caskroom/miniforge/base/envs/dataScience/lib/python3.11/site-packages/keras/src/engine/input_spec.py\", line 298, in assert_input_compatibility\n        raise ValueError(\n\n    ValueError: Input 0 of layer \"sequential_5\" is incompatible with the layer: expected shape=(None, 3, 8), found shape=(None, 3, 7)\n"
     ]
    }
   ],
   "source": [
    "# 예측\n",
    "predicted_data = best_model.predict(predict_X)\n",
    "\n",
    "# 예측 결과 역전환\n",
    "#predicted_data = scaler.inverse_transform(predicted_data)\n",
    "predicted_data = invTransform(scaler, predicted_data, '학령인구(명)', use_cols).reshape(-1, 1)\n",
    "predicted_data = predicted_data.round()\n",
    "#y_true = scaler.inverse_transform(y_test.reshape(-1, 1))\n",
    "y_true = invTransform(scaler, predict_y, '학령인구(명)', use_cols).reshape(-1, 1)\n",
    "\n",
    "# 결과 시각화\n",
    "plt.plot(range(len(y_true)), y_true, label='True')\n",
    "plt.plot(range(len(predicted_data)), predicted_data, label='Predicted', linestyle='--')\n",
    "plt.xlabel('Test Case')\n",
    "plt.ylabel('School_Age_Population')\n",
    "plt.legend()\n",
    "plt.show()\n",
    "\n",
    "# 모델 평가\n",
    "mse = mean_squared_error(y_true, predicted_data)\n",
    "print(f'Mean Squared Error: {mse:.2f}')\n",
    "\n",
    "# MAPE 계산 함수\n",
    "def calculate_mape(y_true, y_pred):\n",
    "    return np.mean(np.abs((y_true - y_pred) / y_true)) * 100\n",
    "\n",
    "# MAPE 계산\n",
    "mape = calculate_mape(y_true, predicted_data)\n",
    "print(f'Mean Absolute Percentage Error (MAPE): {mape:.2f}%')"
   ]
  },
  {
   "cell_type": "code",
   "execution_count": null,
   "metadata": {
    "collapsed": false,
    "pycharm": {
     "name": "#%%\n"
    }
   },
   "outputs": [],
   "source": []
  }
 ],
 "metadata": {
  "kernelspec": {
   "display_name": "Python 3",
   "language": "python",
   "name": "python3"
  },
  "language_info": {
   "codemirror_mode": {
    "name": "ipython",
    "version": 3
   },
   "file_extension": ".py",
   "mimetype": "text/x-python",
   "name": "python",
   "nbconvert_exporter": "python",
   "pygments_lexer": "ipython3",
   "version": "3.11.6"
  }
 },
 "nbformat": 4,
 "nbformat_minor": 0
}
