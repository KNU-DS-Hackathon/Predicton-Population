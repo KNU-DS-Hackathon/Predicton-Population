{
 "cells": [
  {
   "cell_type": "markdown",
   "metadata": {},
   "source": [
    "# Package Import"
   ]
  },
  {
   "cell_type": "code",
   "execution_count": 5,
   "metadata": {
    "collapsed": false,
    "pycharm": {
     "name": "#%%\n"
    }
   },
   "outputs": [],
   "source": [
    "import numpy as np\n",
    "import pandas as pd\n",
    "from sklearn.model_selection import train_test_split\n",
    "from sklearn.metrics import mean_squared_error\n",
    "import matplotlib.pyplot as plt\n",
    "from sklearn.preprocessing import MinMaxScaler\n",
    "from tensorflow.keras.models import Sequential\n",
    "from tensorflow.keras.layers import LSTM, Dense\n",
    "import tensorflow as tf\n",
    "import warnings\n",
    "\n",
    "warnings.filterwarnings('ignore')\n",
    "plt.rc('font', family='AppleGothic')"
   ]
  },
  {
   "cell_type": "code",
   "execution_count": 7,
   "metadata": {
    "collapsed": false,
    "pycharm": {
     "name": "#%%\n"
    }
   },
   "outputs": [],
   "source": [
    "df = pd.read_csv('./data/no_NaN_dataset_final.csv', encoding='utf-8')\n",
    "df\n",
    "data = df\n",
    "use_cols = ['총인구수(명)', '유치원 수', '초등학교 수', '출생건수', '사망건수', '혼인건수', '이혼건수', '학령인구(명)']"
   ]
  },
  {
   "cell_type": "code",
   "execution_count": 8,
   "metadata": {
    "collapsed": false,
    "pycharm": {
     "name": "#%%\n"
    }
   },
   "outputs": [
    {
     "data": {
      "text/html": [
       "<div>\n",
       "<style scoped>\n",
       "    .dataframe tbody tr th:only-of-type {\n",
       "        vertical-align: middle;\n",
       "    }\n",
       "\n",
       "    .dataframe tbody tr th {\n",
       "        vertical-align: top;\n",
       "    }\n",
       "\n",
       "    .dataframe thead th {\n",
       "        text-align: right;\n",
       "    }\n",
       "</style>\n",
       "<table border=\"1\" class=\"dataframe\">\n",
       "  <thead>\n",
       "    <tr style=\"text-align: right;\">\n",
       "      <th></th>\n",
       "      <th>행정구역(시도)</th>\n",
       "      <th>행정구역(시군구)</th>\n",
       "      <th>연도</th>\n",
       "      <th>총인구수(명)</th>\n",
       "      <th>유치원 수</th>\n",
       "      <th>초등학교 수</th>\n",
       "      <th>출생건수</th>\n",
       "      <th>사망건수</th>\n",
       "      <th>혼인건수</th>\n",
       "      <th>이혼건수</th>\n",
       "      <th>학령인구(명)</th>\n",
       "      <th>총인구수-학령인구(명)</th>\n",
       "      <th>행정구역</th>\n",
       "    </tr>\n",
       "  </thead>\n",
       "  <tbody>\n",
       "    <tr>\n",
       "      <th>0</th>\n",
       "      <td>서울특별시</td>\n",
       "      <td>종로구</td>\n",
       "      <td>2010</td>\n",
       "      <td>170578</td>\n",
       "      <td>17</td>\n",
       "      <td>14</td>\n",
       "      <td>1107</td>\n",
       "      <td>852</td>\n",
       "      <td>1011</td>\n",
       "      <td>396</td>\n",
       "      <td>29164</td>\n",
       "      <td>141414</td>\n",
       "      <td>서울특별시 종로구</td>\n",
       "    </tr>\n",
       "    <tr>\n",
       "      <th>1</th>\n",
       "      <td>서울특별시</td>\n",
       "      <td>중구</td>\n",
       "      <td>2010</td>\n",
       "      <td>132822</td>\n",
       "      <td>13</td>\n",
       "      <td>12</td>\n",
       "      <td>1170</td>\n",
       "      <td>671</td>\n",
       "      <td>1049</td>\n",
       "      <td>378</td>\n",
       "      <td>19628</td>\n",
       "      <td>113194</td>\n",
       "      <td>서울특별시 중구</td>\n",
       "    </tr>\n",
       "    <tr>\n",
       "      <th>2</th>\n",
       "      <td>서울특별시</td>\n",
       "      <td>용산구</td>\n",
       "      <td>2010</td>\n",
       "      <td>244853</td>\n",
       "      <td>19</td>\n",
       "      <td>15</td>\n",
       "      <td>2312</td>\n",
       "      <td>1086</td>\n",
       "      <td>1784</td>\n",
       "      <td>528</td>\n",
       "      <td>37318</td>\n",
       "      <td>207535</td>\n",
       "      <td>서울특별시 용산구</td>\n",
       "    </tr>\n",
       "    <tr>\n",
       "      <th>3</th>\n",
       "      <td>서울특별시</td>\n",
       "      <td>성동구</td>\n",
       "      <td>2010</td>\n",
       "      <td>309093</td>\n",
       "      <td>31</td>\n",
       "      <td>20</td>\n",
       "      <td>2886</td>\n",
       "      <td>1226</td>\n",
       "      <td>2306</td>\n",
       "      <td>672</td>\n",
       "      <td>51562</td>\n",
       "      <td>257531</td>\n",
       "      <td>서울특별시 성동구</td>\n",
       "    </tr>\n",
       "    <tr>\n",
       "      <th>4</th>\n",
       "      <td>서울특별시</td>\n",
       "      <td>광진구</td>\n",
       "      <td>2010</td>\n",
       "      <td>375463</td>\n",
       "      <td>42</td>\n",
       "      <td>22</td>\n",
       "      <td>3366</td>\n",
       "      <td>1290</td>\n",
       "      <td>2672</td>\n",
       "      <td>811</td>\n",
       "      <td>67422</td>\n",
       "      <td>308041</td>\n",
       "      <td>서울특별시 광진구</td>\n",
       "    </tr>\n",
       "    <tr>\n",
       "      <th>...</th>\n",
       "      <td>...</td>\n",
       "      <td>...</td>\n",
       "      <td>...</td>\n",
       "      <td>...</td>\n",
       "      <td>...</td>\n",
       "      <td>...</td>\n",
       "      <td>...</td>\n",
       "      <td>...</td>\n",
       "      <td>...</td>\n",
       "      <td>...</td>\n",
       "      <td>...</td>\n",
       "      <td>...</td>\n",
       "      <td>...</td>\n",
       "    </tr>\n",
       "    <tr>\n",
       "      <th>2894</th>\n",
       "      <td>경상남도</td>\n",
       "      <td>함양군</td>\n",
       "      <td>2022</td>\n",
       "      <td>37708</td>\n",
       "      <td>12</td>\n",
       "      <td>13</td>\n",
       "      <td>76</td>\n",
       "      <td>668</td>\n",
       "      <td>90</td>\n",
       "      <td>60</td>\n",
       "      <td>4135</td>\n",
       "      <td>33573</td>\n",
       "      <td>경상남도 함양군</td>\n",
       "    </tr>\n",
       "    <tr>\n",
       "      <th>2895</th>\n",
       "      <td>경상남도</td>\n",
       "      <td>거창군</td>\n",
       "      <td>2022</td>\n",
       "      <td>60387</td>\n",
       "      <td>16</td>\n",
       "      <td>17</td>\n",
       "      <td>175</td>\n",
       "      <td>804</td>\n",
       "      <td>163</td>\n",
       "      <td>94</td>\n",
       "      <td>8548</td>\n",
       "      <td>51839</td>\n",
       "      <td>경상남도 거창군</td>\n",
       "    </tr>\n",
       "    <tr>\n",
       "      <th>2896</th>\n",
       "      <td>경상남도</td>\n",
       "      <td>합천군</td>\n",
       "      <td>2022</td>\n",
       "      <td>42142</td>\n",
       "      <td>15</td>\n",
       "      <td>17</td>\n",
       "      <td>97</td>\n",
       "      <td>899</td>\n",
       "      <td>89</td>\n",
       "      <td>71</td>\n",
       "      <td>3385</td>\n",
       "      <td>38757</td>\n",
       "      <td>경상남도 합천군</td>\n",
       "    </tr>\n",
       "    <tr>\n",
       "      <th>2897</th>\n",
       "      <td>제주특별자치도</td>\n",
       "      <td>제주시</td>\n",
       "      <td>2022</td>\n",
       "      <td>493389</td>\n",
       "      <td>74</td>\n",
       "      <td>69</td>\n",
       "      <td>2766</td>\n",
       "      <td>3281</td>\n",
       "      <td>2034</td>\n",
       "      <td>1102</td>\n",
       "      <td>84346</td>\n",
       "      <td>409043</td>\n",
       "      <td>제주특별자치도 제주시</td>\n",
       "    </tr>\n",
       "    <tr>\n",
       "      <th>2898</th>\n",
       "      <td>제주특별자치도</td>\n",
       "      <td>서귀포시</td>\n",
       "      <td>2022</td>\n",
       "      <td>184770</td>\n",
       "      <td>45</td>\n",
       "      <td>45</td>\n",
       "      <td>833</td>\n",
       "      <td>1525</td>\n",
       "      <td>684</td>\n",
       "      <td>462</td>\n",
       "      <td>28174</td>\n",
       "      <td>156596</td>\n",
       "      <td>제주특별자치도 서귀포시</td>\n",
       "    </tr>\n",
       "  </tbody>\n",
       "</table>\n",
       "<p>2899 rows × 13 columns</p>\n",
       "</div>"
      ],
      "text/plain": [
       "     행정구역(시도) 행정구역(시군구)    연도  총인구수(명)  유치원 수  초등학교 수  출생건수  사망건수  혼인건수  이혼건수  \\\n",
       "0       서울특별시       종로구  2010   170578     17      14  1107   852  1011   396   \n",
       "1       서울특별시        중구  2010   132822     13      12  1170   671  1049   378   \n",
       "2       서울특별시       용산구  2010   244853     19      15  2312  1086  1784   528   \n",
       "3       서울특별시       성동구  2010   309093     31      20  2886  1226  2306   672   \n",
       "4       서울특별시       광진구  2010   375463     42      22  3366  1290  2672   811   \n",
       "...       ...       ...   ...      ...    ...     ...   ...   ...   ...   ...   \n",
       "2894     경상남도       함양군  2022    37708     12      13    76   668    90    60   \n",
       "2895     경상남도       거창군  2022    60387     16      17   175   804   163    94   \n",
       "2896     경상남도       합천군  2022    42142     15      17    97   899    89    71   \n",
       "2897  제주특별자치도       제주시  2022   493389     74      69  2766  3281  2034  1102   \n",
       "2898  제주특별자치도      서귀포시  2022   184770     45      45   833  1525   684   462   \n",
       "\n",
       "      학령인구(명)  총인구수-학령인구(명)          행정구역  \n",
       "0       29164        141414     서울특별시 종로구  \n",
       "1       19628        113194      서울특별시 중구  \n",
       "2       37318        207535     서울특별시 용산구  \n",
       "3       51562        257531     서울특별시 성동구  \n",
       "4       67422        308041     서울특별시 광진구  \n",
       "...       ...           ...           ...  \n",
       "2894     4135         33573      경상남도 함양군  \n",
       "2895     8548         51839      경상남도 거창군  \n",
       "2896     3385         38757      경상남도 합천군  \n",
       "2897    84346        409043   제주특별자치도 제주시  \n",
       "2898    28174        156596  제주특별자치도 서귀포시  \n",
       "\n",
       "[2899 rows x 13 columns]"
      ]
     },
     "execution_count": 8,
     "metadata": {},
     "output_type": "execute_result"
    }
   ],
   "source": [
    "df"
   ]
  },
  {
   "cell_type": "code",
   "execution_count": 9,
   "metadata": {
    "collapsed": false,
    "pycharm": {
     "name": "#%%\n"
    }
   },
   "outputs": [
    {
     "data": {
      "text/plain": [
       "행정구역\n",
       "서울특별시 종로구       13\n",
       "전라북도 장수군        13\n",
       "충청남도 예산군        13\n",
       "충청남도 태안군        13\n",
       "전라북도 전주시        13\n",
       "                ..\n",
       "경기도 동두천시        13\n",
       "경기도 안산시         13\n",
       "경기도 고양시         13\n",
       "경기도 과천시         13\n",
       "제주특별자치도 서귀포시    13\n",
       "Name: count, Length: 223, dtype: int64"
      ]
     },
     "execution_count": 9,
     "metadata": {},
     "output_type": "execute_result"
    }
   ],
   "source": [
    "df['행정구역'].value_counts()"
   ]
  },
  {
   "cell_type": "code",
   "execution_count": 10,
   "metadata": {
    "collapsed": false,
    "pycharm": {
     "name": "#%%\n"
    }
   },
   "outputs": [],
   "source": [
    "# 데이터 전처리\n",
    "scaler = MinMaxScaler()\n",
    "df[use_cols] = scaler.fit_transform(df[use_cols])"
   ]
  },
  {
   "cell_type": "markdown",
   "metadata": {},
   "source": [
    "# 학습 및 평가를 위한 데이터셋 분리 (2013 - 2020)"
   ]
  },
  {
   "cell_type": "code",
   "execution_count": 11,
   "metadata": {
    "collapsed": false,
    "pycharm": {
     "name": "#%%\n"
    }
   },
   "outputs": [
    {
     "name": "stdout",
     "output_type": "stream",
     "text": [
      "     행정구역(시도) 행정구역(시군구)    연도   총인구수(명)     유치원 수    초등학교 수      출생건수  \\\n",
      "0       서울특별시       종로구  2010  0.135463  0.076531  0.092593  0.089998   \n",
      "1       서울특별시        중구  2010  0.103836  0.056122  0.074074  0.095214   \n",
      "2       서울특별시       용산구  2010  0.197683  0.086735  0.101852  0.189767   \n",
      "3       서울특별시       성동구  2010  0.251496  0.147959  0.148148  0.237291   \n",
      "4       서울특별시       광진구  2010  0.307093  0.204082  0.166667  0.277033   \n",
      "...       ...       ...   ...       ...       ...       ...       ...   \n",
      "2671     경상남도       함양군  2021  0.024664  0.051020  0.083333  0.006541   \n",
      "2672     경상남도       거창군  2021  0.043732  0.071429  0.120370  0.015152   \n",
      "2673     경상남도       합천군  2021  0.028538  0.066327  0.120370  0.005464   \n",
      "2674  제주특별자치도       제주시  2021  0.405633  0.387755  0.592593  0.237622   \n",
      "2675  제주특별자치도      서귀포시  2021  0.146425  0.219388  0.379630  0.067726   \n",
      "\n",
      "          사망건수      혼인건수      이혼건수   학령인구(명)  총인구수-학령인구(명)          행정구역  \n",
      "0     0.118649  0.118846  0.151588  0.116964        141414     서울특별시 종로구  \n",
      "1     0.091602  0.123454  0.144351  0.077754        113194      서울특별시 중구  \n",
      "2     0.153616  0.212588  0.204664  0.150492        207535     서울특별시 용산구  \n",
      "3     0.174537  0.275891  0.262565  0.209060        257531     서울특별시 성동구  \n",
      "4     0.184100  0.320276  0.318456  0.274273        308041     서울특별시 광진구  \n",
      "...        ...       ...       ...       ...           ...           ...  \n",
      "2671  0.079797  0.004730  0.021713  0.015144         33909      경상남도 함양군  \n",
      "2672  0.096832  0.013097  0.042220  0.034021         52081      경상남도 거창군  \n",
      "2673  0.104752  0.005215  0.024528  0.011908         39321      경상남도 합천군  \n",
      "2674  0.422744  0.230657  0.421391  0.352866        406560   제주특별자치도 제주시  \n",
      "2675  0.191871  0.084526  0.162445  0.114423        155117  제주특별자치도 서귀포시  \n",
      "\n",
      "[2676 rows x 13 columns]\n"
     ]
    }
   ],
   "source": [
    "# 연도가 2013부터 2020까지인 데이터 추출\n",
    "filtered_df = df[(df['연도'] >= 2010) & (df['연도'] <= 2021)]\n",
    "\n",
    "# 결과 출력\n",
    "print(filtered_df)"
   ]
  },
  {
   "cell_type": "code",
   "execution_count": 12,
   "metadata": {
    "collapsed": false,
    "pycharm": {
     "name": "#%%\n"
    }
   },
   "outputs": [
    {
     "data": {
      "text/html": [
       "<div>\n",
       "<style scoped>\n",
       "    .dataframe tbody tr th:only-of-type {\n",
       "        vertical-align: middle;\n",
       "    }\n",
       "\n",
       "    .dataframe tbody tr th {\n",
       "        vertical-align: top;\n",
       "    }\n",
       "\n",
       "    .dataframe thead th {\n",
       "        text-align: right;\n",
       "    }\n",
       "</style>\n",
       "<table border=\"1\" class=\"dataframe\">\n",
       "  <thead>\n",
       "    <tr style=\"text-align: right;\">\n",
       "      <th></th>\n",
       "      <th>행정구역(시도)</th>\n",
       "      <th>행정구역(시군구)</th>\n",
       "      <th>연도</th>\n",
       "      <th>총인구수(명)</th>\n",
       "      <th>유치원 수</th>\n",
       "      <th>초등학교 수</th>\n",
       "      <th>출생건수</th>\n",
       "      <th>사망건수</th>\n",
       "      <th>혼인건수</th>\n",
       "      <th>이혼건수</th>\n",
       "      <th>학령인구(명)</th>\n",
       "      <th>총인구수-학령인구(명)</th>\n",
       "      <th>행정구역</th>\n",
       "    </tr>\n",
       "  </thead>\n",
       "  <tbody>\n",
       "    <tr>\n",
       "      <th>0</th>\n",
       "      <td>서울특별시</td>\n",
       "      <td>종로구</td>\n",
       "      <td>2010</td>\n",
       "      <td>0.135463</td>\n",
       "      <td>0.076531</td>\n",
       "      <td>0.092593</td>\n",
       "      <td>0.089998</td>\n",
       "      <td>0.118649</td>\n",
       "      <td>0.118846</td>\n",
       "      <td>0.151588</td>\n",
       "      <td>0.116964</td>\n",
       "      <td>141414</td>\n",
       "      <td>서울특별시 종로구</td>\n",
       "    </tr>\n",
       "    <tr>\n",
       "      <th>1</th>\n",
       "      <td>서울특별시</td>\n",
       "      <td>중구</td>\n",
       "      <td>2010</td>\n",
       "      <td>0.103836</td>\n",
       "      <td>0.056122</td>\n",
       "      <td>0.074074</td>\n",
       "      <td>0.095214</td>\n",
       "      <td>0.091602</td>\n",
       "      <td>0.123454</td>\n",
       "      <td>0.144351</td>\n",
       "      <td>0.077754</td>\n",
       "      <td>113194</td>\n",
       "      <td>서울특별시 중구</td>\n",
       "    </tr>\n",
       "    <tr>\n",
       "      <th>2</th>\n",
       "      <td>서울특별시</td>\n",
       "      <td>용산구</td>\n",
       "      <td>2010</td>\n",
       "      <td>0.197683</td>\n",
       "      <td>0.086735</td>\n",
       "      <td>0.101852</td>\n",
       "      <td>0.189767</td>\n",
       "      <td>0.153616</td>\n",
       "      <td>0.212588</td>\n",
       "      <td>0.204664</td>\n",
       "      <td>0.150492</td>\n",
       "      <td>207535</td>\n",
       "      <td>서울특별시 용산구</td>\n",
       "    </tr>\n",
       "    <tr>\n",
       "      <th>3</th>\n",
       "      <td>서울특별시</td>\n",
       "      <td>성동구</td>\n",
       "      <td>2010</td>\n",
       "      <td>0.251496</td>\n",
       "      <td>0.147959</td>\n",
       "      <td>0.148148</td>\n",
       "      <td>0.237291</td>\n",
       "      <td>0.174537</td>\n",
       "      <td>0.275891</td>\n",
       "      <td>0.262565</td>\n",
       "      <td>0.209060</td>\n",
       "      <td>257531</td>\n",
       "      <td>서울특별시 성동구</td>\n",
       "    </tr>\n",
       "    <tr>\n",
       "      <th>4</th>\n",
       "      <td>서울특별시</td>\n",
       "      <td>광진구</td>\n",
       "      <td>2010</td>\n",
       "      <td>0.307093</td>\n",
       "      <td>0.204082</td>\n",
       "      <td>0.166667</td>\n",
       "      <td>0.277033</td>\n",
       "      <td>0.184100</td>\n",
       "      <td>0.320276</td>\n",
       "      <td>0.318456</td>\n",
       "      <td>0.274273</td>\n",
       "      <td>308041</td>\n",
       "      <td>서울특별시 광진구</td>\n",
       "    </tr>\n",
       "    <tr>\n",
       "      <th>...</th>\n",
       "      <td>...</td>\n",
       "      <td>...</td>\n",
       "      <td>...</td>\n",
       "      <td>...</td>\n",
       "      <td>...</td>\n",
       "      <td>...</td>\n",
       "      <td>...</td>\n",
       "      <td>...</td>\n",
       "      <td>...</td>\n",
       "      <td>...</td>\n",
       "      <td>...</td>\n",
       "      <td>...</td>\n",
       "      <td>...</td>\n",
       "    </tr>\n",
       "    <tr>\n",
       "      <th>2671</th>\n",
       "      <td>경상남도</td>\n",
       "      <td>함양군</td>\n",
       "      <td>2021</td>\n",
       "      <td>0.024664</td>\n",
       "      <td>0.051020</td>\n",
       "      <td>0.083333</td>\n",
       "      <td>0.006541</td>\n",
       "      <td>0.079797</td>\n",
       "      <td>0.004730</td>\n",
       "      <td>0.021713</td>\n",
       "      <td>0.015144</td>\n",
       "      <td>33909</td>\n",
       "      <td>경상남도 함양군</td>\n",
       "    </tr>\n",
       "    <tr>\n",
       "      <th>2672</th>\n",
       "      <td>경상남도</td>\n",
       "      <td>거창군</td>\n",
       "      <td>2021</td>\n",
       "      <td>0.043732</td>\n",
       "      <td>0.071429</td>\n",
       "      <td>0.120370</td>\n",
       "      <td>0.015152</td>\n",
       "      <td>0.096832</td>\n",
       "      <td>0.013097</td>\n",
       "      <td>0.042220</td>\n",
       "      <td>0.034021</td>\n",
       "      <td>52081</td>\n",
       "      <td>경상남도 거창군</td>\n",
       "    </tr>\n",
       "    <tr>\n",
       "      <th>2673</th>\n",
       "      <td>경상남도</td>\n",
       "      <td>합천군</td>\n",
       "      <td>2021</td>\n",
       "      <td>0.028538</td>\n",
       "      <td>0.066327</td>\n",
       "      <td>0.120370</td>\n",
       "      <td>0.005464</td>\n",
       "      <td>0.104752</td>\n",
       "      <td>0.005215</td>\n",
       "      <td>0.024528</td>\n",
       "      <td>0.011908</td>\n",
       "      <td>39321</td>\n",
       "      <td>경상남도 합천군</td>\n",
       "    </tr>\n",
       "    <tr>\n",
       "      <th>2674</th>\n",
       "      <td>제주특별자치도</td>\n",
       "      <td>제주시</td>\n",
       "      <td>2021</td>\n",
       "      <td>0.405633</td>\n",
       "      <td>0.387755</td>\n",
       "      <td>0.592593</td>\n",
       "      <td>0.237622</td>\n",
       "      <td>0.422744</td>\n",
       "      <td>0.230657</td>\n",
       "      <td>0.421391</td>\n",
       "      <td>0.352866</td>\n",
       "      <td>406560</td>\n",
       "      <td>제주특별자치도 제주시</td>\n",
       "    </tr>\n",
       "    <tr>\n",
       "      <th>2675</th>\n",
       "      <td>제주특별자치도</td>\n",
       "      <td>서귀포시</td>\n",
       "      <td>2021</td>\n",
       "      <td>0.146425</td>\n",
       "      <td>0.219388</td>\n",
       "      <td>0.379630</td>\n",
       "      <td>0.067726</td>\n",
       "      <td>0.191871</td>\n",
       "      <td>0.084526</td>\n",
       "      <td>0.162445</td>\n",
       "      <td>0.114423</td>\n",
       "      <td>155117</td>\n",
       "      <td>제주특별자치도 서귀포시</td>\n",
       "    </tr>\n",
       "  </tbody>\n",
       "</table>\n",
       "<p>2676 rows × 13 columns</p>\n",
       "</div>"
      ],
      "text/plain": [
       "     행정구역(시도) 행정구역(시군구)    연도   총인구수(명)     유치원 수    초등학교 수      출생건수  \\\n",
       "0       서울특별시       종로구  2010  0.135463  0.076531  0.092593  0.089998   \n",
       "1       서울특별시        중구  2010  0.103836  0.056122  0.074074  0.095214   \n",
       "2       서울특별시       용산구  2010  0.197683  0.086735  0.101852  0.189767   \n",
       "3       서울특별시       성동구  2010  0.251496  0.147959  0.148148  0.237291   \n",
       "4       서울특별시       광진구  2010  0.307093  0.204082  0.166667  0.277033   \n",
       "...       ...       ...   ...       ...       ...       ...       ...   \n",
       "2671     경상남도       함양군  2021  0.024664  0.051020  0.083333  0.006541   \n",
       "2672     경상남도       거창군  2021  0.043732  0.071429  0.120370  0.015152   \n",
       "2673     경상남도       합천군  2021  0.028538  0.066327  0.120370  0.005464   \n",
       "2674  제주특별자치도       제주시  2021  0.405633  0.387755  0.592593  0.237622   \n",
       "2675  제주특별자치도      서귀포시  2021  0.146425  0.219388  0.379630  0.067726   \n",
       "\n",
       "          사망건수      혼인건수      이혼건수   학령인구(명)  총인구수-학령인구(명)          행정구역  \n",
       "0     0.118649  0.118846  0.151588  0.116964        141414     서울특별시 종로구  \n",
       "1     0.091602  0.123454  0.144351  0.077754        113194      서울특별시 중구  \n",
       "2     0.153616  0.212588  0.204664  0.150492        207535     서울특별시 용산구  \n",
       "3     0.174537  0.275891  0.262565  0.209060        257531     서울특별시 성동구  \n",
       "4     0.184100  0.320276  0.318456  0.274273        308041     서울특별시 광진구  \n",
       "...        ...       ...       ...       ...           ...           ...  \n",
       "2671  0.079797  0.004730  0.021713  0.015144         33909      경상남도 함양군  \n",
       "2672  0.096832  0.013097  0.042220  0.034021         52081      경상남도 거창군  \n",
       "2673  0.104752  0.005215  0.024528  0.011908         39321      경상남도 합천군  \n",
       "2674  0.422744  0.230657  0.421391  0.352866        406560   제주특별자치도 제주시  \n",
       "2675  0.191871  0.084526  0.162445  0.114423        155117  제주특별자치도 서귀포시  \n",
       "\n",
       "[2676 rows x 13 columns]"
      ]
     },
     "execution_count": 12,
     "metadata": {},
     "output_type": "execute_result"
    }
   ],
   "source": [
    "filtered_df"
   ]
  },
  {
   "cell_type": "markdown",
   "metadata": {},
   "source": [
    "# 슬라이딩 윈도우 기법을 이용한 데이터 전처리"
   ]
  },
  {
   "cell_type": "code",
   "execution_count": 13,
   "metadata": {
    "collapsed": false,
    "pycharm": {
     "name": "#%%\n"
    }
   },
   "outputs": [],
   "source": [
    "# 시퀀스 데이터 생성\n",
    "def create_sequence_data(data, sequence_length):\n",
    "    sequences = []\n",
    "    for region in data['행정구역'].unique().tolist():\n",
    "        temp_df = data[data['행정구역'] == region]\n",
    "        if len(temp_df) < sequence_length:\n",
    "            continue\n",
    "\n",
    "        temp_df = temp_df[use_cols]\n",
    "        for i in range(len(temp_df) - sequence_length):\n",
    "            seq = temp_df[i:i+sequence_length+1]\n",
    "            sequences.append(seq)\n",
    "    return np.array(sequences)"
   ]
  },
  {
   "cell_type": "code",
   "execution_count": 14,
   "metadata": {
    "collapsed": false,
    "pycharm": {
     "name": "#%%\n"
    }
   },
   "outputs": [],
   "source": [
    "sequence_length = 3  # 시퀀스 길이\n",
    "sequences = create_sequence_data(filtered_df, sequence_length)"
   ]
  },
  {
   "cell_type": "code",
   "execution_count": 15,
   "metadata": {
    "collapsed": false,
    "pycharm": {
     "name": "#%%\n"
    }
   },
   "outputs": [
    {
     "data": {
      "text/plain": [
       "(2007, 4, 8)"
      ]
     },
     "execution_count": 15,
     "metadata": {},
     "output_type": "execute_result"
    }
   ],
   "source": [
    "sequences.shape"
   ]
  },
  {
   "cell_type": "code",
   "execution_count": 16,
   "metadata": {
    "collapsed": false,
    "pycharm": {
     "name": "#%%\n"
    }
   },
   "outputs": [],
   "source": [
    "# 데이터셋 분리\n",
    "X = sequences[:, :-1]\n",
    "y = sequences[:, -1][:, -1]"
   ]
  },
  {
   "cell_type": "code",
   "execution_count": 17,
   "metadata": {
    "collapsed": false,
    "pycharm": {
     "name": "#%%\n"
    }
   },
   "outputs": [],
   "source": [
    "# Split the data into training and test sets\n",
    "X_train, X_test, y_train, y_test = train_test_split(X, y, test_size=0.2, shuffle=False)\n",
    "\n",
    "# Further split the training data into training and validation sets\n",
    "X_train, X_val, y_train, y_val = train_test_split(X_train, y_train, test_size=0.2, shuffle=False)\n"
   ]
  },
  {
   "cell_type": "code",
   "execution_count": 18,
   "metadata": {
    "collapsed": false,
    "pycharm": {
     "name": "#%%\n"
    }
   },
   "outputs": [],
   "source": [
    "def invTransform(scaler, data, colName, colNames):\n",
    "    dummy = pd.DataFrame(np.zeros((len(data), len(colNames))), columns=colNames)\n",
    "    dummy[colName] = data\n",
    "    dummy = pd.DataFrame(scaler.inverse_transform(dummy), columns=colNames)\n",
    "    return dummy[colName].values"
   ]
  },
  {
   "cell_type": "code",
   "execution_count": 19,
   "metadata": {
    "collapsed": false,
    "pycharm": {
     "name": "#%%\n"
    }
   },
   "outputs": [],
   "source": [
    "# MAPE 계산 함수\n",
    "def calculate_mape(y_true, y_pred):\n",
    "    return np.mean(np.abs((y_true - y_pred) / y_true)) * 100"
   ]
  },
  {
   "cell_type": "code",
   "execution_count": 20,
   "metadata": {
    "collapsed": false,
    "pycharm": {
     "name": "#%%\n"
    }
   },
   "outputs": [
    {
     "name": "stdout",
     "output_type": "stream",
     "text": [
      "13/13 [==============================] - 0s 1ms/step\n",
      "0th: Mean Absolute Percentage Error (MAPE): 5.99%\n",
      "13/13 [==============================] - 0s 1ms/step\n",
      "1th: Mean Absolute Percentage Error (MAPE): 6.60%\n",
      "13/13 [==============================] - 0s 1ms/step\n",
      "2th: Mean Absolute Percentage Error (MAPE): 6.48%\n",
      "13/13 [==============================] - 0s 1ms/step\n",
      "3th: Mean Absolute Percentage Error (MAPE): 5.95%\n",
      "13/13 [==============================] - 0s 1ms/step\n",
      "4th: Mean Absolute Percentage Error (MAPE): 6.48%\n",
      "13/13 [==============================] - 0s 1ms/step\n",
      "5th: Mean Absolute Percentage Error (MAPE): 6.48%\n",
      "13/13 [==============================] - 0s 1ms/step\n",
      "6th: Mean Absolute Percentage Error (MAPE): 6.46%\n",
      "13/13 [==============================] - 0s 1ms/step\n",
      "7th: Mean Absolute Percentage Error (MAPE): 6.24%\n",
      "13/13 [==============================] - 0s 1ms/step\n",
      "8th: Mean Absolute Percentage Error (MAPE): 3.26%\n",
      "13/13 [==============================] - 0s 1ms/step\n",
      "9th: Mean Absolute Percentage Error (MAPE): 3.28%\n",
      "Average Mean Absolute Percentage Error (MAPE) over 10 iterations: 5.72%\n",
      "Minimum Mean Absolute Percentage Error (MAPE) over 10 iterations: 3.26%\n"
     ]
    }
   ],
   "source": [
    "from keras.models import Sequential\n",
    "from keras.layers import LSTM, Dense\n",
    "from keras.callbacks import EarlyStopping\n",
    "\n",
    "# Specify the number of iterations\n",
    "num_iterations = 10\n",
    "mape_list = []\n",
    "min_mape = float('inf')  # Initialize with positive infinity\n",
    "\n",
    "for iteration in range(num_iterations):\n",
    "    # Create the model\n",
    "    model = Sequential()\n",
    "    model.add(LSTM(128, activation='tanh', input_shape=(X.shape[1], X.shape[2])))\n",
    "    model.add(Dense(1))\n",
    "    model.compile(optimizer='adam', loss='mse')\n",
    "\n",
    "    # Define early stopping\n",
    "    early_stopping = EarlyStopping(monitor='val_loss', patience=50, restore_best_weights=True)\n",
    "\n",
    "    # Fit the model with early stopping\n",
    "    model.fit(X_train, y_train, epochs=1000, verbose=0, validation_data=(X_val, y_val), callbacks=[early_stopping])\n",
    "\n",
    "    # Predict\n",
    "    predicted_data = model.predict(X_test)\n",
    "    predicted_data = invTransform(scaler, predicted_data, '학령인구(명)', use_cols).reshape(-1, 1)\n",
    "    predicted_data = predicted_data.round()\n",
    "    y_true = invTransform(scaler, y_test, '학령인구(명)', use_cols).reshape(-1, 1)\n",
    "\n",
    "    # Evaluate MAPE\n",
    "    mape = calculate_mape(y_true, predicted_data)\n",
    "    print(f'{iteration}th: Mean Absolute Percentage Error (MAPE): {mape:.2f}%')\n",
    "    mape_list.append(mape)\n",
    "\n",
    "    # Check if the current MAPE is the new minimum\n",
    "    if mape < min_mape:\n",
    "        min_mape = mape\n",
    "        # Save the model when a new minimum is reached\n",
    "        model.save('best_model(seq_len_3).h5')\n",
    "\n",
    "# Calculate and print the average and minimum MAPE\n",
    "average_mape = np.mean(mape_list)\n",
    "print(f'Average Mean Absolute Percentage Error (MAPE) over {num_iterations} iterations: {average_mape:.2f}%')\n",
    "print(f'Minimum Mean Absolute Percentage Error (MAPE) over {num_iterations} iterations: {min_mape:.2f}%')\n"
   ]
  },
  {
   "cell_type": "markdown",
   "metadata": {},
   "source": [
    "# 2022년 학령인구를 예측하기 위한 데이터셋"
   ]
  },
  {
   "cell_type": "code",
   "execution_count": 28,
   "metadata": {
    "collapsed": false,
    "pycharm": {
     "name": "#%%\n"
    }
   },
   "outputs": [],
   "source": [
    "prediction_df = df[df['연도'].isin([i for i in range(2019, 2023)])]"
   ]
  },
  {
   "cell_type": "code",
   "execution_count": 29,
   "metadata": {
    "collapsed": false,
    "pycharm": {
     "name": "#%%\n"
    }
   },
   "outputs": [
    {
     "data": {
      "text/html": [
       "<div>\n",
       "<style scoped>\n",
       "    .dataframe tbody tr th:only-of-type {\n",
       "        vertical-align: middle;\n",
       "    }\n",
       "\n",
       "    .dataframe tbody tr th {\n",
       "        vertical-align: top;\n",
       "    }\n",
       "\n",
       "    .dataframe thead th {\n",
       "        text-align: right;\n",
       "    }\n",
       "</style>\n",
       "<table border=\"1\" class=\"dataframe\">\n",
       "  <thead>\n",
       "    <tr style=\"text-align: right;\">\n",
       "      <th></th>\n",
       "      <th>행정구역(시도)</th>\n",
       "      <th>행정구역(시군구)</th>\n",
       "      <th>연도</th>\n",
       "      <th>총인구수(명)</th>\n",
       "      <th>유치원 수</th>\n",
       "      <th>초등학교 수</th>\n",
       "      <th>출생건수</th>\n",
       "      <th>사망건수</th>\n",
       "      <th>혼인건수</th>\n",
       "      <th>이혼건수</th>\n",
       "      <th>학령인구(명)</th>\n",
       "      <th>총인구수-학령인구(명)</th>\n",
       "      <th>행정구역</th>\n",
       "    </tr>\n",
       "  </thead>\n",
       "  <tbody>\n",
       "    <tr>\n",
       "      <th>2007</th>\n",
       "      <td>서울특별시</td>\n",
       "      <td>종로구</td>\n",
       "      <td>2019</td>\n",
       "      <td>0.119306</td>\n",
       "      <td>0.076531</td>\n",
       "      <td>0.083333</td>\n",
       "      <td>0.054065</td>\n",
       "      <td>0.118948</td>\n",
       "      <td>0.067790</td>\n",
       "      <td>0.096904</td>\n",
       "      <td>0.076697</td>\n",
       "      <td>131919</td>\n",
       "      <td>서울특별시 종로구</td>\n",
       "    </tr>\n",
       "    <tr>\n",
       "      <th>2008</th>\n",
       "      <td>서울특별시</td>\n",
       "      <td>중구</td>\n",
       "      <td>2019</td>\n",
       "      <td>0.098264</td>\n",
       "      <td>0.061224</td>\n",
       "      <td>0.074074</td>\n",
       "      <td>0.063173</td>\n",
       "      <td>0.090705</td>\n",
       "      <td>0.083798</td>\n",
       "      <td>0.084841</td>\n",
       "      <td>0.049806</td>\n",
       "      <td>113340</td>\n",
       "      <td>서울특별시 중구</td>\n",
       "    </tr>\n",
       "    <tr>\n",
       "      <th>2009</th>\n",
       "      <td>서울특별시</td>\n",
       "      <td>용산구</td>\n",
       "      <td>2019</td>\n",
       "      <td>0.184126</td>\n",
       "      <td>0.056122</td>\n",
       "      <td>0.101852</td>\n",
       "      <td>0.107137</td>\n",
       "      <td>0.156754</td>\n",
       "      <td>0.154257</td>\n",
       "      <td>0.141938</td>\n",
       "      <td>0.108666</td>\n",
       "      <td>201524</td>\n",
       "      <td>서울특별시 용산구</td>\n",
       "    </tr>\n",
       "    <tr>\n",
       "      <th>2010</th>\n",
       "      <td>서울특별시</td>\n",
       "      <td>성동구</td>\n",
       "      <td>2019</td>\n",
       "      <td>0.244624</td>\n",
       "      <td>0.142857</td>\n",
       "      <td>0.157407</td>\n",
       "      <td>0.179748</td>\n",
       "      <td>0.195906</td>\n",
       "      <td>0.209435</td>\n",
       "      <td>0.204664</td>\n",
       "      <td>0.149069</td>\n",
       "      <td>263917</td>\n",
       "      <td>서울특별시 성동구</td>\n",
       "    </tr>\n",
       "    <tr>\n",
       "      <th>2011</th>\n",
       "      <td>서울특별시</td>\n",
       "      <td>광진구</td>\n",
       "      <td>2019</td>\n",
       "      <td>0.286894</td>\n",
       "      <td>0.158163</td>\n",
       "      <td>0.166667</td>\n",
       "      <td>0.160374</td>\n",
       "      <td>0.198296</td>\n",
       "      <td>0.225806</td>\n",
       "      <td>0.229996</td>\n",
       "      <td>0.185660</td>\n",
       "      <td>305479</td>\n",
       "      <td>서울특별시 광진구</td>\n",
       "    </tr>\n",
       "    <tr>\n",
       "      <th>...</th>\n",
       "      <td>...</td>\n",
       "      <td>...</td>\n",
       "      <td>...</td>\n",
       "      <td>...</td>\n",
       "      <td>...</td>\n",
       "      <td>...</td>\n",
       "      <td>...</td>\n",
       "      <td>...</td>\n",
       "      <td>...</td>\n",
       "      <td>...</td>\n",
       "      <td>...</td>\n",
       "      <td>...</td>\n",
       "      <td>...</td>\n",
       "    </tr>\n",
       "    <tr>\n",
       "      <th>2894</th>\n",
       "      <td>경상남도</td>\n",
       "      <td>함양군</td>\n",
       "      <td>2022</td>\n",
       "      <td>0.024160</td>\n",
       "      <td>0.051020</td>\n",
       "      <td>0.083333</td>\n",
       "      <td>0.004637</td>\n",
       "      <td>0.091154</td>\n",
       "      <td>0.007155</td>\n",
       "      <td>0.016486</td>\n",
       "      <td>0.014050</td>\n",
       "      <td>33573</td>\n",
       "      <td>경상남도 함양군</td>\n",
       "    </tr>\n",
       "    <tr>\n",
       "      <th>2895</th>\n",
       "      <td>경상남도</td>\n",
       "      <td>거창군</td>\n",
       "      <td>2022</td>\n",
       "      <td>0.043158</td>\n",
       "      <td>0.071429</td>\n",
       "      <td>0.120370</td>\n",
       "      <td>0.012833</td>\n",
       "      <td>0.111476</td>\n",
       "      <td>0.016008</td>\n",
       "      <td>0.030157</td>\n",
       "      <td>0.032195</td>\n",
       "      <td>51839</td>\n",
       "      <td>경상남도 거창군</td>\n",
       "    </tr>\n",
       "    <tr>\n",
       "      <th>2896</th>\n",
       "      <td>경상남도</td>\n",
       "      <td>합천군</td>\n",
       "      <td>2022</td>\n",
       "      <td>0.027874</td>\n",
       "      <td>0.066327</td>\n",
       "      <td>0.120370</td>\n",
       "      <td>0.006375</td>\n",
       "      <td>0.125672</td>\n",
       "      <td>0.007034</td>\n",
       "      <td>0.020909</td>\n",
       "      <td>0.010966</td>\n",
       "      <td>38757</td>\n",
       "      <td>경상남도 합천군</td>\n",
       "    </tr>\n",
       "    <tr>\n",
       "      <th>2897</th>\n",
       "      <td>제주특별자치도</td>\n",
       "      <td>제주시</td>\n",
       "      <td>2022</td>\n",
       "      <td>0.405879</td>\n",
       "      <td>0.367347</td>\n",
       "      <td>0.601852</td>\n",
       "      <td>0.227356</td>\n",
       "      <td>0.481620</td>\n",
       "      <td>0.242906</td>\n",
       "      <td>0.435464</td>\n",
       "      <td>0.343861</td>\n",
       "      <td>409043</td>\n",
       "      <td>제주특별자치도 제주시</td>\n",
       "    </tr>\n",
       "    <tr>\n",
       "      <th>2898</th>\n",
       "      <td>제주특별자치도</td>\n",
       "      <td>서귀포시</td>\n",
       "      <td>2022</td>\n",
       "      <td>0.147352</td>\n",
       "      <td>0.219388</td>\n",
       "      <td>0.379630</td>\n",
       "      <td>0.067312</td>\n",
       "      <td>0.219217</td>\n",
       "      <td>0.079190</td>\n",
       "      <td>0.178126</td>\n",
       "      <td>0.112893</td>\n",
       "      <td>156596</td>\n",
       "      <td>제주특별자치도 서귀포시</td>\n",
       "    </tr>\n",
       "  </tbody>\n",
       "</table>\n",
       "<p>892 rows × 13 columns</p>\n",
       "</div>"
      ],
      "text/plain": [
       "     행정구역(시도) 행정구역(시군구)    연도   총인구수(명)     유치원 수    초등학교 수      출생건수  \\\n",
       "2007    서울특별시       종로구  2019  0.119306  0.076531  0.083333  0.054065   \n",
       "2008    서울특별시        중구  2019  0.098264  0.061224  0.074074  0.063173   \n",
       "2009    서울특별시       용산구  2019  0.184126  0.056122  0.101852  0.107137   \n",
       "2010    서울특별시       성동구  2019  0.244624  0.142857  0.157407  0.179748   \n",
       "2011    서울특별시       광진구  2019  0.286894  0.158163  0.166667  0.160374   \n",
       "...       ...       ...   ...       ...       ...       ...       ...   \n",
       "2894     경상남도       함양군  2022  0.024160  0.051020  0.083333  0.004637   \n",
       "2895     경상남도       거창군  2022  0.043158  0.071429  0.120370  0.012833   \n",
       "2896     경상남도       합천군  2022  0.027874  0.066327  0.120370  0.006375   \n",
       "2897  제주특별자치도       제주시  2022  0.405879  0.367347  0.601852  0.227356   \n",
       "2898  제주특별자치도      서귀포시  2022  0.147352  0.219388  0.379630  0.067312   \n",
       "\n",
       "          사망건수      혼인건수      이혼건수   학령인구(명)  총인구수-학령인구(명)          행정구역  \n",
       "2007  0.118948  0.067790  0.096904  0.076697        131919     서울특별시 종로구  \n",
       "2008  0.090705  0.083798  0.084841  0.049806        113340      서울특별시 중구  \n",
       "2009  0.156754  0.154257  0.141938  0.108666        201524     서울특별시 용산구  \n",
       "2010  0.195906  0.209435  0.204664  0.149069        263917     서울특별시 성동구  \n",
       "2011  0.198296  0.225806  0.229996  0.185660        305479     서울특별시 광진구  \n",
       "...        ...       ...       ...       ...           ...           ...  \n",
       "2894  0.091154  0.007155  0.016486  0.014050         33573      경상남도 함양군  \n",
       "2895  0.111476  0.016008  0.030157  0.032195         51839      경상남도 거창군  \n",
       "2896  0.125672  0.007034  0.020909  0.010966         38757      경상남도 합천군  \n",
       "2897  0.481620  0.242906  0.435464  0.343861        409043   제주특별자치도 제주시  \n",
       "2898  0.219217  0.079190  0.178126  0.112893        156596  제주특별자치도 서귀포시  \n",
       "\n",
       "[892 rows x 13 columns]"
      ]
     },
     "execution_count": 29,
     "metadata": {},
     "output_type": "execute_result"
    }
   ],
   "source": [
    "prediction_df"
   ]
  },
  {
   "cell_type": "code",
   "execution_count": 30,
   "metadata": {
    "collapsed": false,
    "pycharm": {
     "name": "#%%\n"
    }
   },
   "outputs": [],
   "source": [
    "predict_sequences = create_sequence_data(prediction_df, sequence_length = 3)"
   ]
  },
  {
   "cell_type": "code",
   "execution_count": 31,
   "metadata": {
    "collapsed": false,
    "pycharm": {
     "name": "#%%\n"
    }
   },
   "outputs": [
    {
     "data": {
      "text/plain": [
       "array([[[0.11930613, 0.07653061, 0.08333333, ..., 0.06779044,\n",
       "         0.0969039 , 0.07669724],\n",
       "        [0.11770949, 0.07653061, 0.08333333, ..., 0.06475867,\n",
       "         0.10052272, 0.07237575],\n",
       "        [0.11377152, 0.07142857, 0.08333333, ..., 0.0542081 ,\n",
       "         0.07438681, 0.06836676],\n",
       "        [0.11100379, 0.07142857, 0.08333333, ..., 0.05517827,\n",
       "         0.07559308, 0.0646867 ]],\n",
       "\n",
       "       [[0.09826423, 0.06122449, 0.07407407, ..., 0.08379821,\n",
       "         0.08484117, 0.04980613],\n",
       "        [0.09748434, 0.06122449, 0.07407407, ..., 0.07543051,\n",
       "         0.0969039 , 0.04750353],\n",
       "        [0.09518823, 0.06122449, 0.07407407, ..., 0.06779044,\n",
       "         0.08604745, 0.0447733 ],\n",
       "        [0.09346092, 0.06122449, 0.07407407, ..., 0.05821004,\n",
       "         0.07438681, 0.04228977]],\n",
       "\n",
       "       [[0.18412647, 0.05612245, 0.10185185, ..., 0.15425661,\n",
       "         0.14193808, 0.10866642],\n",
       "        [0.1852741 , 0.05612245, 0.10185185, ..., 0.13873393,\n",
       "         0.1367109 , 0.1055538 ],\n",
       "        [0.17933741, 0.05612245, 0.10185185, ..., 0.11690517,\n",
       "         0.13389626, 0.09938611],\n",
       "        [0.17573283, 0.05612245, 0.10185185, ..., 0.11120543,\n",
       "         0.11298754, 0.0943615 ]],\n",
       "\n",
       "       ...,\n",
       "\n",
       "       [[0.03043909, 0.06632653, 0.12037037, ..., 0.0112782 ,\n",
       "         0.03015682, 0.01470377],\n",
       "        [0.02943554, 0.06632653, 0.12037037, ..., 0.00618482,\n",
       "         0.02694009, 0.01340444],\n",
       "        [0.02853838, 0.06632653, 0.12037037, ..., 0.00521465,\n",
       "         0.02452754, 0.01190775],\n",
       "        [0.02787409, 0.06632653, 0.12037037, ..., 0.00703371,\n",
       "         0.02090873, 0.01096615]],\n",
       "\n",
       "       [[0.40254121, 0.39285714, 0.59259259, ..., 0.29420325,\n",
       "         0.49095296, 0.36162794],\n",
       "        [0.40510538, 0.3877551 , 0.59259259, ..., 0.26473442,\n",
       "         0.50140732, 0.35797256],\n",
       "        [0.40563312, 0.3877551 , 0.59259259, ..., 0.23065729,\n",
       "         0.42139123, 0.35286571],\n",
       "        [0.40587856, 0.36734694, 0.60185185, ..., 0.24290565,\n",
       "         0.43546441, 0.34386089]],\n",
       "\n",
       "       [[0.14468306, 0.21428571, 0.37962963, ..., 0.1055057 ,\n",
       "         0.18375553, 0.11412277],\n",
       "        [0.14517311, 0.21938776, 0.37962963, ..., 0.0892554 ,\n",
       "         0.18455971, 0.11389662],\n",
       "        [0.14642462, 0.21938776, 0.37962963, ..., 0.08452583,\n",
       "         0.16244471, 0.11442293],\n",
       "        [0.14735194, 0.21938776, 0.37962963, ..., 0.07918991,\n",
       "         0.17812626, 0.11289334]]])"
      ]
     },
     "execution_count": 31,
     "metadata": {},
     "output_type": "execute_result"
    }
   ],
   "source": [
    "predict_sequences"
   ]
  },
  {
   "cell_type": "code",
   "execution_count": 32,
   "metadata": {
    "collapsed": false,
    "pycharm": {
     "name": "#%%\n"
    }
   },
   "outputs": [],
   "source": [
    "# 데이터셋 분리\n",
    "predict_X = predict_sequences[:, :-1]\n",
    "predict_y = predict_sequences[:, -1][:, -1]"
   ]
  },
  {
   "cell_type": "code",
   "execution_count": 33,
   "metadata": {
    "collapsed": false,
    "pycharm": {
     "name": "#%%\n"
    }
   },
   "outputs": [
    {
     "data": {
      "text/plain": [
       "array([[[0.11930613, 0.07653061, 0.08333333, ..., 0.06779044,\n",
       "         0.0969039 , 0.07669724],\n",
       "        [0.11770949, 0.07653061, 0.08333333, ..., 0.06475867,\n",
       "         0.10052272, 0.07237575],\n",
       "        [0.11377152, 0.07142857, 0.08333333, ..., 0.0542081 ,\n",
       "         0.07438681, 0.06836676]],\n",
       "\n",
       "       [[0.09826423, 0.06122449, 0.07407407, ..., 0.08379821,\n",
       "         0.08484117, 0.04980613],\n",
       "        [0.09748434, 0.06122449, 0.07407407, ..., 0.07543051,\n",
       "         0.0969039 , 0.04750353],\n",
       "        [0.09518823, 0.06122449, 0.07407407, ..., 0.06779044,\n",
       "         0.08604745, 0.0447733 ]],\n",
       "\n",
       "       [[0.18412647, 0.05612245, 0.10185185, ..., 0.15425661,\n",
       "         0.14193808, 0.10866642],\n",
       "        [0.1852741 , 0.05612245, 0.10185185, ..., 0.13873393,\n",
       "         0.1367109 , 0.1055538 ],\n",
       "        [0.17933741, 0.05612245, 0.10185185, ..., 0.11690517,\n",
       "         0.13389626, 0.09938611]],\n",
       "\n",
       "       ...,\n",
       "\n",
       "       [[0.03043909, 0.06632653, 0.12037037, ..., 0.0112782 ,\n",
       "         0.03015682, 0.01470377],\n",
       "        [0.02943554, 0.06632653, 0.12037037, ..., 0.00618482,\n",
       "         0.02694009, 0.01340444],\n",
       "        [0.02853838, 0.06632653, 0.12037037, ..., 0.00521465,\n",
       "         0.02452754, 0.01190775]],\n",
       "\n",
       "       [[0.40254121, 0.39285714, 0.59259259, ..., 0.29420325,\n",
       "         0.49095296, 0.36162794],\n",
       "        [0.40510538, 0.3877551 , 0.59259259, ..., 0.26473442,\n",
       "         0.50140732, 0.35797256],\n",
       "        [0.40563312, 0.3877551 , 0.59259259, ..., 0.23065729,\n",
       "         0.42139123, 0.35286571]],\n",
       "\n",
       "       [[0.14468306, 0.21428571, 0.37962963, ..., 0.1055057 ,\n",
       "         0.18375553, 0.11412277],\n",
       "        [0.14517311, 0.21938776, 0.37962963, ..., 0.0892554 ,\n",
       "         0.18455971, 0.11389662],\n",
       "        [0.14642462, 0.21938776, 0.37962963, ..., 0.08452583,\n",
       "         0.16244471, 0.11442293]]])"
      ]
     },
     "execution_count": 33,
     "metadata": {},
     "output_type": "execute_result"
    }
   ],
   "source": [
    "predict_X"
   ]
  },
  {
   "cell_type": "code",
   "execution_count": 34,
   "metadata": {
    "collapsed": false,
    "pycharm": {
     "name": "#%%\n"
    }
   },
   "outputs": [
    {
     "data": {
      "text/plain": [
       "array([0.0646867 , 0.04228977, 0.0943615 , 0.12830434, 0.15947583,\n",
       "       0.15883439, 0.16461557, 0.24233665, 0.12972702, 0.15108777,\n",
       "       0.30837202, 0.23509578, 0.15474316, 0.18207835, 0.29678088,\n",
       "       0.28152613, 0.18906017, 0.08767162, 0.16144538, 0.18147802,\n",
       "       0.18175351, 0.27697027, 0.3614059 , 0.38045172, 0.25540803,\n",
       "       0.009416  , 0.04527905, 0.028873  , 0.04217464, 0.16244865,\n",
       "       0.1642414 , 0.14601382, 0.14327948, 0.23125537, 0.15606715,\n",
       "       0.10859652, 0.09932032, 0.10466976, 0.07429596, 0.09146269,\n",
       "       0.12256839, 0.03697734, 0.06128214, 0.2704243 , 0.29997574,\n",
       "       0.3362623 , 0.1716344 , 0.08852687, 0.02713782, 0.28344634,\n",
       "       0.30803074, 0.2613249 , 0.15410583, 0.39705514, 0.0252135 ,\n",
       "       0.00473267, 0.05073539, 0.18616547, 0.14384691, 0.26654688,\n",
       "       0.32210129, 0.12451738, 0.12817687, 0.3070398 , 0.24994757,\n",
       "       0.09525787, 0.12212843, 0.18612435, 0.10066076, 0.16010904,\n",
       "       0.13690209, 0.75345699, 0.54618158, 0.2699021 , 0.32085953,\n",
       "       0.43146672, 0.18372717, 0.36621259, 0.04946896, 0.38226091,\n",
       "       0.6552633 , 0.04884808, 0.10927497, 0.51244845, 0.16300786,\n",
       "       0.33941604, 0.15727191, 0.09089115, 0.2082869 , 0.78011373,\n",
       "       0.33542349, 0.14093165, 0.11126507, 0.34596202, 0.69734337,\n",
       "       0.23134172, 0.16022417, 0.07005259, 0.01661986, 0.02522584,\n",
       "       0.0595963 , 0.17186877, 0.22430233, 0.1136787 , 0.0513645 ,\n",
       "       0.01901292, 0.04362611, 0.0304067 , 0.02767236, 0.01776705,\n",
       "       0.01400476, 0.01409933, 0.01190775, 0.01962558, 0.00857309,\n",
       "       0.00912407, 0.01277122, 0.00794809, 0.00838394, 0.55555647,\n",
       "       0.11440648, 0.07161096, 0.00959281, 0.0202259 , 0.01654585,\n",
       "       0.05191548, 0.00909939, 0.04409896, 0.00791931, 0.0192843 ,\n",
       "       0.44702162, 0.04953064, 0.04682508, 0.23993947, 0.10871988,\n",
       "       0.05567777, 0.03535729, 0.02137309, 0.0243048 , 0.01733531,\n",
       "       0.00968738, 0.05696065, 0.03116738, 0.02332208, 0.44891305,\n",
       "       0.16478415, 0.1666509 , 0.05365065, 0.0399625 , 0.03463773,\n",
       "       0.05078062, 0.00667344, 0.00791931, 0.0067639 , 0.00681735,\n",
       "       0.00976139, 0.0211305 , 0.01918562, 0.14899898, 0.1620128 ,\n",
       "       0.1859681 , 0.06323113, 0.0986501 , 0.01614289, 0.00802622,\n",
       "       0.00779596, 0.01910749, 0.01186252, 0.03059173, 0.01320707,\n",
       "       0.01157058, 0.02773403, 0.02403342, 0.06175911, 0.00896371,\n",
       "       0.02209677, 0.01715028, 0.01923496, 0.01031648, 0.00932965,\n",
       "       0.29806787, 0.12721883, 0.07614626, 0.08251954, 0.29030892,\n",
       "       0.05120414, 0.03914014, 0.04296   , 0.03137297, 0.15399892,\n",
       "       0.00266033, 0.01064543, 0.0042187 , 0.00268089, 0.00937488,\n",
       "       0.0104275 , 0.00869233, 0.0104604 , 0.06987578, 0.0274791 ,\n",
       "       0.00788642, 0.01904171, 0.        , 0.63488526, 0.22215598,\n",
       "       0.0754966 , 0.06170565, 0.38457174, 0.04409896, 0.18216469,\n",
       "       0.23272739, 0.0059292 , 0.03179648, 0.0213402 , 0.0213772 ,\n",
       "       0.01393075, 0.01284112, 0.00909939, 0.01404999, 0.03219533,\n",
       "       0.01096615, 0.34386089, 0.11289334])"
      ]
     },
     "execution_count": 34,
     "metadata": {},
     "output_type": "execute_result"
    }
   ],
   "source": [
    "predict_y"
   ]
  },
  {
   "cell_type": "code",
   "execution_count": 35,
   "metadata": {
    "collapsed": false,
    "pycharm": {
     "name": "#%%\n"
    }
   },
   "outputs": [],
   "source": [
    "from tensorflow.keras.models import load_model\n",
    "\n",
    "# Load the best model\n",
    "best_model = load_model('best_model(seq_len_3).h5')"
   ]
  },
  {
   "cell_type": "code",
   "execution_count": 36,
   "metadata": {
    "collapsed": false,
    "pycharm": {
     "name": "#%%\n"
    }
   },
   "outputs": [
    {
     "name": "stdout",
     "output_type": "stream",
     "text": [
      "7/7 [==============================] - 0s 1ms/step\n"
     ]
    },
    {
     "data": {
      "image/png": "[encoded data removed]",
      "text/plain": [
       "<Figure size 640x480 with 1 Axes>"
      ]
     },
     "metadata": {},
     "output_type": "display_data"
    },
    {
     "name": "stdout",
     "output_type": "stream",
     "text": [
      "Mean Squared Error: 453073.11\n",
      "Mean Absolute Percentage Error (MAPE): 2.35%\n"
     ]
    }
   ],
   "source": [
    "# 예측\n",
    "predicted_data = best_model.predict(predict_X)\n",
    "\n",
    "# 예측 결과 역전환\n",
    "#predicted_data = scaler.inverse_transform(predicted_data)\n",
    "predicted_data = invTransform(scaler, predicted_data, '학령인구(명)', use_cols).reshape(-1, 1)\n",
    "predicted_data = predicted_data.round()\n",
    "#y_true = scaler.inverse_transform(y_test.reshape(-1, 1))\n",
    "y_true = invTransform(scaler, predict_y, '학령인구(명)', use_cols).reshape(-1, 1)\n",
    "\n",
    "# 결과 시각화\n",
    "plt.plot(range(len(y_true)), y_true, label='True')\n",
    "plt.plot(range(len(predicted_data)), predicted_data, label='Predicted', linestyle='--')\n",
    "plt.xlabel('Test Case')\n",
    "plt.ylabel('School_Age_Population')\n",
    "plt.legend()\n",
    "plt.show()\n",
    "\n",
    "# 모델 평가\n",
    "mse = mean_squared_error(y_true, predicted_data)\n",
    "print(f'Mean Squared Error: {mse:.2f}')\n",
    "\n",
    "# MAPE 계산 함수\n",
    "def calculate_mape(y_true, y_pred):\n",
    "    return np.mean(np.abs((y_true - y_pred) / y_true)) * 100\n",
    "\n",
    "# MAPE 계산\n",
    "mape = calculate_mape(y_true, predicted_data)\n",
    "print(f'Mean Absolute Percentage Error (MAPE): {mape:.2f}%')"
   ]
  },
  {
   "cell_type": "code",
   "execution_count": null,
   "metadata": {},
   "outputs": [],
   "source": []
  }
 ],
 "metadata": {
  "kernelspec": {
   "display_name": "Python 3",
   "language": "python",
   "name": "python3"
  },
  "language_info": {
   "codemirror_mode": {
    "name": "ipython",
    "version": 3
   },
   "file_extension": ".py",
   "mimetype": "text/x-python",
   "name": "python",
   "nbconvert_exporter": "python",
   "pygments_lexer": "ipython3",
   "version": "3.9.6"
  }
 },
 "nbformat": 4,
 "nbformat_minor": 0
}
